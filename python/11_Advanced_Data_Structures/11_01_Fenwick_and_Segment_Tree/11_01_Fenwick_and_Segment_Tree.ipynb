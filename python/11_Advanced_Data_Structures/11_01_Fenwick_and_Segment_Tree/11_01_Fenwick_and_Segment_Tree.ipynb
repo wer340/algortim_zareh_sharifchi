{
 "cells": [
  {
   "cell_type": "markdown",
   "metadata": {},
   "source": [
    "<div style=\"direction:rtl;line-height:300%;\"><font face=\"XB Zar\" size=5>\n",
    "<div style=\"direction:rtl;line-height:300%;\"><font face=\"XB Zar\" size=5>\n",
    "<div align=center>\n",
    "<font face=\"IranNastaliq\" size=30>\n",
    "<p></p>\n",
    "به نام خدا\n",
    "</font>\n",
    "<br>\n",
    "<font color=#FF7500>\n",
    "دانشگاه صنعتی شریف - دانشکده مهندسی کامپیوتر\n",
    "</font>\n",
    "<br>\n",
    "<font color=blue>\n",
    "داده‌ساختارها و الگوریتم‌ها\n",
    "</font>\n",
    "<br>\n",
    "ترم دوم سال تحصیلی ۱۳۹۸-۱۳۹۷\n",
    "</div>\n",
    "<hr/>\n",
    "<font color=red size=6>\n",
    "<p></p>\n",
    "\n",
    "<div align=center>فصل یازدهم: درخت فنویک و درخت بازه</div>\n",
    "</font>\n",
    "<div align=center>\n",
    "امیرحسین پویا، آریا کوثری، علی شریفی</div>\n",
    "<hr>\n",
    "</font></div>\n",
    "\n",
    "\n",
    "<style type=\"text/css\" scoped>\n",
    "p{\n",
    "border: 1px solid #a2a9b1;background-color: #f8f9fa;display: inline-block;\n",
    "};\n",
    "</style>\n",
    "\n",
    "<div>\n",
    "<h3> فهرست محتویات</h3>\n",
    "<ul style=\"margin-right: 0;\">\n",
    "<li><a href=\"#fenwick\">درخت فنویک</a></li>\n",
    "<li><a href=\"#fenwickCode\">پیاده سازی درخت فنویک</a></li>\n",
    "<li><a href=\"#segment\">درخت بازه</a></li>\n",
    "<li><a href=\"#ayatollahGhatleAam\">پیاده سازی درخت بازه</a></li>\n",
    "</ul>\n",
    "</div>"
   ]
  },
  {
   "cell_type": "markdown",
   "metadata": {},
   "source": [
    " <div style=\"direction:rtl;line-height:300%;\"><font face=\"XB Zar\" size=5>\n",
    "<h1><font  id=\"fenwick\" color=#FF7500 size=6>\n",
    "درخت فنویک (Fenwick Tree)\n",
    "</font></h1><p></p>\n",
    "فرض کنید می‌خواهیم مساله زیر را حل کنیم:\n",
    "<br>\n",
    "آرایه ای $n$ عضوی مانند $A[1..n]$ داریم و هر مرحله یکی از دو عملیات زیر را انجام دهد:\n",
    "<ul style=\"margin-right: 0;\">\n",
    "<li>یکی از اعضای آرایه را تغییر دهد.</li>\n",
    "<li>جمع اعضای یک بازه از اعضای آرایه را به عنوان خروجی بدهد، یعنی یک $i$ و $j$ بگیرد و $a[i] + a[i+1] +\\dots + a[j]$ را خروجی بدهد.</li>\n",
    "</ul>\n",
    " یک راه حل ساده برای این مساله به این صورت است که اعداد را در یک آرایه ذخیره می‌کنیم و طبق معمول با $O(1)$ اعداد را عوض کرده و با $O(n)$ جمع اعداد یک زیر آرایه از آن را پیدا می‌کنیم.\n",
    " <br>\n",
    " همان طور که مشخص است با این راه حل در $m$ مرحله از $O(nm)$ عملیات لازم است.\n",
    " حال می‌خواهیم کاری کنیم که به جای این در $O(m\\lg n)$ عملیات کارمان را انجام دهیم.\n",
    " <br>\n",
    " برای این کار به داده ساختاری نیاز داریم که هم تعویض اعضا و هم جمع کردن اعضای یک زیرآرایه را در $O(\\log n)$ انجام دهد. \n",
    " درخت فنویک یا درخت دودویی-اندیس گذاری شده(درختی که اندیس هایش دودویی هستند) این نیاز را برآورده می‌کند.\n",
    " <br>\n",
    " دقت کنید هر بازه که سرش در نقطه ی اول آرایه نباشد را می‌توان به صورت اختلاف دو بازه که سرشان در نقطه اول آرایه است نوشت یعنی:\n",
    " $Sum[a..\\ b] = Sum[1..\\ b]-Sum[1..\\ a-1]$. پس کافیست تنها بازه هایی بررسی شود که یک سرشان در نقطه اول آرایه است چرا که بقیه بازه ها نیز با استفاده از این بازه ها در $O(1)$ به دست می‌آیند.\n",
    "<h2><font color=#FF7500 size=5>\n",
    "ساختار درخت فنویک\n",
    "</font></h2><p></p>\n",
    " هر عدد طبیعی به طور یکتا به صورت جمع توان های دو قابل بیان است. از طرفی هر بازه که یک سرش در 1 است را نیز میتوان به صورت جمع بازه هایی مجزا با طول هایی که توانی از دو هستند نوشت. برای مثال:\n",
    " $$Sum[1..13]=Sum[1..8]+Sum[9..12]+Sum[13..13]$$\n",
    " فرض کنید $r$ کوچکترین عددی باشد که بیت $r$ ام عدد $x$ برابر 1 باشد. آرایه $BIT\\ (Binary\\ Indexed\\ Tree)$ را به شکل زیر تعریف می‌کنیم:\n",
    " <ul>\n",
    " <li>\n",
    " $BIT[x]=sum[x-2^r+1..\\ x]$\n",
    " </li>\n",
    " <li>\n",
    " $BIT[0]=0$\n",
    " </li>\n",
    " </ul>\n",
    "<div style=\"text-align:center\">\n",
    "    <img src=\"src/images/BIT.jpg\">\n",
    "    <font size=3> شکل1: نحوه ی تعریف آرایه $BIT$ <a href=\"#ref1\">[1]</a></font>\n",
    "</div>\n",
    "دقت داشته باشید در تعریف آرایه $BIT$ هدف این بوده که آرایه طوری باشد که زیرآرایه $i$ ام به $i$ ختم شود و طول آن برابر با کم ارزش ترین رقم 1 موجود در بسط مبنای دوی $i$ باشد. مثلا در $12 = (1100)_2 = 1  \\times 2^3+ 1 \\times 2^2 + 0 \\times 2^1 + 0 \\times 2^0$ این کم ارزش ترین رقم مربوط به ضریب $2^2$ است بنابرین طول زیرآرایه منتهی به 12 برابر است با $2^2$.\n",
    "<br>\n",
    "انگیزه ی ما از این کار این است که هر زیرآرایه ای که از 1 آغاز شود را بتوان به صورت جمع تعداد محدودی (از $O(\\log n)$) عضو از آرایه ی $BIT$ بدون نیاز به محاسبه ی سخت نوشت. این نیز به دلیل نحوه ی تعریف آرایه به راحتی به دست آمد چرا که کافیست طول زیرآرایه را به صورت عددی در مبنای دو نوشت و توان های دوی تشکیل دهنده ی آن را به ترتیب جمع کرد تا به جمع کل زیرآرایه برسیم. مثلا:\n",
    "$$Sum[1..13]=BIT[8]+BIT[12]+BIT[13]$$\n",
    " رابطه ی فوق دقیقا معادل رابطه ی \n",
    "$$Sum[1..13]=Sum[1..8]+Sum[9..12]+Sum[13..13]$$\n",
    "است.(چرا؟)\n",
    "</font><p></p>\n",
    "\n",
    "</div>"
   ]
  },
  {
   "cell_type": "markdown",
   "metadata": {},
   "source": [
    "<div style=\"direction:rtl;line-height:300%;\"><font face=\"XB Zar\" size=5>\n",
    "<h1><font color=#FF7500 id=\"fenwickCode\" size=6>\n",
    "پیاده سازی درخت فنویک\n",
    "</font></h1><p></p>\n",
    "<h2><font color=#FF7500 size=5>\n",
    "یافتن کم ارزش ترین بیت 1\n",
    "</font></h2><p></p>\n",
    "در پیاده سازی درخت فنویک نیاز زیادی به داشتن کم ارزش ترین بیت 1 در نمایش دودویی اندیس ها داریم. برای عدد \n",
    "$x$ \n",
    "با محاسبه ی\n",
    "$x\\land-x$\n",
    "می توان آن را در $O(1)$ به دست آورد.\n",
    "<br>\n",
    "اثبات:\n",
    "فرض کنید $\\overline{x}$ نشانگر معکوس منطقی یا همان $not(x)$باشد . <br>\n",
    "اگر نمایش دودویی \n",
    "$x$ \n",
    "را به صورت\n",
    "$a1b$ \n",
    "بدانیم که \n",
    "$b$ \n",
    "فقط شامل بیت های 0 باشد و در نتیجه 1 بیت مورد نظر ما باشد،\n",
    "$$-x= \\overline{x}+1 = \\overline{a1b} +1 = \\overline{a}0 \\overline{(0...0)}+1=\\overline{a}0(1...1)+1=\\overline{a}1(0...0)=\\overline{a}1b$$\n",
    "پس\n",
    "$$x\\land -x=a1b \\land \\overline{a}1b=1b$$\n",
    "به عنوان مثال برای $x=12=(1100)_2$:\n",
    "$$x\\land -x=(1100)_2 \\land (0100)_2 = (100)_2=4$$\n",
    "<p></p>\n",
    "</font></div>"
   ]
  },
  {
   "cell_type": "markdown",
   "metadata": {},
   "source": [
    "<div style=\"direction:rtl;line-height:300%;\"><font face=\"XB Zar\" size=5>\n",
    "<h2><font color=#FF7500 size=5>\n",
    "پیاده سازی\n",
    "</font></h2><p></p>\n",
    "توابع موجود در پیاده سازی زیر:\n",
    "<ul>\n",
    "<li>$add(ind,v)$: مقدار $v$ را به عنصر $ind$ ام لیست اضافه می‌کند. (در $O(\\lg n)$)</li>\n",
    "<li>$sum(ind)$: جمع اعداد عنصر اول تا $ind$ ام لیست را برمی گرداند. (در $O(\\lg n)$)</li>\n",
    "</ul>\n",
    "<p></p>\n",
    "</font></div>"
   ]
  },
  {
   "cell_type": "code",
   "execution_count": 1,
   "metadata": {
    "collapsed": true
   },
   "outputs": [],
   "source": [
    "class FenwickTree:\n",
    "    def __init__(self, arr):\n",
    "        self.n = len(arr)\n",
    "        self.BIT = [0] * (self.n + 1)\n",
    "        for i in range(self.n):\n",
    "            self.add(i + 1, arr[i])\n",
    "            \n",
    "    def add(self, ind, v):\n",
    "        while(ind <= self.n):\n",
    "            self.BIT[ind] += v\n",
    "            ind += ind&(-ind)\n",
    "    \n",
    "    def sum(self, ind):\n",
    "        s = 0\n",
    "        while(ind>0):\n",
    "            s += self.BIT[ind]\n",
    "            ind -= ind & (-ind)\n",
    "        return s\n",
    "        "
   ]
  },
  {
   "cell_type": "code",
   "execution_count": 2,
   "metadata": {},
   "outputs": [
    {
     "name": "stdout",
     "output_type": "stream",
     "text": [
      "10\n",
      "8\n"
     ]
    }
   ],
   "source": [
    "#Example\n",
    "\n",
    "ft=FenwickTree([1,2,3,4,5,7,8])\n",
    "print(ft.sum(4))\n",
    "ft.add(3,2) #Updates Third Element of FenwickTree (3)\n",
    "print(ft.sum(3))"
   ]
  },
  {
   "cell_type": "markdown",
   "metadata": {},
   "source": [
    " <div style=\"direction:rtl;line-height:300%;\"><font face=\"XB Zar\" size=5>\n",
    "<h1><font  id=\"segment\" color=#FF7500 size=6>\n",
    "درخت بازه (Segment Tree)\n",
    "</font></h1><p></p>\n",
    "حال فرض کنید می‌خواهیم ساختاری داشته باشیم که بر روی آرایه $A[0..n-1]$ دو عملیات زیر را انجام دهد:\n",
    "<ul style=\"margin-right: 0;\">\n",
    "<li>به تمامی اعضای یک بازه از آرایه مقداری را اضافه کند.</li>\n",
    "<li>جمع عناصر یک بازه از آرایه را خروجی دهد. </li>\n",
    "</ul>\n",
    "دقت کنید که دیگر نمی توان از داده ساختار فنویک برای حل این مسئله استفاده کرد (چرا؟). بنابراین نیاز به داده ساختار قوی تری داریم که از ایده ای شبیه به ایده درخت فنویک بهره می‌جوید. این داده ساختار <b> درخت بازه </b> نام دارد. \n",
    "<h2><font color=#FF7500 size=5>\n",
    "ساختار درخت بازه\n",
    "</font></h2><p></p>\n",
    "درخت بازه درختی دودویی است که به در آن هر گره معادل یک بازه از آرایه اصلی می‌باشد. به این ترتیب:\n",
    "<ul  style=\"margin-right: 0;\">\n",
    "<li> ریشه معادل کل آرایه یعنی$A[0..n)$ است.</li>\n",
    "<li> برای هر گره معادل با $A[l..r)$، اگر قرار دهیم $mid=\\frac{l+r}{2}$، بچه چپ آن معادل با $A[l..mid)$ و بچه راست آن معادل با $A[mid..r)$ می‌باشد.\n",
    "<li> هر برگ معادل با یک بازه تک عضوی یا به عبارتی یک عنصر آرایه است. </li>\n",
    "</ul>\n",
    "<div style=\"text-align:center\">\n",
    "    <img src=\"src/images/segmenttree.jpg\"/>\n",
    "    <font size=3> شکل2:مثالی از درخت بازه یک آرایه سیزده عضوی <a href=\"#ref2\">[2]</a></font>\n",
    "</div>\n",
    " سوالی که پیش می‌آید این است که این ساختار چگونه می‌تواند برای حل این مساله به ما کمک کند. دقت کنید که مشابه فنویک، می‌توان هر بازه را به صورت اجتماع مجزای تعدادی بازه از بازه‌های درخت بازه نوشت. برای مثال در شکل بالا بازه‌ی $[3, 8]$ را می‌توان به صورت اجتماع بازه های $[3]$، $[4,6]$و $[7,8]$ نوشت.\n",
    " <br>\n",
    " حال دقت کنید که هنگام نوشتن یک بازه به طور اجتماع مجزای اعضای درخت، می‌توان اعضا را طوری انتخاب کرد که هیچ سه عضو انتخاب شده‌ای هم ارتفاع نباشند. پس اگر ارتفاع درخت برابر $h$ باشد حداکثر تعداد اعضای استفاده شده برابر $2h$ است و با توجه به این‌که $h\\in O(\\lg n)$ (چرا؟) پس حداکثر تعداد اعضای درخت استفاده شده از $O(\\lg n)$ است. بنابراین حدس می‌زنیم که بتوان در $O(\\lg n)$ به یک بازه به طور کامل دسترسی یافت. این را در ادامه می‌گوییم.(چرا این که تعداد بازه‌ها از $O(\\lg n)$ است برای بیان اثبات این حکم کافی نیست؟) \n",
    "</font><p></p>\n",
    "</div>"
   ]
  },
  {
   "cell_type": "markdown",
   "metadata": {},
   "source": [
    "<div style=\"direction:rtl;line-height:300%;\"><font face=\"XB Zar\" size=5>\n",
    "<h1><font color=#FF7500 id=\"ayatollahGhatleAam\" size=6>\n",
    "پیاده سازی درخت بازه\n",
    "</font></h1><p></p>\n",
    "درخت بازه را معمولا با آرایه و به صورت $1-based$ پیاده سازی می‌کنند.\n",
    "<div style=\"text-align:center\">\n",
    "    <img src=\"src/images/segmentarray.jpg\"/>\n",
    "    <font size=3> شکل3: درخت بازه در قالب یک آرایه <a href=\"#ref3\">[3]</a></font>\n",
    "</div>\n",
    "درخت بازه پیاده سازی مشخصی ندارد و درخت بازه پایین مختص مسئله بالا (جمع بازه ها) است. \n",
    "در صورتی که به جای جمع بازه تابع شرکت پذیر دیگری (مثلا مینیمم یا ب م م) مد نظر بود می‌توان پیاده سازی مشابهی برای آن انجام داد.\n",
    "<br>\n",
    "توجه داشته باشید که در پیاده سازی زیر همه بازه ها به صورت $[l,r)$ و $[st,e)$ در نظر گرفته شده اند.\n",
    "<h2><font color=#FF7500 size=5>\n",
    "تقسیم یک بازه به زیربازه های مجزای موجود در درخت بازه\n",
    "</font></h2><p></p>\n",
    "  در درخت بازه نیاز زیادی به تقسیم بازه ورودی به زیربازه های موجود در درخت داریم. روشی بهینه برای این کار به این صورت است که بازه ورودی را در نظر گرفته و به ریشه برویم. سپس به صورت بازگشتی:\n",
    "  <ol style=\"margin-right: 0;\">\n",
    "  <li> اگر بازه معادل راس فعلی زیربازه ی بازه ورودی بود آن را یکی از زیربازه های مورد نظر در نظر میگیریم.</li>\n",
    "  <li>  اگر بازه معادل راس فعلی هیچ اشتراکی با بازه ورودی نداشت کاری نمی کنیم. </li>\n",
    "  <li> در صورت برقرار نبودن هیچیک از دو شرط فوق، به صورت بازگشتی به بچه های راس می رویم. </li>\n",
    "  </ol>\n",
    "  در هر سطح از درخت حداکثر برای دو راس مرزی حالت 3 رخ می دهد؛ پس در کل در $O(\\lg n)$ تقسیم مورد نظر انجام می شود. در توابع به روز رسانی و خروجی گیری درخت در پایین از این روش استفاده شده است.\n",
    " <div style=\"text-align:center\">\n",
    "    <img src=\"src/images/segmentdivide.jpg\"/>\n",
    "    <font size=3>شکل4: تقسیم کردن بازه $[3,8]$ به زیربازه های مجزای موجود در درخت با روش فوق، در درخت بازه شکل 1</font>\n",
    "</div>\n",
    "\n",
    "<h2><font color=#FF7500 size=5>\n",
    "ساخت درخت\n",
    "</font></h2><p></p>\n",
    "مقدار هر عنصر آرایه را در برگ معادلش قرار می‌دهیم و سپس مقدار معادل هر راس دیگر را برابر جمع مقدار بچه هایش قرار می‌دهیم. مقدار هر راس در $O(1)$ مشخص می‌شود، پس پیچیدگی کل از $O(n)$ است. \n",
    "<br>\n",
    "در پیاده سازی زیر، این تابع علاوه بر کار فوق بازه های مربوط به هر اندیس آرایه را برای استفاده های بعدی ذخیره می کند.\n",
    "<p></p>\n",
    "</font></div>"
   ]
  },
  {
   "cell_type": "code",
   "execution_count": 3,
   "metadata": {
    "collapsed": true
   },
   "outputs": [],
   "source": [
    "class Segment_Tree:\n",
    "    def __init__(self, arr):\n",
    "        self.n = len(arr)\n",
    "        self.l = [0] * (4 * self.n + 4) #left of segments\n",
    "        self.r = [0] * (4 * self.n + 4) #right of segments\n",
    "        self.lazy=[0] * (4 * self.n + 4) #Explained later\n",
    "        self.sum=[0] * (4 * self.n + 4) #The real tree\n",
    "        self.make_tree(arr, 0, self.n, 1)\n",
    "        \n",
    "    def make_tree(self, arr, l, r, ind):\n",
    "        self.l[ind] = l \n",
    "        self.r[ind] = r\n",
    "        if r <= l+1:\n",
    "            self.sum[ind] = arr[l]\n",
    "            return\n",
    "        mid=(l + r) // 2\n",
    "        self.make_tree(arr, l, mid, 2 * ind)\n",
    "        self.make_tree(arr, mid, r, 2 * ind + 1)\n",
    "        self.sum[ind] = self.sum[2 * ind] + self.sum[2 * ind + 1]"
   ]
  },
  {
   "cell_type": "markdown",
   "metadata": {},
   "source": [
    "<div style=\"direction:rtl;line-height:300%;\"><font face=\"XB Zar\" size=5>\n",
    "<h2><font color=#FF7500 size=5>\n",
    "به روز رسانی درخت\n",
    "</font></h2><p></p>\n",
    "در صورتی که بخواهیم تمامی زیربازه های مربوط به یک به روز رسانی را همان موقع به روز کنیم پیچیدگی بالا می‌رود. پس بازه را به تعدادی زیربازه مجزا تقسیم میکنیم و برای هر کدام در آرایه موازی دومی به نام $lazy$ نگه می داریم که این زیربازه باید به مقداری به روز شود.\n",
    "<br>\n",
    "حال هر موقع وارد راسی در درخت بازه شدیم ابتدا  $lazy$ آن را برای مقدار خودش اعمال می کنیم و سپس $lazy$ اش را به بچه هایش می دهیم. به این کار $lazy\\ propagation$ می گویند. \n",
    "<br>\n",
    "زیربازه های مجزای تقسیم شده همانطور که در بالاتر گفته شد از $O(\\lg n)$ می باشند و همچنین تعداد محاسبات برای پیدا کردن هر زیربازه نیز از $O(1)$ و در مجموع از $O(\\lg n)$ می‌باشد، پس پیچیدگی زمان اجرای این تابع از $O(\\lg n)$ است.\n",
    "<br>\n",
    "در تابع زیر، یک بازه‌ی $[st..e)$ ورودی گرفته می‌شود تا همه‌ی اعضای آن با مقدار $v$ جمع زده شوند.\n",
    "<p></p>\n",
    "</font></div>"
   ]
  },
  {
   "cell_type": "code",
   "execution_count": 4,
   "metadata": {
    "collapsed": true
   },
   "outputs": [],
   "source": [
    "def propagate_lazy(seg3, ind, l, r):\n",
    "    seg3.sum[ind] += seg3.lazy[ind] * (r - l)\n",
    "    seg3.lazy[2 * ind] += seg3.lazy[ind]\n",
    "    seg3.lazy[2 * ind + 1] += seg3.lazy[ind]\n",
    "    seg3.lazy[ind] = 0\n",
    "    \n",
    "def update(seg3, st, e, v, ind = 1):\n",
    "    l = seg3.l[ind]\n",
    "    r = seg3.r[ind]\n",
    "    seg3.propagate_lazy(ind, l, r)\n",
    "    if e <= l or st >= r: #No overlap with this segment\n",
    "        return\n",
    "    if l >= st and r <= e: #Completely in this segment\n",
    "        seg3.lazy[2 * ind] += v\n",
    "        seg3.lazy[2 * ind + 1] += v\n",
    "        seg3.sum[ind] += v * (r - l)\n",
    "        return\n",
    "    seg3.update(st, e, v, 2 * ind)\n",
    "    seg3.update(st, e, v, 2 * ind + 1)\n",
    "    seg3.sum[ind] = seg3.sum[2 * ind] + seg3.sum[2 * ind + 1] #Update sum of this node\n",
    "\n",
    "# Adding this method to class\n",
    "Segment_Tree.propagate_lazy = propagate_lazy\n",
    "Segment_Tree.update = update"
   ]
  },
  {
   "cell_type": "markdown",
   "metadata": {},
   "source": [
    "<div style=\"direction:rtl;line-height:300%;\"><font face=\"XB Zar\" size=5>\n",
    "<h2><font color=#FF7500 size=5>\n",
    "خروجی گرفتن از درخت\n",
    "</font></h2><p></p>\n",
    "جمع کل بازه را با جمع کردن مقدار درخت برای زیربازه های مجزا محاسبه می کنیم. در اینجا هم برای درست بودن مقادیر باید  از $lazy\\ propagation$ استفاده کرد.\n",
    "<br>\n",
    "پیچیدگی زمان اجرای این تابع از $O(\\lg n)$ است.\n",
    "<p></p>\n",
    "</font></div>"
   ]
  },
  {
   "cell_type": "code",
   "execution_count": 5,
   "metadata": {
    "collapsed": true
   },
   "outputs": [],
   "source": [
    "def get_sum(seg3, st, e, ind = 1):\n",
    "    l = seg3.l[ind]\n",
    "    r = seg3.r[ind]\n",
    "    seg3.propagate_lazy(ind, l, r)\n",
    "    if e <= l or st >= r: #No overlap with this segment\n",
    "        return 0\n",
    "    if l >= st and r <= e: #Completely in this segment\n",
    "        return seg3.sum[ind]\n",
    "    return seg3.get_sum(st, e, 2 * ind)+seg3.get_sum(st, e, 2 * ind + 1)\n",
    "\n",
    "Segment_Tree.get_sum = get_sum"
   ]
  },
  {
   "cell_type": "code",
   "execution_count": 27,
   "metadata": {},
   "outputs": [
    {
     "name": "stdout",
     "output_type": "stream",
     "text": [
      "12\n",
      "18\n"
     ]
    }
   ],
   "source": [
    "#Example\n",
    "\n",
    "segment_tree = Segment_Tree([1, 2, 3, 4, 5, 6, 7, 8])\n",
    "print(segment_tree.get_sum(2, 5))\n",
    "segment_tree.update(2, 4, 3)\n",
    "print(segment_tree.get_sum(2, 5))"
   ]
  },
  {
   "cell_type": "code",
   "execution_count": 9,
   "metadata": {},
   "outputs": [
    {
     "name": "stdout",
     "output_type": "stream",
     "text": [
      "1\n"
     ]
    }
   ],
   "source": [
    "s3 = Segment_Tree([0]*10)\n",
    "s3.update(1,2,1)\n",
    "print(s3.get_sum(1,10))"
   ]
  },
  {
   "cell_type": "markdown",
   "metadata": {},
   "source": [
    "<div style=\"direction:rtl;line-height:300%;\">\n",
    "<font face=\"XB Zar\" size=5>\n",
    "<h2><font color=#FF7500 size=5>\n",
    "تمرین\n",
    "</font></h2><p></p>\n",
    "الگوریتمی طراحی کنید که یک آرایه $A[1..n]$ دریافت کند و هر مرحله یکی از دو عملیات زیر را انجام دهد:\n",
    "<ul>\n",
    "<li> یک $i$ و یک $t$ ورودی بگیرد و $A[i]$ را برابر $t$ قرار دهد..\n",
    "<li> یک $i$ و یک $j$ ورودی بگیرد و مینیمم اعداد زیرآرایه‌ی $A[i..j]$ را خروجی دهد.\n",
    "<br>\n",
    "پیچیدگی زمان اجرای این تابع از $O(\\lg n)$ است.\n",
    "<p></p>\n",
    "</font></div>"
   ]
  },
  {
   "cell_type": "code",
   "execution_count": 29,
   "metadata": {
    "collapsed": true
   },
   "outputs": [],
   "source": [
    "class Min_Segment_Tree:\n",
    "    def __init__(self, arr):\n",
    "        self.n = len(arr)\n",
    "        self.l = [0] * (4 * self.n + 4) \n",
    "        self.r = [0] * (4 * self.n + 4) \n",
    "        self.lazy=[float(\"inf\")] * (4 * self.n + 4) \n",
    "        self.min=[float(\"inf\")] * (4 * self.n + 4) \n",
    "        self.make_tree(arr, 0, self.n, 1)\n",
    "        \n",
    "    def make_tree(self, arr, l, r, ind):\n",
    "        self.l[ind] = l \n",
    "        self.r[ind] = r\n",
    "        if r <= l + 1:\n",
    "            self.min[ind] = arr[l]\n",
    "            return\n",
    "        mid = (l + r) // 2\n",
    "        self.make_tree(arr, l, mid, 2 * ind)\n",
    "        self.make_tree(arr, mid, r, 2 * ind + 1)\n",
    "        self.min[ind] = min(self.min[2 * ind], self.min[2 * ind + 1])\n",
    "        \n",
    "    def propagate_lazy(seg3, ind, l, r):\n",
    "        seg3.min[ind] = min(seg3.min[ind], seg3.lazy[ind])\n",
    "        seg3.lazy[2*ind] = min(seg3.lazy[2 * ind], seg3.lazy[ind])\n",
    "        seg3.lazy[2*ind+1] = min(seg3.lazy[2 * ind + 1], seg3.lazy[ind])\n",
    "        seg3.lazy[ind] = float(\"inf\")\n",
    "\n",
    "    def update(seg3, st, e, v, ind=1):\n",
    "        #insert your code here ;)\n",
    "        pass\n",
    "\n",
    "    def get_min(seg3, st, e, ind=1):\n",
    "        #insert your code here ;)\n",
    "        pass"
   ]
  },
  {
   "cell_type": "code",
   "execution_count": 30,
   "metadata": {},
   "outputs": [
    {
     "name": "stdout",
     "output_type": "stream",
     "text": [
      "None\n",
      "None\n"
     ]
    }
   ],
   "source": [
    "segment_tree = Min_Segment_Tree([1, 2, 3, 4, 5, 6, 7, 8])\n",
    "print(segment_tree.get_min(2, 5))\n",
    "segment_tree.update(2, 4, 3)\n",
    "print(segment_tree.get_min(2, 5))"
   ]
  },
  {
   "cell_type": "markdown",
   "metadata": {},
   "source": [
    "<div style=\"direction:rtl;line-height:300%;\"><font face=\"XB Zar\" size=5>\n",
    "<h2><font  id=\"segment\" color=#FF7500 size=6>\n",
    "پانویس\n",
    "</font></h2><p></p>\n",
    "<ol>\n",
    "<li><font id=\"ref1\"><a href =\"http://hackerearth.com\"> hackerearth.com </a></font>\n",
    "<li><font id=\"ref2\"><a href =\"http://techienotes.info\"> techienotes.info </a></font>\n",
    "<li><font id=\"ref3\"><a href =\"http://codeforces.com\"> codeforces.com </a></font>\n",
    "</ol>"
   ]
  }
 ],
 "metadata": {
  "anaconda-cloud": {},
  "kernelspec": {
   "display_name": "Python 3",
   "language": "python",
   "name": "python3"
  },
  "language_info": {
   "codemirror_mode": {
    "name": "ipython",
    "version": 3
   },
   "file_extension": ".py",
   "mimetype": "text/x-python",
   "name": "python",
   "nbconvert_exporter": "python",
   "pygments_lexer": "ipython3",
   "version": "3.7.2"
  }
 },
 "nbformat": 4,
 "nbformat_minor": 1
}
