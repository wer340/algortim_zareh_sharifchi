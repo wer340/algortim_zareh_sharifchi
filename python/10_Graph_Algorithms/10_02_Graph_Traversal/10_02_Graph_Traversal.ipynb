{
 "cells": [
  {
   "cell_type": "markdown",
   "metadata": {},
   "source": [
    "<div style=\"direction:rtl;line-height:300%;\"><font face=\"XB Zar\" size=5>\n",
    "<div style=\"direction:rtl;line-height:300%;\"><font face=\"XB Zar\" size=5>\n",
    "<div align=center>\n",
    "<font face=\"IranNastaliq\" size=30>\n",
    "<p></p>\n",
    "به نام خدا\n",
    "</font>\n",
    "<br>\n",
    "<font color=#FF7500>\n",
    "دانشگاه صنعتی شریف - دانشکده مهندسی کامپیوتر\n",
    "</font>\n",
    "<br>\n",
    "<font color=blue>\n",
    "داده‌ساختارها و الگوریتم‌ها\n",
    "</font>\n",
    "<br>\n",
    "ترم دوم سال تحصیلی ۱۳۹۸-۱۳۹۷\n",
    "</div>\n",
    "<hr/>\n",
    "<font color=red size=6>\n",
    "<p></p>\n",
    "\n",
    "<div align=center> فصل دهم، بخش دوم: الگوریتم های پیمایش گراف </div>\n",
    "</font>\n",
    "<div align=center>\n",
    "شبنم شیخها، یاسمین طباطبایی، مهدی قربانی</div>\n",
    "<hr>\n",
    "\n",
    "</font></div>\n",
    "\n",
    "\n",
    "<style type=\"text/css\" scoped>\n",
    "p{\n",
    "border: 1px solid #a2a9b1;background-color: #f8f9fa;display: inline-block;\n",
    "};\n",
    "</style>\n",
    "\n",
    "<div>\n",
    "<h3> فهرست محتویات</h3>\n",
    "<ul style=\"margin-right: 0;\">\n",
    "<li><a href=\"#intro\"> مقدمه</a></li>\n",
    "<li><a href=\"#section1\"> انواع الگوریتم های جستجو</a></li>\n",
    "<li><a href=\"#section2\"> الگوریتم BFS</a></li>\n",
    "<li><a href=\"#section3\"> الگوریتم DFS</a></li>\n",
    "</ul>\n",
    "</div>"
   ]
  },
  {
   "cell_type": "markdown",
   "metadata": {},
   "source": [
    "<div style=\"direction:rtl;line-height:300%;\" id=\"intro\"><font face=\"XB Zar\" size=5>\n",
    "<font color=#FF7500 size=6>\n",
    "<div id=\"intro\"> مقدمه</div>\n",
    "</font>\n",
    "    <p></p>\n",
    "<br>\n",
    "\tفرض کنید دنبال فایل یا پوشه‌ای در لپتاپتان می‌گردید. در قدم اول از یک پوشه شروع می‌کنید. ممکن است بعد از آن چند روش پیش بگیرید. مثلا فرض کنید اکنون در پوشه‌ی A هستید. فایل/پوشه‌های A1، A2 و … داخل آن هستند. \n",
    "    <br>\n",
    "    <ul>\n",
    "        <li>\t یک روش احتمالی این است که ابتدا فایل/پوشه‌های A1 تا An را بررسی کنید. سپس به ترتیب فایل‌های داخل F1، داخل F2 و همینطور تا Fn را بررسی کنید. سپس دوباره به ترتیب فایل‌های داخل این‌ها الی آخر.</li>  \n",
    "<br>\n",
    "<li>\t روش دیگر ممکن است این باشد که ابتدا پوشه‌ی A1 را بررسی کنید، سپس اولین فایل‌ داخل آن و مجدد اولین فایل داخل آن تا آخر. سپس برگردید و به صورت بازگشتی این عملیات را تکرار کنید.</li>\n",
    "\n",
    "\n",
    "\n",
    "</ul> \n",
    "<br>\n",
    "\tالبته روش آسان‌تر هم این است که قسمت search لپتاپتان را باز کنید! \n",
    "\n",
    "<br>\n",
    "<br>\tبا روش‌های بالا، در این مثال مشکلی پیش نمی‌آید، زیرا نمی‌شود فولدر C در B، فولدر B در A و مجدد فولدر C در A باشد (اگر در لپتاپ شما چنین پدیده‌ای رخ داده‌است سریع به تعمیرکار رجوع کنید). به عبارتی در گراف متناظر دور نداریم. در حالی که در اکثر گرافهایی که ما با آنها سر و کار داریم نمی‌توانیم چنین فرضی بکنیم.\n",
    "<br>\n",
    "در واقع مسئله‌ی پیش رو، مسئله‌ي \n",
    "<i>\n",
    "    پیمایش گراف\n",
    "    </i> است.\n",
    "شما تاکنون با شیوه های مختلف نمایش و ذخیره سازی گراف ها آشنا شدیم. یکی از دلایل مدل کردن مسئله های گوناگون با گراف ها، فراهم نمودن امکان جستجو و استفاده از الگوریتم های جستجوی گراف است. الگوریتم های گوناگونی برای جستجو در گراف وجود دارد که در این بخش با انواع روش های آن آشنا می شویم. \n",
    "</font></div>"
   ]
  },
  {
   "cell_type": "markdown",
   "metadata": {},
   "source": [
    "<div style=\"direction:rtl;line-height:300%;\" id=\"section1\"><font face=\"XB Zar\" size=5>\n",
    "<font color=#FF7500 size=6>\n",
    "<div id=\"section1\"> انواع الگوریتم های جستجو</div>\n",
    "</font>\n",
    "ابتدا مفهوم جستجو در گراف را بیان می کنیم. جستجو یا پیمایش یک گراف\n",
    "    (Graph Traversal/Graph Search)\n",
    "   به معنای طی کردن راس های گراف به یک ترتیب خاص است. این پیمایش می تواند برای یافتن راس هایی با ویژگی خاص در گراف و یا آپدیت کردن وضعیت گره ها به کار برده شود. \n",
    " <br>\n",
    "    الگوریتم های جستجو بر حسب ترتیب پیمایش راس ها به دسته های گوناگی تقسیم می شوند. در ادامه به معرفی مهم ترین این الگوریتم ها یعنی BFS و DFS می پردازیم. \n",
    "    سایر الگوریتم های جستجو در حالت کلی تغییر یافته و یا الهام گرفته از این دو الگوریتم هستند. \n",
    "</font></div>"
   ]
  },
  {
   "cell_type": "markdown",
   "metadata": {},
   "source": [
    "<p></p>\n",
    "<br>\n",
    "<div style=\"direction:rtl;line-height:300%;\" id=\"section2\"><font face=\"XB Zar\" size=5>\n",
    "<font color=#FF7500 size=6>\n",
    "<div id=\"BFS\">\n",
    "الگوریتم BFS</div>\n",
    "    <hr>\n",
    "    \n",
    "</font>\n",
    "<p></p>\n",
    "پیمایش اول سطح در گراف شبیه به روش پیشنهادی اول برای جستجو در فایل است. یعنی از یک راس شروع کنیم، سپس فرزاندان آن را نگاه کنیم، سپس به ترتیب فرزندان آنها الی آخر. به نظر شما استفاده از چه داده ساختاری برای پیاده‌سازی این عملیات مناسب است؟ \n",
    "    <br><br>\n",
    "\tفرض کنید از راس s شروع می‌کنیم. به ترتیب راس‌های متصل به آن را نگاه می‌کنیم. برای اینکه بعد از بررسی آن‌ها، بتوانیم راس‌های متصل به آنها را نیز به ترتیب بررسی کنیم باید چه کار کنیم؟ با کمی تفکر، متوجه می‌شویم که روش پردازش مانند شیوه‌ي $\\text{FIFO (First-In First-Out)}$ است. پس باید از داده‌ساختار صف استفاده کنیم. \n",
    "    <br><br>\n",
    "    \tمراحل زیر را طی می‌کنیم:\n",
    "<ol type=\"1\">\n",
    "    <li> یک راس برای شروع انتخاب می‌کنیم و در ابتدای صف قرار می‌دهیم. </li>\n",
    "    <li>تا زمانی که صف خالی نیست به ترتیب عملیات زیر را انجام دهیم:</li>\n",
    "    <ol type=\"i\">\n",
    "        <li> از ابتدای صف راسی برداریم و بررسی کنیم. </li>\n",
    "        <li>همه‌ی رئوس متصل به آن را به انتهای صف اضافه کنیم. </li>\n",
    "    </ol>\n",
    "</ol>\n"
   ]
  },
  {
   "cell_type": "markdown",
   "metadata": {},
   "source": [
    "<div style=\"direction:rtl;line-height:300%;\">\n",
    "\t<font face=\"XB Zar\" size=5>\n",
    "دقت کنید که این عملیات مشکل اولیه‌ی ما را حل نمی‌کنند. یعنی اگر در گراف مربوطه دور داشته باشیم، صف هرگز خالی نمی‌شود و ما در حلقه‌ي بینهایت گیر می‌افتیم. حتی گراف زیر را در نظر بگیرید:\n",
    "        <br>\n",
    "<img src=\"src/images/graph.png\" alt=\"Italian Trulli\" style=\"float:left;width:250px;height:200px;\">\n",
    "        <br>\n",
    "        فرض کنید راس A را برای شروع انتخاب کرده‌ایم. آن را در اول صف قرار می‌دهیم،\n",
    "سپس در مرحله‌ی A.2. آن را از صف خارج می‌کنیم. در مرحله‌ي B.2. رئوس B و C\n",
    " را در انتهای صف قرار می‌دهیم. سپس مجدد در مرحله‌ی A.2. رأس B را از صف\n",
    "خارج می‌کنیم و رأس A را در صف قرار می‌دهیم. هر گاه نوبت A شود دوباره این \n",
    "مراحل تکرار می‌شود و … .\n",
    "    </font>\n",
    "</div>"
   ]
  },
  {
   "cell_type": "markdown",
   "metadata": {},
   "source": [
    "<div style=\"direction:rtl;line-height:300%;\">\n",
    "\t<font face=\"XB Zar\" size=5>\n",
    "        برای حل این مشکل راه‌حل زیر را پیش می‌گیریم:\n",
    "        <br><br>\n",
    "        <center>\n",
    "            <b>\n",
    "                تنها رئوسی که قبلا بررسی نکرده‌ایم را به صف اضافه می‌کنیم.\n",
    "            </b>\n",
    "        </center>\n",
    "                <br><br>\n",
    "        برای تشخیص اینکه رأسی را قبلا دیده‌ایم یا نه می‌توانیم یک متغیر به ویژگی‌های آن اضافه کنیم.\n",
    "    </font>\n",
    "</div>"
   ]
  },
  {
   "cell_type": "markdown",
   "metadata": {},
   "source": [
    " <div style=\"direction:rtl;line-height:300%;\">\n",
    "\t<font face=\"XB Zar\" size=5>\n",
    " برای توضیح بهتر از مثال زیر استفاده می کنیم.\n",
    " <img src=\"src/images/dfs1.png\" height=\"500\" width=\"600\">\n",
    "    <ul>\n",
    "  <li> از راس شماره ی 2 شروع به پیمایش می کنیم.راس 2 را علامت گذاری می کنیم و رئوس 0 و 3 را به صف اضافه می کنیم. سپس به راس 0 می رویم(2 انتخاب داریم که فرض کنید ترتیب انتخاب ها به ترتیب اعداد باشد).</li>\n",
    "  <li>راس های مجاور راس 0 راس های 1 و2 هستند. راس 2 قبلا دیده شده است. اگر راس های دیده شده را علامت گذاری نکنیم، ممکن است در برخی حالات همانند این حالت پیمایش در یک دور نامتناهی بیفتد که مطلوب نیست. بنابراین با فرض علامت گذاری راس های پیمایش شده راس 1 به انتهای صف اضافه می شود و به راس شماره ی 3 می رویم. (که الآن در ابتدای صف قرار دارد)</li>\n",
    "   <li>تنها راس مجاور راس 3خود راس3 است که قبلا پیمایش شده. بنابراین نمی توان پیمایش را از این مسیر ادامه داد و راسی به صف اضافه نمی شود. بنابراین به راس  1 که آخرین راس موجود در صف است می رویم. </li>\n",
    "     <li> راس شماره ی 1 نیز فقط به راس شماره ی 2 راه دارد که قبلا پیمایش شده پس آن را به صف اضافه نمی کند و پیمایش به پایان می رسد.</li>\n",
    "<li>  دنباله ی پیمایش BFS این گراف به صورت $2, 0, 3, 1$ است  </li>\n",
    "\n",
    "\n",
    "</font>\n",
    "</div>"
   ]
  },
  {
   "cell_type": "markdown",
   "metadata": {},
   "source": [
    "<div style=\"direction:rtl;line-height:300%;\">\n",
    "\t<font face=\"XB Zar\" size=5>\n",
    "\n",
    "\n",
    "<p></p>\n",
    "        :در زیر تصویر‌سازی این الگوریتم را می‌بینید\n",
    "        <img src=\"src/images/BFS.gif\" style=\"width:400px;height:400px;\">\n",
    "        <p></p>\n",
    "            در شکل زیر عملکرد این الگوریتم را یک در گراف 7 راسی مشاهده می کنید.\n",
    "<img src=\"src/images/bfs.png\" height=\"800\" width=\"900\">\n",
    "\n",
    "\n",
    "</font>\n",
    "</div>"
   ]
  },
  {
   "cell_type": "markdown",
   "metadata": {},
   "source": [
    "<div style=\"direction:rtl;line-height:300%;\">\n",
    "\t<font face=\"XB Zar\" size=5>\n",
    "        <font color=#FF7500 size=6>\n",
    "<div id=\"BFS\">\n",
    "پیاده‌سازی</div>\n",
    "    <hr>\n",
    "        </font>\n",
    "ابتدا گراف را به صورت زیر پیاده‌سازی می‌کنیم. در پیاده‌سازی زیر از لیست مجاورت استفاده شده‌است.  \n",
    "</font>\n",
    "</div>"
   ]
  },
  {
   "cell_type": "code",
   "execution_count": 10,
   "metadata": {},
   "outputs": [],
   "source": [
    "from collections import defaultdict\n",
    "\n",
    "class Graph:\n",
    "    def __init__(self):\n",
    "        self.graph = defaultdict(list)\n",
    "        \n",
    "    def add_edge(self, u, v):\n",
    "        self.graph[u].append(v)\n",
    "        self.graph[v].append(u)"
   ]
  },
  {
   "cell_type": "markdown",
   "metadata": {},
   "source": [
    "<p></p>\n",
    "<div style=\"direction:rtl;line-height:300%;\">\n",
    "\t<font face=\"XB Zar\" size=5>\n",
    "کد پیمایش سطح‌اول به صورت زیر است:\n",
    "    </font>\n",
    "</div>"
   ]
  },
  {
   "cell_type": "code",
   "execution_count": 12,
   "metadata": {},
   "outputs": [],
   "source": [
    "def BFS(g, s):\n",
    "    visited = [False] * len(g.graph)    # هنوز چیزی بررسی نشده است\n",
    "    \n",
    "    q = [s]                             # یک راس به عنوان مبدا انتخاب می کنیم\n",
    "    visited[s] = True\n",
    "    print(s)\n",
    "    \n",
    "    while len(q) > 0:                   # تا زمانی که راس برای بررسی داریم ادامه می دهیم.\n",
    "        u = q.pop(0)                    # راس ابتدای صف را برم داریم. \n",
    "        for v in g.graph[u]:            # راس های متصل به آن را در نظر می گیریم\n",
    "            if not visited[v]:          # اگر قبلا بررسی نشده اند، آن ها را بررسی می کنیم.\n",
    "                q.append(v)             # آن ها را به صف اضافه می کنیم. \n",
    "                visited[v] = True       # آن ها را نشانه گذاری می کنیم تا دیگر بررسی نشوند.\n",
    "                print(v)"
   ]
  },
  {
   "cell_type": "markdown",
   "metadata": {},
   "source": [
    "<p></p>\n",
    "<div style=\"direction:rtl;line-height:300%;\">\n",
    "\t<font face=\"XB Zar\" size=5>\n",
    "آن را امتحان می‌کنیم:\n",
    "</font>\n",
    "</div>"
   ]
  },
  {
   "cell_type": "code",
   "execution_count": 13,
   "metadata": {
    "scrolled": true
   },
   "outputs": [
    {
     "name": "stdout",
     "output_type": "stream",
     "text": [
      "0\n",
      "1\n",
      "2\n",
      "3\n",
      "4\n",
      "5\n"
     ]
    }
   ],
   "source": [
    "g = Graph()\n",
    "g.add_edge(0, 1)\n",
    "g.add_edge(0, 2)\n",
    "g. add_edge(1, 3)\n",
    "g.add_edge(1, 4)\n",
    "g.add_edge(2, 4)\n",
    "g.add_edge(2, 5)\n",
    "g.add_edge(5, 1)\n",
    "BFS(g, 0)"
   ]
  },
  {
   "cell_type": "markdown",
   "metadata": {},
   "source": [
    "<p></p>\n",
    "<div style=\"direction:rtl;line-height:300%;\">\n",
    "\t<font face=\"XB Zar\" size=5>\n",
    " توجه کنید که گرافی که ساختیم به صورت زیر بود.   \n",
    "              <img src=\"src/images/sample-graph.png\" alt=\"Italian Trulli\" style=\"width:375px;height:300px;\">\n",
    "    </font>\n",
    "</div>"
   ]
  },
  {
   "cell_type": "markdown",
   "metadata": {},
   "source": [
    "<p></p>\n",
    "<div style=\"direction:rtl;line-height:300%;\">\n",
    "\t<font face=\"XB Zar\" size=5>\n",
    "سعی کنید خودتان روی کاغذ برای این گراف الگوریتم BFS را اجرا کنید و ببینید مطابق خروجی کد می‌شود یا نه.    </font>\n",
    "</div>"
   ]
  },
  {
   "cell_type": "markdown",
   "metadata": {},
   "source": [
    "<p></p>\n",
    "<div style=\"direction:rtl;line-height:300%;\">\n",
    "\t<font face=\"XB Zar\" size=5>\n",
    "        <b> <font face=\"XB Zar\" size=5 color=\"blue\">سوال)</font></b>\n",
    "        احتمالا تا اینجا متوجه شده‌اید که روش فوق برای گراف‌های غیر‌همبند کار نمی‌کند. این روش را تغییر دهد تا این گراف‌ها را نیز بتواند درست پیمایش کند. \n",
    "    </font>\n",
    "</div>"
   ]
  },
  {
   "cell_type": "markdown",
   "metadata": {},
   "source": [
    "<p></p>\n",
    "<br>\n",
    "<div style=\"direction:rtl;line-height:300%;\" id=\"section3\"><font face=\"XB Zar\" size=5>\n",
    "<font color=#FF7500 size=6>\n",
    "<div id=\"DFS\">\n",
    "الگوریتم DFS\n",
    "</div>\n",
    "        <hr>\n",
    "</font>\n",
    "<p></p>\n",
    "    پیمایش اول عمق در گراف شبیه به روش پیشنهادی دوم برای جستجوی فایل است. یعنی از یک راس شروع کنیم، سپس فرزند اول آن را نگاه کنیم و همین کار را به صورت بازگشتی برای آن انجام دهیم. پس از بازگشت همین مراحل را برای فرزند بعدی انجام دهیم الی آخر. به نظر شما استفاده از چه داده ساختاری برای پیاده‌سازی این عملیات مناسب است؟\n",
    "    <br><br>\n",
    "    \tبا توجه به اینکه عملیات توصیف شده ماهیت بازگشتی دارد متوجه می‌شویم که روش پردازش مانند شیوه‌ي\n",
    " $\\text{LIFO (Last-In First-Out)}$ است. پس باید از داده‌ساختار پشته استفاده کنیم. البته استفاده از داده‌ساختار پشته، در واقع به معنی پیاده‌سازی تابع بازگشتی است. \n",
    "    <br><br>\n",
    "    \tمراحل زیر را طی می‌کنیم:\n",
    "<ol type=\"1\">\n",
    "    <li> یک راس را برای شروع انتخاب کنیم و بررسی کنیم.  </li>\n",
    "    <li>برای همه‌ی راس‌های مجاور آن عملیات را به صورت بازگشتی انجام دهیم. پس از اتمام بررسی راس‌های مجاور، بازگردیم. \n",
    "</li>\n",
    "    <br>\n",
    "    دقت کنید که این عملیات نیز مشکل bfs را دارد. برای همین مجدد از این راه حل استفاده می‌کنیم:\n",
    "    <br><br>\n",
    "    <center>\n",
    "            <b>\n",
    "                تنها رئوسی که قبلا بررسی نکرده‌ایم را به صف اضافه می‌کنیم.\n",
    "            </b>\n",
    "        </center>\n",
    "                <br>\n",
    "</ol>\n"
   ]
  },
  {
   "cell_type": "markdown",
   "metadata": {},
   "source": [
    "<div style=\"direction:rtl;line-height:300%;\">\n",
    "\t<font face=\"XB Zar\" size=5>  \n",
    "  برای توضیح بهتر از مثال زیر استفاده می کنیم.\n",
    "    <img src=\"src/images/dfs1.png\" height=\"500\" width=\"600\">\n",
    "    <ul>\n",
    "  <li> از راس شماره ی 2 شروع به پیمایش می کنیم. سپس به راس 0 می رویم(2 انتخاب داریم که فرض کنید ترتیب انتخاب ها به ترتیب اعداد باشد).</li>\n",
    "  <li>راس های مجاور راس 0 راس های 1 و2 هستند. راس 2 قبلا دیده شده است. اگر راس های دیده شده را علامت گذاری نکنیم، ممکن است در برخی حالات همانند این حالت پیمایش در یک دور نامتناهی بیفتد که مطلوب نیست. بنابراین با فرض علامت گذاری راس های پیمایش شده راس 1 انتخاب می شود. </li>\n",
    "   <li>تنها راس مجاور راس 1 راس 2 است که قبلا پیمایش شده. بنابراین نمی توان پیمایش را از این مسیر ادامه داد. بنابراین به راس 0 و سپس به راس 2 بازمی گردیم و این بار از راس های مجاور آن راس 3 را انتخاب می کنیم. </li>\n",
    "     <li> راس 3 فقط به خود راه دارد که پیمایش شده به حساب می آید و مجدد به سراغ آن نمی رویم. پس پیمایش به پایان می رسد.</li>\n",
    "<li>  دنباله ی پیمایش DFS این گراف به صورت $2, 0, 1, 3$ است  </li>\n",
    "<br>\n",
    "            در شکل زیر عملکرد این الگوریتم را یک در گراف جهتدار 6 راسی مشاهده می کنید.\n",
    "<img src=\"src/images/dfs.png\" height=\"700\" width=\"800\">\n",
    "\n",
    "\n",
    "</font>\n",
    "</div>"
   ]
  },
  {
   "cell_type": "markdown",
   "metadata": {},
   "source": [
    "<p></p>\n",
    "<div style=\"direction:rtl;line-height:300%;\">\n",
    "\t<font face=\"XB Zar\" size=5>\n",
    "                <font color=#FF7500 size=6>\n",
    "<div id=\"BFS\">\n",
    "پیاده‌سازی</div>\n",
    "    <hr>\n",
    "        </font>\n",
    "کد پیمایش اول عمق به صورت زیر است:\n",
    "    </font>\n",
    "</div>"
   ]
  },
  {
   "cell_type": "code",
   "execution_count": 8,
   "metadata": {},
   "outputs": [],
   "source": [
    "def DFS(g, s):\n",
    "    visited = [False] * len(g.graph)   # هنوز چیزی مشاهده نشده است.\n",
    "    DFS_util(g, s, visited)       \n",
    "\n",
    "\n",
    "def DFS_util(g, s, visited):\n",
    "    print(s)\n",
    "    visited[s] = True\n",
    "    for v in g.graph[s]:\n",
    "        if not visited[v]:\n",
    "            DFS_util(g, v, visited)"
   ]
  },
  {
   "cell_type": "markdown",
   "metadata": {},
   "source": [
    "<p></p>\n",
    "<div style=\"direction:rtl;line-height:300%;\">\n",
    "\t<font face=\"XB Zar\" size=5>\n",
    "برروی همان گراف قبلی آن را امتحان می‌کنیم:\n",
    "    </font>\n",
    "</div>"
   ]
  },
  {
   "cell_type": "code",
   "execution_count": 9,
   "metadata": {},
   "outputs": [
    {
     "name": "stdout",
     "output_type": "stream",
     "text": [
      "0\n",
      "1\n",
      "3\n",
      "4\n",
      "2\n",
      "5\n"
     ]
    }
   ],
   "source": [
    "DFS(g, 0)"
   ]
  },
  {
   "cell_type": "markdown",
   "metadata": {},
   "source": [
    "<p></p>\n",
    "<div style=\"direction:rtl;line-height:300%;\">\n",
    "\t<font face=\"XB Zar\" size=5>\n",
    "            مجدد سعی کنید خودتان روی کاغذ برای این گراف الگوریتم DFS را اجرا کنید و ببینید مطابق خروجی کد می‌شود یا نه.    \n",
    "    </font>\n",
    "</div>"
   ]
  },
  {
   "cell_type": "markdown",
   "metadata": {},
   "source": [
    "<p></p>\n",
    "<div style=\"direction:rtl;line-height:300%;\">\n",
    "\t<font face=\"XB Zar\" size=5>\n",
    "        <b> <font face=\"XB Zar\" size=5 color=\"blue\">سوال)</font></b>\n",
    " این روش را همانند BFS  به شیوه‌ای تغییر دهید تا برای گراف‌های غیرهمبند نیز کار کند.  \n",
    "    </font>\n",
    "</div>"
   ]
  },
  {
   "cell_type": "markdown",
   "metadata": {},
   "source": [
    "<p></p>\n",
    "<br>\n",
    "<div style=\"direction:rtl;line-height:300%;\"><font face=\"XB Zar\" size=5>\n",
    "<font color=#FF7500 size=6>\n",
    "<div id=\"runtime\">\n",
    "تحلیل زمان اجرا\n",
    "</div>\n",
    "<hr>\n",
    "</font>\n",
    "<p></p>\n",
    "<div style=\"direction:rtl;line-height:300%;\">\n",
    "    \t<font face=\"XB Zar\" size=5>\n",
    "در انتها، می‌خواهیم زمان اجرای دو الگوریتم DFS و BFS را تحلیل کنیم. \n",
    "    <br>\n",
    "در هر یک از این الگوریتم‌ها، به ازای هر راس، همه‌ی رئوس متصل به آن را (چه قبلا بررسی شده باشند چه نه) نگاه می‌کنیم. پس به عبارتی می‌توان نوشت:\n",
    "    $$\n",
    "    T = \\sum_{v \\in V}\\Big( 1 + \\sum_{u \\in adj[v]}O(1) \\Big)\n",
    "    $$\n",
    "اولین 1 مربوط به زمان لازم برای مشاهده‌ی خود راس است. در BFS به عبارتی نمایانگر خارج کردن از صف و در DFS نمایانگر علامت زدن راس شروع در تابع بازگشتی است. \n",
    "<br> \n",
    "مقدار $O(1)$ داخل جمع، مربوط به عملیات لازم برای هر راس مجاور است.\n",
    "<br>\n",
    "رابطه‌ی بالا را می‌توان به صورت زیر نوشت:\n",
    "$$\n",
    "T = \\sum_{v \\in V}1 + \\sum_{v \\in V}\\sum_{u \\in adj[v]}1 = |V| + 2|E| \\in O(|V| + |E|)\n",
    "$$\n",
    "مقدار $2|E|$ برابر با مجموع درجه‌های رئوس است.\n",
    "<br>\n",
    "به عبارتی ما با استفاده از دو الگوریتم DFS و BFS می‌توانیم یک گراف را در زمان خطی پیمایش کنیم.  \n",
    "</font>\n",
    "</div>"
   ]
  },
  {
   "cell_type": "code",
   "execution_count": null,
   "metadata": {},
   "outputs": [],
   "source": []
  }
 ],
 "metadata": {
  "kernelspec": {
   "display_name": "Python 3",
   "language": "python",
   "name": "python3"
  },
  "language_info": {
   "codemirror_mode": {
    "name": "ipython",
    "version": 3
   },
   "file_extension": ".py",
   "mimetype": "text/x-python",
   "name": "python",
   "nbconvert_exporter": "python",
   "pygments_lexer": "ipython3",
   "version": "3.7.1"
  }
 },
 "nbformat": 4,
 "nbformat_minor": 1
}
