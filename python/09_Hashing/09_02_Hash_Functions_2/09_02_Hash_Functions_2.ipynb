{
 "cells": [
  {
   "cell_type": "markdown",
   "metadata": {},
   "source": [
    "<div style=\"direction:rtl;line-height:300%;\"><font face=\"XB Zar\" size=5>\n",
    "<div style=\"direction:rtl;line-height:300%;\"><font face=\"XB Zar\" size=5>\n",
    "<div align=center>\n",
    "<font face=\"IranNastaliq\" size=30>\n",
    "<p></p>\n",
    "به نام خدا\n",
    "</font>\n",
    "<br>\n",
    "<font color=#FF7500>\n",
    "دانشگاه صنعتی شریف - دانشکده مهندسی کامپیوتر\n",
    "</font>\n",
    "<br>\n",
    "<font color=blue>\n",
    "داده‌ساختارها و الگوریتم‌ها\n",
    "</font>\n",
    "<br>\n",
    "ترم دوم سال تحصیلی ۱۳۹۸-۱۳۹۷\n",
    "</div>\n",
    "<hr/>\n",
    "<font color=red size=6>\n",
    "<p></p>\n",
    "\n",
    "<div align=center>فصل نهم: توابع درهمسازی(قسمت دوم)</div>\n",
    "</font>\n",
    "<div align=center>\n",
    "امیرمحسن آهنچی، امیرحسین پویا، ریحانه کریمی‌پور، علی شریفی</div>\n",
    "<hr>\n",
    "</font></div>\n",
    "\n",
    "\n",
    "<style type=\"text/css\" scoped>\n",
    "p{\n",
    "border: 1px solid #a2a9b1;background-color: #f8f9fa;display: inline-block;\n",
    "};\n",
    "</style>\n",
    "\n",
    "<div>\n",
    "<h3> فهرست محتویات</h3>\n",
    "<ul style=\"margin-right: 0;\">\n",
    "<li><a href=\"#hash-function-string\">تابع درهم سازی برای رشته ها</a></li>\n",
    "<li><a href=\"#dynamic-arrays\">آرایه با سایز پویا</a></li>\n",
    "<li><a href=\"#implementation\">پیاده سازی آرایه پویا در زبان های مختلف</a></li>\n",
    "<li><a href=\"#dict\">dict در پایتون</a></li>\n",
    "<li><a href=\"#importance\">اهمیت تابع درهم سازی</a></li>\n",
    "</ul>\n",
    "</div>"
   ]
  },
  {
   "cell_type": "markdown",
   "metadata": {},
   "source": [
    "<div style=\"direction:rtl;line-height:300%;\"><font face=\"XB Zar\" size=5>\n",
    "<p></p>\n",
    "<font color=#FF7500 size=6 id=\"hash-function-string\">\n",
    "<p></p>\n",
    "تابع درهم سازی برای رشته ها\n",
    "<br>\n",
    "مثال:</font>\n",
    "<br>\n",
    "داده ساختاری طراحی کنید که عملیات زیر را انجام دهد.\n",
    "<br>\n",
    "$add(s)$: رشته s \n",
    "را به داده ساختار اضافه کن. اگر قبلا این رشته اضافه شده بود اطلاع بده.\n",
    "<br>\n"
   ]
  },
  {
   "cell_type": "markdown",
   "metadata": {},
   "source": [
    "<div style=\"direction:rtl;line-height:300%;\"><font face=\"XB Zar\" size=5>\n",
    "<p></p>\n",
    "باید یک تابع hash برای یک رشته تعریف کنیم\n",
    "<br>\n",
    "یکی از موسوم ترین روش \n",
    "hash\n",
    "یک رشته،\n",
    "در نظر گرفتن یک رشته مثل \n",
    "S\n",
    "به صورت یک عدد\n",
    "|S| بیتی است.\n",
    "و استفاده از روش باقی مانده تقسیم روی آن است.\n",
    "<br>\n"
   ]
  },
  {
   "cell_type": "code",
   "execution_count": 1,
   "metadata": {
    "ExecuteTime": {
     "end_time": "2016-05-07T06:23:49.397000",
     "start_time": "2016-05-07T06:23:49.388000"
    },
    "collapsed": true
   },
   "outputs": [],
   "source": [
    "P = 447\n",
    "mod = 10**9 + 7\n",
    "def h_string(s):\n",
    "    result = 0\n",
    "    for c in s:\n",
    "        result = (result * P + ord(c)) % mod \n",
    "        # ord(c): get integer of character c\n",
    "    return result\n"
   ]
  },
  {
   "cell_type": "markdown",
   "metadata": {},
   "source": [
    "<div style=\"direction:rtl;line-height:300%;\"><font face=\"XB Zar\" size=5>\n",
    "<p></p>\n",
    "در پایتون تقریبا به همین روش تابع hash\n",
    "پیاده سازی شده است:\n"
   ]
  },
  {
   "cell_type": "code",
   "execution_count": 2,
   "metadata": {
    "ExecuteTime": {
     "end_time": "2016-05-07T06:23:49.418000",
     "start_time": "2016-05-07T06:23:49.402000"
    }
   },
   "outputs": [
    {
     "name": "stdout",
     "output_type": "stream",
     "text": [
      "-3594291749173071954 2760141946245516511\n"
     ]
    }
   ],
   "source": [
    "print(hash(\"Aran\"), hash(\"Mohsen\"))"
   ]
  },
  {
   "cell_type": "markdown",
   "metadata": {},
   "source": [
    "<div style=\"direction:rtl;line-height:300%;\"><font face=\"XB Zar\" size=5>\n",
    "<p></p>\n",
    "تابع\n",
    "$h(s)$\n",
    "عدد زیر را بر می گرداند.\n",
    "<br>\n",
    "$$s = c_1c_2...c_k$$\n",
    "$$h(s) = c_1 * P^{k-1} + c_2 * P^{k-2} + ... + c_{k-1} * P + c_k$$\n",
    "حال با استفاده از این تابع\n",
    "درهم سازی و استفاده از یکی از روش های مقابله با برخورد می توان مسئله را حل کرد.\n",
    "<br>\n",
    "( البته احتمال برخورد آن قدر کم است که استفاده از داده ساختار\n",
    "BST\n",
    "هم کافی است.)"
   ]
  },
  {
   "cell_type": "markdown",
   "metadata": {},
   "source": [
    "<div style=\"direction:rtl;line-height:300%;\"><font face=\"XB Zar\" size=5>\n",
    "<p></p>\n",
    "در روش اول از «زنجیره سازی» استفاده می کنیم.\n",
    "<br>\n",
    "زمان اجرای این روش از \n",
    "$O(nk)$\n",
    "است."
   ]
  },
  {
   "cell_type": "code",
   "execution_count": 3,
   "metadata": {
    "ExecuteTime": {
     "end_time": "2016-05-07T06:23:49.436000",
     "start_time": "2016-05-07T06:23:49.421000"
    },
    "collapsed": true
   },
   "outputs": [],
   "source": [
    "# Chained hashing used in previous session\n",
    "hash_size = 10**4 \n",
    "\n",
    "def h(s):\n",
    "    return h_string(s) % hash_size\n",
    "    \n",
    "class my_chained_set:\n",
    "    def __init__(self):\n",
    "        self.table = [[] for _ in range(hash_size)]\n",
    "\n",
    "    def insert(self, x):\n",
    "        if not self.exists(x):\n",
    "            self.table[h(x)].append(x) # O(1)\n",
    "\n",
    "    def exists(self, x):\n",
    "        return x in self.table[h(x)]   # O(size of list)\n",
    "\n",
    "    def remove(self, x):\n",
    "        self.table[h(x)].remove(x)     # O(size of list)"
   ]
  },
  {
   "cell_type": "code",
   "execution_count": 4,
   "metadata": {
    "ExecuteTime": {
     "end_time": "2016-05-07T06:23:49.450000",
     "start_time": "2016-05-07T06:23:49.438000"
    }
   },
   "outputs": [
    {
     "name": "stdout",
     "output_type": "stream",
     "text": [
      "Ali inserted\n",
      "vezvayi inserted\n",
      "Ali exists\n"
     ]
    }
   ],
   "source": [
    "from __future__ import print_function # for python2 users\n",
    "#first solution : O(n*k)\n",
    "htable1 = my_chained_set()\n",
    "def add1(s):\n",
    "    print(s, end=' ')\n",
    "    if htable1.exists(s): # O(1)\n",
    "        print(\"exists\")\n",
    "    else:\n",
    "        print(\"inserted\")\n",
    "        htable1.insert(s) # O(1)\n",
    "        \n",
    "add1(\"Ali\")\n",
    "add1(\"vezvayi\")\n",
    "add1(\"Ali\")\n"
   ]
  },
  {
   "cell_type": "markdown",
   "metadata": {
    "ExecuteTime": {
     "end_time": "2016-05-06T22:57:25.103000",
     "start_time": "2016-05-06T22:57:25.100000"
    }
   },
   "source": [
    "<div style=\"direction:rtl;line-height:300%;\"><font face=\"XB Zar\" size=5>\n",
    "<p></p>\n",
    "در روش دوم از \n",
    "set\n",
    "در پایتون استفاده می کنیم که خود از روش «آدرس دهی باز» استفاده می کند.\n",
    "<br>\n",
    "زمان اجرای این روش از \n",
    "$O(nk)$\n",
    "است."
   ]
  },
  {
   "cell_type": "code",
   "execution_count": 5,
   "metadata": {
    "ExecuteTime": {
     "end_time": "2016-05-07T06:23:49.463000",
     "start_time": "2016-05-07T06:23:49.453000"
    }
   },
   "outputs": [
    {
     "name": "stdout",
     "output_type": "stream",
     "text": [
      "Ali inserted\n",
      "alipour inserted\n",
      "Ali exists\n"
     ]
    }
   ],
   "source": [
    "#second solution : O(n*k)\n",
    "htable2 = set()\n",
    "def add2(s):\n",
    "    print(s, end=' ')\n",
    "    if h(s) in htable2:   # O(1)\n",
    "        print(\"exists\")\n",
    "    else:\n",
    "        print(\"inserted\")\n",
    "        htable2.add(h(s)) # O(1)\n",
    "        \n",
    "# this works because the probabilty of collision is very low\n",
    "        \n",
    "add2(\"Ali\")\n",
    "add2(\"alipour\")\n",
    "add2(\"Ali\")\n"
   ]
  },
  {
   "cell_type": "markdown",
   "metadata": {
    "ExecuteTime": {
     "end_time": "2016-05-06T22:54:49.724000",
     "start_time": "2016-05-06T22:54:49.714000"
    }
   },
   "source": [
    "<div style=\"direction:rtl;line-height:300%;\"><font face=\"XB Zar\" size=5>\n",
    "<p></p>\n",
    "روش بالا در $n\\leq 10**5$\n",
    "کار می کند چرا که احتمال برخورد خیلی پایین است.\n",
    "$(mod = 10^9+7)$\n",
    "<br>\n",
    "<br>\n",
    "در روش سوم می توان از\n",
    "BST\n",
    "استفاده کرد که زمان اجرایی\n",
    "$O(nk\\lg n)$\n",
    "را خواهد داشت."
   ]
  },
  {
   "cell_type": "markdown",
   "metadata": {},
   "source": [
    "<div style=\"direction:rtl;line-height:300%;\"><font face=\"XB Zar\" size=5>\n",
    "<p></p>\n",
    "<font color=#FF7500 size=6>\n",
    "<p></p>\n",
    "تمرین</font>\n",
    "<br>\n",
    "تابع درهم سازی پیاده سازی کنید که از قاعده زیر پیروی کند:\n",
    "    <br>\n",
    "یک عدد ۱۶ بیتی در نظر بگیرید که در ابتدا ۰ است. سپس به ازای هر کاراکتر آن را یک بار شیفت دوری راست داده و سپس آ ن را با عدد ASCII آن کاراکتر جمع کند.  \n",
    "    "
   ]
  },
  {
   "cell_type": "code",
   "execution_count": 8,
   "metadata": {},
   "outputs": [
    {
     "name": "stdout",
     "output_type": "stream",
     "text": [
      "True\n"
     ]
    }
   ],
   "source": [
    "def test_hash(s):\n",
    "    result = 0\n",
    "    for ch in s:\n",
    "        #insert code here!\n",
    "        \n",
    "    return result\n",
    "\n",
    "print(test_hash(\"Hash\") == 104)"
   ]
  },
  {
   "cell_type": "markdown",
   "metadata": {},
   "source": [
    "<div style=\"direction:rtl;line-height:300%;\"><font face=\"XB Zar\" size=5>\n",
    "<p></p>\n",
    "<font color=#FF7500 size=6 id=\"dynamic-arrays\">\n",
    "<p></p>\n",
    "آرایه با سایز پویا</font>\n",
    "<br>\n",
    "اگر شما بخواهید آرایه ای که سایز متغیری داشته باشد، چه می کنید؟\n",
    "<br>\n",
    "در واقع ما به یک داده ساختار نیاز داریم که عملیات زیر را بتواند انجام دهد.\n",
    "</font> </div>\n",
    "<font size=5>\n",
    "<table ><font face=\"XB Zar\" size=5>\n",
    "<tbody>\n",
    "<tr>\n",
    "<th>&nbsp;</th>\n",
    "<th>Linked list</th>\n",
    "<th>Array</th>\n",
    "<th>Dynamic array</th>\n",
    "</tr>\n",
    "<tr>\n",
    "<td>Indexing</td>\n",
    "<td style=\"background:#ffdddd\">Θ(<i>n</i>)</td>\n",
    "<td style=\"background:#ddffdd\">Θ(1)</td>\n",
    "<td style=\"background:#ddffdd\">Θ(1)</td>\n",
    "</tr>\n",
    "<tr>\n",
    "<td>Insertion/deletion at end</td>\n",
    "<td style=\"background:#ddffdd\">Θ(1)</td>\n",
    "<td style=\"background:#ffdddd\">N/A</td>\n",
    "<td style=\"background:#ddffdd\">Θ(1) amortize</td>\n",
    "</tr>\n",
    "<tr>\n",
    "<td>Insertion/deletion in middle</td>\n",
    "<td style=\"background:#ddffdd\">Θ(1)</td>\n",
    "<td style=\"background:#ffdddd\">N/A</td>\n",
    "<td style=\"background:#ffdddd\">Θ(<i>n</i>)</td>\n",
    "</tr>\n",
    "<tr>\n",
    "<td>Wasted space (average)</td>\n",
    "<td style=\"background:#ffdddd\">Θ(<i>n</i>)</td>\n",
    "<td style=\"background:#ddffdd\">0</td>\n",
    "<td style=\"background:#ffdddd\">Θ(<i>n</i>)</td>\n",
    "</tr>\n",
    "<tr>\n",
    "<td>Space</td>\n",
    "<td style=\"background:#ffdddd\">Θ(<i>n</i>)</td>\n",
    "<td style=\"background:#ddffdd\">n</td>\n",
    "<td style=\"background:#ffdddd\">Θ(<i>n</i>)</td>\n",
    "</tr>\n",
    "\n",
    "</tbody>\n",
    "</font>\n",
    "</table>\n",
    "</font>\n"
   ]
  },
  {
   "cell_type": "markdown",
   "metadata": {},
   "source": [
    "<div style=\"direction:rtl;line-height:300%;\"><font face=\"XB Zar\" size=5>\n",
    "<p></p>\n",
    "<font color=#FF7500 size=6 id=\"insert\">\n",
    "<p></p>\n",
    "درج در Dynamic Array\n",
    "</font>\n",
    "<br>\n",
    "اگر هر زمانی که سایز آرایه پر شود، یک آرایه دیگر با سایز یکی بزرگتر بسازیم و تمام اطلاعات را کپی کنیم، مشکل رفع می‌شود؟\n",
    "<br>\n",
    "<br>\n",
    "یک روش پیشنهادی تغییر اندازه آرایه های پویا به مقدار زیادتر است؛\n",
    "مثلا زمانی که آرایه پر شد، اندازه آن را دو برابر می‌کنیم.\n",
    "<br>\n",
    "چرا با اینکار درج کردن به طور سرشکن از\n",
    "$O(n)$\n",
    "است؟"
   ]
  },
  {
   "cell_type": "markdown",
   "metadata": {},
   "source": [
    "<img src=\"files/DynamicArray.gif\">"
   ]
  },
  {
   "cell_type": "code",
   "execution_count": 6,
   "metadata": {
    "ExecuteTime": {
     "end_time": "2016-05-07T18:41:39.016000",
     "start_time": "2016-05-07T18:41:39.010000"
    },
    "collapsed": true
   },
   "outputs": [],
   "source": [
    "#We use lists here, even though a list is a dynamic array\n",
    "class DynamicArray:\n",
    "    def __init__(self):\n",
    "        self.a = [None] # capacity = len(self.a)\n",
    "        self.size = 0\n",
    "    def insert(self, x):\n",
    "        if self.size == len(self.a):\n",
    "            new = [None] * 2*len(self.a)\n",
    "            for i in range(len(self.a)):\n",
    "                new[i] = self.a[i]\n",
    "            self.a = new\n",
    "        self.a[self.size] = x\n",
    "        self.size += 1"
   ]
  },
  {
   "cell_type": "code",
   "execution_count": null,
   "metadata": {
    "ExecuteTime": {
     "end_time": "2016-05-07T18:41:39.370000",
     "start_time": "2016-05-07T18:41:39.367000"
    }
   },
   "outputs": [
    {
     "name": "stdout",
     "output_type": "stream",
     "text": [
      "0\n",
      "[None]\n"
     ]
    }
   ],
   "source": [
    "da = DynamicArray()\n",
    "print(da.size) \n",
    "print(da.a)"
   ]
  },
  {
   "cell_type": "code",
   "execution_count": 22,
   "metadata": {
    "ExecuteTime": {
     "end_time": "2016-05-07T18:41:39.950000",
     "start_time": "2016-05-07T18:41:39.947000"
    }
   },
   "outputs": [
    {
     "name": "stdout",
     "output_type": "stream",
     "text": [
      "1\n",
      "[1]\n"
     ]
    }
   ],
   "source": [
    "da.insert(1)\n",
    "print(da.size) \n",
    "print(da.a)"
   ]
  },
  {
   "cell_type": "code",
   "execution_count": 23,
   "metadata": {
    "ExecuteTime": {
     "end_time": "2016-05-07T18:41:41.451000",
     "start_time": "2016-05-07T18:41:41.448000"
    }
   },
   "outputs": [
    {
     "name": "stdout",
     "output_type": "stream",
     "text": [
      "2\n",
      "[1, 2]\n"
     ]
    }
   ],
   "source": [
    "da.insert(2)\n",
    "print(da.size) \n",
    "print(da.a)"
   ]
  },
  {
   "cell_type": "code",
   "execution_count": 24,
   "metadata": {
    "ExecuteTime": {
     "end_time": "2016-05-07T18:41:50.037000",
     "start_time": "2016-05-07T18:41:50.035000"
    }
   },
   "outputs": [
    {
     "name": "stdout",
     "output_type": "stream",
     "text": [
      "3\n",
      "[1, 2, 3, None]\n"
     ]
    }
   ],
   "source": [
    "da.insert(3)\n",
    "print(da.size) \n",
    "print(da.a)"
   ]
  },
  {
   "cell_type": "code",
   "execution_count": 25,
   "metadata": {
    "ExecuteTime": {
     "end_time": "2016-05-07T18:42:08.452000",
     "start_time": "2016-05-07T18:42:08.449000"
    }
   },
   "outputs": [
    {
     "name": "stdout",
     "output_type": "stream",
     "text": [
      "5\n",
      "[1, 2, 3, 4, 5, None, None, None]\n"
     ]
    }
   ],
   "source": [
    "da.insert(4); da.insert(5)\n",
    "print(da.size) \n",
    "print(da.a)"
   ]
  },
  {
   "cell_type": "markdown",
   "metadata": {},
   "source": [
    "<div style=\"direction:rtl;line-height:300%;\"><font face=\"XB Zar\" size=5>\n",
    "<p></p>\n",
    "<font color=#FF7500 size=6 id=\"delete\">\n",
    "<p></p>\n",
    "حذف در Dynamic Array\n",
    "</font>\n",
    "<br>\n",
    "با حذف کردن عناصر از آخر آرایه، برای اینکه حافظه از $O(n)$بماند،\n",
    "باید در مواقعی ظرفیت آن را کم کرد.\n",
    "<br>\n",
    "اگر وقتی ظرفیت آرایه دو برابر سایز آرایه باشد، اندازه آن را کاهش دهیم، مشکل رفع می شود؟\n",
    "<br>\n",
    "چه راه حلی پیشنهاد می دهید؟"
   ]
  },
  {
   "cell_type": "markdown",
   "metadata": {},
   "source": [
    "<div style=\"direction:rtl;line-height:300%;\"><font face=\"XB Zar\" size=5>\n",
    "<p></p>\n",
    "<font color=#FF7500 size=6 id=\"implementation\">\n",
    "<p></p>\n",
    "پیاده سازی\n",
    "Dynamic Array\n",
    "در زبان های مختلف\n",
    "</font>\n",
    "</font>\n",
    "</div>\n",
    "<font size=5>\n",
    "<table class=\"wikitable\">\n",
    "<tbody>\n",
    "<tr>\n",
    "<th><font face=\"XB Zar\" size=5>\n",
    "<div align=\"center\">\n",
    "پیاده سازی\n",
    "</div>\n",
    "</font></th>\n",
    "<th><font face=\"XB Zar\" size=5>\n",
    "<div align=\"center\">\n",
    "ضریب رشد\n",
    "</div>\n",
    "</font></th>\n",
    "</tr>\n",
    "\n",
    "<tr>\n",
    "<td>Java ArrayList</td>\n",
    "<td>1.5 (3/2)</td>\n",
    "</tr>\n",
    "<tr>\n",
    "<td>Python PyListObject (list)</td>\n",
    "<td>1.125 (9/8)</td>\n",
    "</tr>\n",
    "<tr>\n",
    "<td>G++ 5.2.0 vector</td>\n",
    "<td>2</td>\n",
    "</tr>\n",
    "<tr>\n",
    "<td>Facebook folly/FBVector</td>\n",
    "<td>1.5 (3/2)</td>\n",
    "</tr>\n",
    "</tbody></table>\n",
    "</font>"
   ]
  },
  {
   "cell_type": "markdown",
   "metadata": {},
   "source": [
    "<div style=\"direction:rtl;line-height:300%;\"><font face=\"XB Zar\" size=5>\n",
    "<p></p>\n",
    "<font color=#FF7500 size=6 id=\"dict\">\n",
    "<p></p>\n",
    "dict در پایتون\n",
    "</font>\n",
    "<br>\n",
    "داده ساختار dict\n",
    "یک نوع دیکشنری\n",
    "است.\n",
    "<br>\n",
    "برخلاف رشته‌ها، لیست‌ها اندیس داده‌ها در دیکشنری به دلخواه برنامه‌نویس مشخص می‌شود (که این اندیس ها کلید - \n",
    "key\n",
    " گفته می شود)\n",
    " <br>\n",
    " این کلید ها می توانند از هر جنسی باشند و لزومی ندارد که عدد صحیح باشند.\n"
   ]
  },
  {
   "cell_type": "code",
   "execution_count": 26,
   "metadata": {
    "ExecuteTime": {
     "end_time": "2016-05-07T06:34:24.776000",
     "start_time": "2016-05-07T06:34:24.772000"
    }
   },
   "outputs": [
    {
     "name": "stdout",
     "output_type": "stream",
     "text": [
      "{20: 0, 3.14: '20', 'eshagh': 10, 'bagher': 1, 'salim': '??'}\n"
     ]
    }
   ],
   "source": [
    "grade = {20:0, 3.14:\"20\"}\n",
    "grade[\"eshagh\"] = 10\n",
    "grade[\"bagher\"] = 1\n",
    "grade[\"salim\"] = \"??\"\n",
    "print(grade)"
   ]
  },
  {
   "cell_type": "markdown",
   "metadata": {},
   "source": [
    "<div style=\"direction:rtl;line-height:300%;\"><font face=\"XB Zar\" size=5>\n",
    "<p></p>\n",
    "<br>\n",
    "دیکشنری در پایتون به صورت «آدرس دهی باز» پیاده سازی شده است.\n",
    "<br>\n",
    "در ادامه به نحوه پیاده سازی دیکشنری در پایتون می پردازیم.\n",
    "<br>"
   ]
  },
  {
   "cell_type": "code",
   "execution_count": 27,
   "metadata": {
    "ExecuteTime": {
     "end_time": "2016-05-07T06:23:49.496000",
     "start_time": "2016-05-07T06:23:49.487000"
    },
    "collapsed": true
   },
   "outputs": [],
   "source": [
    "d = {}"
   ]
  },
  {
   "cell_type": "markdown",
   "metadata": {},
   "source": [
    "<div style=\"direction:rtl;line-height:300%;\"><font face=\"XB Zar\" size=5>\n",
    "<p></p>\n",
    "دیکشنری در واقع یک لیست است.\n",
    "<br>\n",
    "یک دیکشنری خالی، یک لیست با طول 8 است.\n",
    "<img src=\"files/figures/insert0.png\">"
   ]
  },
  {
   "cell_type": "markdown",
   "metadata": {
    "ExecuteTime": {
     "end_time": "2016-05-07T01:51:55.429000",
     "start_time": "2016-05-07T01:51:55.427000"
    }
   },
   "source": [
    "<div style=\"direction:rtl;line-height:300%;\"><font face=\"XB Zar\" size=5>\n",
    "<p></p>\n",
    "هش هر کلید تولید می شود تا بتوان آن را در لیست ذخیره کرد.\n",
    "<br>\n",
    "می توان هش استفاده شده توسط پایتون را با استفاده از تابع\n",
    "hash\n",
    "مشاهده کرد."
   ]
  },
  {
   "cell_type": "code",
   "execution_count": 29,
   "metadata": {
    "ExecuteTime": {
     "end_time": "2016-05-07T06:23:49.508000",
     "start_time": "2016-05-07T06:23:49.500000"
    }
   },
   "outputs": [
    {
     "name": "stdout",
     "output_type": "stream",
     "text": [
      "00000000000000000000000000000010\n",
      "\n",
      "01100011001110100110100011101001 John Snow\n",
      "10010001010010001010000101101011 Grades are not important\n",
      "11101001011011111111001101001111 (1, 2, 3)\n"
     ]
    }
   ],
   "source": [
    "# gives binary of a number\n",
    "def bits(n):\n",
    "    n += 2**32\n",
    "    return bin(n)[-32:]  # remove '0b'\n",
    "print(bits(2), end='\\n\\n')\n",
    "\n",
    "print(bits(hash(\"John Snow\")), \"John Snow\")\n",
    "print(bits(hash(\"Grades are not important\")), \"Grades are not important\")\n",
    "print(bits(hash((1, 2, 3))), (1, 2, 3)) # tuples are also hashable"
   ]
  },
  {
   "cell_type": "markdown",
   "metadata": {},
   "source": [
    "<div style=\"direction:rtl;line-height:300%;\"><font face=\"XB Zar\" size=5>\n",
    "<p></p>\n",
    "هش دو رشته مشابه می تواند تفاوت زیادی داشته باشد."
   ]
  },
  {
   "cell_type": "code",
   "execution_count": 30,
   "metadata": {
    "ExecuteTime": {
     "end_time": "2016-05-07T06:23:49.520000",
     "start_time": "2016-05-07T06:23:49.511000"
    }
   },
   "outputs": [
    {
     "name": "stdout",
     "output_type": "stream",
     "text": [
      "11101101010010101001010101100010\n",
      "10100100001100001010101000100100\n",
      " ^  ^  ^ ^^^^ ^   ^^^^^^ ^   ^^ \n"
     ]
    }
   ],
   "source": [
    "k1 = bits(hash('Fail'))\n",
    "k2 = bits(hash('Faal'))\n",
    "diff = ('^' if a!=b else ' ' for a,b in zip(k1, k2)) # points out inequal bits\n",
    "print(k1)\n",
    "print(k2)\n",
    "print(''.join(diff)) # diff is not a string per se\n"
   ]
  },
  {
   "cell_type": "markdown",
   "metadata": {},
   "source": [
    "<div style=\"direction:rtl;line-height:300%;\"><font face=\"XB Zar\" size=5>\n",
    "<p></p>\n",
    "اندیس یک کلید برابر \n",
    "$n$\n",
    "بیت سمت راس هش آن کلید است.\n",
    "<br>\n",
    "$2^n = size\\_of\\_hash\\_table$\n",
    "<font color='Green' size=4>\n",
    "در ابتدا $n = 3$ است.\n",
    "</font>\n"
   ]
  },
  {
   "cell_type": "code",
   "execution_count": 31,
   "metadata": {
    "ExecuteTime": {
     "end_time": "2016-05-07T06:23:49.531000",
     "start_time": "2016-05-07T06:23:49.522000"
    }
   },
   "outputs": [
    {
     "name": "stdout",
     "output_type": "stream",
     "text": [
      "11000010001100001000101010110100\n",
      "100\n"
     ]
    }
   ],
   "source": [
    "d[\"ali\"] = 6\n",
    "b = bits(hash(\"ali\"))\n",
    "print(b)\n",
    "print(b[-3:])  # last 3 bits = 8 combinations"
   ]
  },
  {
   "cell_type": "markdown",
   "metadata": {},
   "source": [
    "<div style=\"direction:rtl;line-height:300%;\"><font face=\"XB Zar\" size=5>\n",
    "<p></p>\n",
    "<img src=\"files/figures/insert1b.png\">"
   ]
  },
  {
   "cell_type": "code",
   "execution_count": 32,
   "metadata": {
    "ExecuteTime": {
     "end_time": "2016-05-07T06:23:49.544000",
     "start_time": "2016-05-07T06:23:49.533000"
    }
   },
   "outputs": [
    {
     "name": "stdout",
     "output_type": "stream",
     "text": [
      "01000000110010011101111010001011\n",
      "011\n"
     ]
    }
   ],
   "source": [
    "d[\"reza\"] = 9\n",
    "b = bits(hash(\"reza\"))\n",
    "print(b)\n",
    "print(b[-3:])  # last 3 bits = 8 combinations"
   ]
  },
  {
   "cell_type": "markdown",
   "metadata": {},
   "source": [
    "<div style=\"direction:rtl;line-height:300%;\"><font face=\"XB Zar\" size=5>\n",
    "<p></p>\n",
    "<img src=\"files/figures/insert2b.png\">"
   ]
  },
  {
   "cell_type": "code",
   "execution_count": 33,
   "metadata": {
    "ExecuteTime": {
     "end_time": "2016-05-07T06:23:49.555000",
     "start_time": "2016-05-07T06:23:49.546000"
    }
   },
   "outputs": [
    {
     "name": "stdout",
     "output_type": "stream",
     "text": [
      "01111010011100110101110111011001\n",
      "001\n"
     ]
    }
   ],
   "source": [
    "d[\"nasim\"] = 8\n",
    "b = bits(hash(\"nasim\"))\n",
    "print(b)\n",
    "print(b[-3:])  # last 3 bits = 8 combinations"
   ]
  },
  {
   "cell_type": "markdown",
   "metadata": {},
   "source": [
    "<div style=\"direction:rtl;line-height:300%;\"><font face=\"XB Zar\" size=5>\n",
    "<p></p>\n",
    "<img src=\"files/figures/insert3b.png\">"
   ]
  },
  {
   "cell_type": "code",
   "execution_count": 2,
   "metadata": {
    "ExecuteTime": {
     "end_time": "2016-05-07T06:23:49.566000",
     "start_time": "2016-05-07T06:23:49.556000"
    }
   },
   "outputs": [
    {
     "name": "stdout",
     "output_type": "stream",
     "text": [
      "dict_keys(['ali', 'reza', 'nasim'])\n",
      "dict_keys(['nasim', 'reza', 'ali'])\n"
     ]
    }
   ],
   "source": [
    "d = {'ali': 6, 'reza': 9, 'nasim': 8}\n",
    "print(d.keys())\n",
    "d = {'nasim': 8, 'reza': 9, 'ali': 6}\n",
    "print(d.keys())"
   ]
  },
  {
   "cell_type": "markdown",
   "metadata": {},
   "source": [
    "<div style=\"direction:rtl;line-height:300%;\"><font face=\"XB Zar\" size=5>\n",
    "<p></p>\n",
    "<img src=\"files/figures/keyorder1a.png\" style=\"float:left; width:50%\">\n",
    "<img src=\"files/figures/keyorder1b.png\" style=\"float:left; width:50%\">"
   ]
  },
  {
   "cell_type": "markdown",
   "metadata": {},
   "source": [
    "<div style=\"direction:rtl;line-height:300%;\"><font face=\"XB Zar\" size=5>\n",
    "<p></p>\n",
    "چرا این دو دیکشنری با اینکه ترتیب متفاوتی دارند، در پایتون ۲ خروجی یکسانی دارند؟ چرا در پایتون ۳ به این صورت نیست؟"
   ]
  },
  {
   "cell_type": "markdown",
   "metadata": {},
   "source": [
    "<div style=\"direction:rtl;line-height:300%;\"><font face=\"XB Zar\" size=5>\n",
    "<p></p>\n",
    "با چاپ کردن دیکشنری در پایتون ۲ ترتیب خروجی همان ترتیب جدول درهم سازی است. (نه ترتیبی که مقدار ها به دیکشنری اضافه شده اند)\n",
    "<br>\n",
    "اما در پایتون ۳ اینطور نیست!"
   ]
  },
  {
   "cell_type": "markdown",
   "metadata": {},
   "source": [
    "<div style=\"direction:rtl;line-height:300%;\"><font face=\"XB Zar\" size=5>\n",
    "<p></p>\n",
    "<font color=#FF7500 size=6 id=\"collision\">\n",
    "<p></p>\n",
    "برخورد در dict</font>\n",
    "<br>\n",
    "اگر برخورد داشته باشیم باید چه کنیم؟\n",
    "<br>\n",
    "می توان از کاوش خطی استفاده کرد که از نظر زمانی اصلا ایده آل نیست، چرا که دنباله های پشت سر هم در جدول ساخته می شود و در طول زمان جدول کند می شود.\n",
    "<br>\n",
    "در پایتون براساس\n",
    "$32 - n$\n",
    "بیت سمت چپ که از آن ها استفاده نشده یک کاوش (که تقریبا رندوم است) ایجاد می شود.\n",
    "(به دلیل پیچیدگی این کاوش، آن را بررسی نمی کنیم)"
   ]
  },
  {
   "cell_type": "code",
   "execution_count": 35,
   "metadata": {
    "ExecuteTime": {
     "end_time": "2016-05-07T06:23:49.577000",
     "start_time": "2016-05-07T06:23:49.568000"
    },
    "collapsed": true
   },
   "outputs": [],
   "source": [
    "d = {}"
   ]
  },
  {
   "cell_type": "code",
   "execution_count": 36,
   "metadata": {
    "ExecuteTime": {
     "end_time": "2016-05-07T06:23:49.589000",
     "start_time": "2016-05-07T06:23:49.578000"
    }
   },
   "outputs": [
    {
     "name": "stdout",
     "output_type": "stream",
     "text": [
      "01100011000101010110000000001010\n",
      "010\n"
     ]
    }
   ],
   "source": [
    "d[\"arya\"] = 666\n",
    "b = bits(hash(\"arya\"))\n",
    "print(b)\n",
    "print(b[-3:])  # last 3 bits = 8 combinations"
   ]
  },
  {
   "cell_type": "markdown",
   "metadata": {},
   "source": [
    "<div style=\"direction:rtl;line-height:300%;\"><font face=\"XB Zar\" size=5>\n",
    "<p></p>\n",
    "<img src=\"files/figures/collide1b.png\">"
   ]
  },
  {
   "cell_type": "code",
   "execution_count": 37,
   "metadata": {
    "ExecuteTime": {
     "end_time": "2016-05-07T06:23:49.604000",
     "start_time": "2016-05-07T06:23:49.591000"
    }
   },
   "outputs": [
    {
     "name": "stdout",
     "output_type": "stream",
     "text": [
      "01111001100011111100111110011111\n",
      "111\n"
     ]
    }
   ],
   "source": [
    "d[\"john\"] = 858\n",
    "b = bits(hash(\"john\"))\n",
    "print(b)\n",
    "print(b[-3:])  # last 3 bits = 8 combinations"
   ]
  },
  {
   "cell_type": "markdown",
   "metadata": {},
   "source": [
    "<div style=\"direction:rtl;line-height:300%;\"><font face=\"XB Zar\" size=5>\n",
    "<p></p>\n",
    "<img src=\"files/figures/collide2b.png\">"
   ]
  },
  {
   "cell_type": "code",
   "execution_count": 38,
   "metadata": {
    "ExecuteTime": {
     "end_time": "2016-05-07T06:23:49.624000",
     "start_time": "2016-05-07T06:23:49.608000"
    }
   },
   "outputs": [
    {
     "name": "stdout",
     "output_type": "stream",
     "text": [
      "00111100110101111000000000000011\n",
      "011\n"
     ]
    }
   ],
   "source": [
    "d[\"snow\"] = 1\n",
    "b = bits(hash(\"snow\"))\n",
    "print(b)\n",
    "print(b[-3:])  # last 3 bits = 8 combinations"
   ]
  },
  {
   "cell_type": "markdown",
   "metadata": {},
   "source": [
    "<div style=\"direction:rtl;line-height:300%;\"><font face=\"XB Zar\" size=5>\n",
    "<p></p>\n",
    "<img src=\"files/figures/collide3b.png\">"
   ]
  },
  {
   "cell_type": "code",
   "execution_count": 39,
   "metadata": {
    "ExecuteTime": {
     "end_time": "2016-05-07T06:23:49.635000",
     "start_time": "2016-05-07T06:23:49.631000"
    }
   },
   "outputs": [
    {
     "name": "stdout",
     "output_type": "stream",
     "text": [
      "00000000000110011001101100100000\n",
      "000\n"
     ]
    }
   ],
   "source": [
    "d[\"alive\"] = 2\n",
    "b = bits(hash(\"alive\"))\n",
    "print(b)\n",
    "print(b[-3:])  # last 3 bits = 8 combinations"
   ]
  },
  {
   "cell_type": "markdown",
   "metadata": {},
   "source": [
    "<div style=\"direction:rtl;line-height:300%;\"><font face=\"XB Zar\" size=5>\n",
    "<p></p>\n",
    "<img src=\"files/figures/collide4b.png\">"
   ]
  },
  {
   "cell_type": "code",
   "execution_count": 40,
   "metadata": {
    "ExecuteTime": {
     "end_time": "2016-05-07T06:23:49.647000",
     "start_time": "2016-05-07T06:23:49.637000"
    }
   },
   "outputs": [
    {
     "name": "stdout",
     "output_type": "stream",
     "text": [
      "01101000001010000111111101110111\n",
      "111\n"
     ]
    }
   ],
   "source": [
    "d[\"dead\"] = 3\n",
    "b = bits(hash(\"dead\"))\n",
    "print(b)\n",
    "print(b[-3:])  # last 3 bits = 8 combinations"
   ]
  },
  {
   "cell_type": "markdown",
   "metadata": {},
   "source": [
    "<div style=\"direction:rtl;line-height:300%;\"><font face=\"XB Zar\" size=5>\n",
    "<p></p>\n",
    "<img src=\"files/figures/collide5b.png\">"
   ]
  },
  {
   "cell_type": "code",
   "execution_count": 2,
   "metadata": {
    "ExecuteTime": {
     "end_time": "2016-05-07T06:23:49.658000",
     "start_time": "2016-05-07T06:23:49.649000"
    }
   },
   "outputs": [
    {
     "name": "stdout",
     "output_type": "stream",
     "text": [
      "dict_keys(['arya', 'snow', 'john', 'alive', 'dead'])\n",
      "dict_keys(['snow', 'john', 'arya', 'dead', 'alive'])\n",
      "True\n"
     ]
    }
   ],
   "source": [
    "d = {'arya': 666, 'snow': 1, 'john':858, 'alive': 2, 'dead':3}\n",
    "print(d.keys())\n",
    "e = {'snow': 1, 'john': 858, 'arya':666, 'dead':3, 'alive': 2}\n",
    "print(e.keys())\n",
    "print(d == e) # ???"
   ]
  },
  {
   "cell_type": "markdown",
   "metadata": {},
   "source": [
    "<div style=\"direction:rtl;line-height:300%;\"><font face=\"XB Zar\" size=5>\n",
    "<p></p>\n",
    "<img src=\"files/figures/keyorder2a.png\" style=\"float:left; width:50%\">\n",
    "<img src=\"files/figures/keyorder2b.png\" style=\"float:left; width:50%\">"
   ]
  },
  {
   "cell_type": "markdown",
   "metadata": {},
   "source": [
    "<div style=\"direction:rtl;line-height:300%;\"><font face=\"XB Zar\" size=5>\n",
    "<p></p>\n",
    "چرا این دو دیکشنری با اینکه مقادیر یکسانی دارند، ترتیب متفاوتی دارند؟"
   ]
  },
  {
   "cell_type": "markdown",
   "metadata": {},
   "source": [
    "<div style=\"direction:rtl;line-height:300%;\"><font face=\"XB Zar\" size=5>\n",
    "<p></p>\n",
    "<font color=#FF7500 size=6 id=\"search\">\n",
    "<p></p>\n",
    "جست و جو در dict</font>\n",
    "<br>\n",
    "جست و جو هم شبیه به به درج کردن عمل می کند.\n",
    "<br>\n",
    "تا زمانی که سطر خالی پیدا نکرده یا کلید مورد نظر را پیدا نکرده به جست و جو ادامه می دهد."
   ]
  },
  {
   "cell_type": "code",
   "execution_count": 42,
   "metadata": {
    "ExecuteTime": {
     "end_time": "2016-05-07T06:23:49.672000",
     "start_time": "2016-05-07T06:23:49.661000"
    }
   },
   "outputs": [
    {
     "name": "stdout",
     "output_type": "stream",
     "text": [
      "00001001011001100110001010011101\n",
      "101\n",
      "False\n"
     ]
    }
   ],
   "source": [
    "b = bits(hash(\"fire\"))\n",
    "print(b)\n",
    "print(b[-3:])  # last 3 bits = 8 combinations\n",
    "print(\"fire\" in d)"
   ]
  },
  {
   "cell_type": "markdown",
   "metadata": {},
   "source": [
    "<div style=\"direction:rtl;line-height:300%;\"><font face=\"XB Zar\" size=5>\n",
    "<p></p>\n",
    "<img src=\"files/figures/collide5c.png\">"
   ]
  },
  {
   "cell_type": "markdown",
   "metadata": {},
   "source": [
    "<div style=\"direction:rtl;line-height:300%;\"><font face=\"XB Zar\" size=5>\n",
    "<p></p>\n",
    "<font color=#FF7500 size=6 id=\"delete-dict\">\n",
    "<p></p>\n",
    "حذف کردن در dict</font>\n",
    "<br>\n",
    "برای حذف کردن یک کلید باید چه کرد؟\n",
    "<br>\n",
    "آیا خالی کردن سطر کلید مورد نظر کافی است؟"
   ]
  },
  {
   "cell_type": "markdown",
   "metadata": {},
   "source": [
    "<div style=\"direction:rtl;line-height:300%;\"><font face=\"XB Zar\" size=5>\n",
    "<p></p>\n",
    "<font color=\"Red\">\n",
    "<p></p>\n",
    "<div style=\"text-align: center;\">\n",
    "حذف \"snow\":\n",
    "</div>\n",
    "</font>\n",
    "<img src=\"files/figures/collide5d.png\" style=\"float:left; width:50%\">\n",
    "<img src=\"files/figures/collide5e.png\" style=\"float:left; width:50%\">"
   ]
  },
  {
   "cell_type": "markdown",
   "metadata": {},
   "source": [
    "<div style=\"direction:rtl;line-height:300%;\"><font face=\"XB Zar\" size=5>\n",
    "<p></p>\n",
    "<font color=\"Red\">\n",
    "<p></p>\n",
    "<div style=\"text-align: center;\">\n",
    "جست و جو \"dead\":\n",
    "</div>\n",
    "</font>\n",
    "<img src=\"files/figures/collide5b.png\" style=\"float:left; width:50%\">\n",
    "<img src=\"files/figures/collide5f.png\" style=\"float:left; width:50%\">"
   ]
  },
  {
   "cell_type": "markdown",
   "metadata": {},
   "source": [
    "<div style=\"direction:rtl;line-height:300%;\"><font face=\"XB Zar\" size=5>\n",
    "<p></p>\n",
    "اگر فقط سطر را خالی کنیم، با جست و جو \"dead\"\n",
    "به نتیجه می رسیم که \"dead\" \n",
    "در جدول وجود ندارد، که غلط است.\n",
    "<br>\n",
    "چه پیشنهادی برای رفع این مشکل دارید؟\n",
    "<br>"
   ]
  },
  {
   "cell_type": "markdown",
   "metadata": {},
   "source": [
    "<div style=\"direction:rtl;line-height:300%;\"><font face=\"XB Zar\" size=5>\n",
    "<p></p>\n",
    "می توان به جای خالی کردن سطر مقدار \"dummy\"\n",
    "را در آن قرار دهیم."
   ]
  },
  {
   "cell_type": "code",
   "execution_count": 43,
   "metadata": {
    "ExecuteTime": {
     "end_time": "2016-05-07T06:23:49.683000",
     "start_time": "2016-05-07T06:23:49.675000"
    }
   },
   "outputs": [
    {
     "name": "stdout",
     "output_type": "stream",
     "text": [
      "True\n"
     ]
    }
   ],
   "source": [
    "d = {'arya': 666, 'john': 858, 'snow':1, 'alive': 2, 'dead':3}\n",
    "del d[\"snow\"]\n",
    "print(\"dead\" in d)"
   ]
  },
  {
   "cell_type": "markdown",
   "metadata": {},
   "source": [
    "<div style=\"direction:rtl;line-height:300%;\"><font face=\"XB Zar\" size=5>\n",
    "<p></p>\n",
    "<font color=\"Red\">\n",
    "<p></p>\n",
    "<div style=\"text-align: center;\">\n",
    "حذف \"snow\"\n",
    "و\n",
    "جست و جو \"dead\":\n",
    "</div>\n",
    "</font>\n",
    "<img src=\"files/figures/collide5g.png\" style=\"float:left; width:50%\">\n",
    "<img src=\"files/figures/collide5h.png\" style=\"float:left; width:50%\">"
   ]
  },
  {
   "cell_type": "markdown",
   "metadata": {},
   "source": [
    "<div style=\"direction:rtl;line-height:300%;\"><font face=\"XB Zar\" size=5>\n",
    "<p></p>\n",
    "با اینکار در مرحله جست و جو \"dead\"\n",
    "وقتی به سطر 101\n",
    "می رسیم، با توجه به اینکه hash\n",
    "آن خالی است ولی این سطر مقدار دارد از روی آن می گذریم."
   ]
  },
  {
   "cell_type": "code",
   "execution_count": 44,
   "metadata": {
    "ExecuteTime": {
     "end_time": "2016-05-07T06:23:49.695000",
     "start_time": "2016-05-07T06:23:49.687000"
    }
   },
   "outputs": [
    {
     "name": "stdout",
     "output_type": "stream",
     "text": [
      "True\n"
     ]
    }
   ],
   "source": [
    "d = {'arya': 666, 'john': 858, 'snow':1, 'alive': 2, 'dead':3}\n",
    "del d[\"snow\"], d['john'], d['arya'], d['alive']\n",
    "print(\"dead\" in d)"
   ]
  },
  {
   "cell_type": "markdown",
   "metadata": {},
   "source": [
    "<div style=\"direction:rtl;line-height:300%;\"><font face=\"XB Zar\" size=5>\n",
    "<p></p>\n",
    "<font color=\"Red\">\n",
    "<p></p>\n",
    "<div style=\"text-align: center;\">\n",
    "جست و جو \"dead\":\n",
    "</div>\n",
    "</font>\n",
    "<img src=\"files/figures/collide5i.png\" style=\"float:left; width:50%\">\n",
    "<img src=\"files/figures/collide5j.png\" style=\"float:left; width:50%\">"
   ]
  },
  {
   "cell_type": "markdown",
   "metadata": {},
   "source": [
    "<div style=\"direction:rtl;line-height:300%;\"><font face=\"XB Zar\" size=5>\n",
    "<p></p>\n",
    "<font color=#FF7500 size=6 id=\"dynamic-size-dict\">\n",
    "<p></p>\n",
    "پویا بودن سایز dict</font>\n",
    "<br>\n",
    "وقتی دیکشنری تقریبا پر شود چه مشکلی پیش می آید؟\n",
    "<br>\n",
    "برای حل این مشکل چه راه حلی پیشنهاد می کنید؟\n",
    "<br>"
   ]
  },
  {
   "cell_type": "markdown",
   "metadata": {},
   "source": [
    "<div style=\"direction:rtl;line-height:300%;\"><font face=\"XB Zar\" size=5>\n",
    "<p></p>\n",
    "دیکشنری در پایتون خود مانند یک آرایه پویا عملی می کند.\n",
    "<br>\n",
    "در پایتون وقتی\n",
    "$2/3$\n",
    "جدول پر شده یک دیکشنری جدید ساخته می شود و تمام اعضای دیکشنری داخل دیکشنری جدید ریخته می شوند.\n",
    "<br>\n",
    "سایز دیکشنری جدید در پایتون به صورت است.\n",
    "<br>\n",
    "`When < 50k entries, size *= 4`\n",
    "<br>\n",
    "`When > 50k entries, size *= 2`\n",
    "<br>\n",
    "این کار برای صرفه جویی در حافظه در مقدار های بالا است.\n",
    "<br>\n",
    "اثبات کنید جدول درهم سازی با الگوریتم گفته شده (معروف به درهم سازی پویا) همچنان عملکردی از\n",
    "$O(1)$\n",
    "دارد."
   ]
  },
  {
   "cell_type": "markdown",
   "metadata": {},
   "source": [
    "<div style=\"direction:rtl;line-height:300%;\"><font face=\"XB Zar\" size=5>\n",
    "<p></p>\n",
    "فایل\n",
    "words\n",
    "یک دیکشنری حاوی تمام کلمات انگلیسی است.\n",
    "<br>\n",
    "از آن برای اضافه کردن کلمات به dict\n",
    "استفاده می کنیم."
   ]
  },
  {
   "cell_type": "code",
   "execution_count": 45,
   "metadata": {
    "ExecuteTime": {
     "end_time": "2016-05-07T06:26:20.911000",
     "start_time": "2016-05-07T06:26:20.837000"
    }
   },
   "outputs": [
    {
     "data": {
      "text/plain": [
       "['a', 'abaci', 'aback', 'abaft', 'abase']"
      ]
     },
     "execution_count": 45,
     "metadata": {},
     "output_type": "execute_result"
    }
   ],
   "source": [
    "wordfile = open('files/words')\n",
    "text = wordfile.read()\n",
    "words = [ w for w in text.split() \n",
    "         if w == w.lower() and len(w) < 6 ]\n",
    "# words: words which are lower case and\n",
    "#         have length less than 6\n",
    "words[:5]"
   ]
  },
  {
   "cell_type": "code",
   "execution_count": 46,
   "metadata": {
    "ExecuteTime": {
     "end_time": "2016-05-07T06:23:49.887000",
     "start_time": "2016-05-07T06:23:49.871000"
    },
    "collapsed": true
   },
   "outputs": [],
   "source": [
    "d = dict.fromkeys(words[:5])\n",
    "# collision rate 40%\n",
    "# but now 2/3 full — on verge of resizing!"
   ]
  },
  {
   "cell_type": "markdown",
   "metadata": {},
   "source": [
    "<div style=\"direction:rtl;line-height:300%;\"><font face=\"XB Zar\" size=5>\n",
    "<p></p>\n",
    "<img src=\"files/figures/words5.png\">"
   ]
  },
  {
   "cell_type": "code",
   "execution_count": 47,
   "metadata": {
    "ExecuteTime": {
     "end_time": "2016-05-07T06:23:49.899000",
     "start_time": "2016-05-07T06:23:49.896000"
    },
    "collapsed": true
   },
   "outputs": [],
   "source": [
    "d[\"izadi\"] = None\n",
    "# Resizes ×4 to 32, collision rate drops to 0%"
   ]
  },
  {
   "cell_type": "markdown",
   "metadata": {},
   "source": [
    "<div style=\"direction:rtl;line-height:300%;\"><font face=\"XB Zar\" size=5>\n",
    "<p></p>\n",
    "<img src=\"files/figures/words6.png\">"
   ]
  },
  {
   "cell_type": "code",
   "execution_count": 48,
   "metadata": {
    "ExecuteTime": {
     "end_time": "2016-05-07T06:23:49.913000",
     "start_time": "2016-05-07T06:23:49.901000"
    },
    "collapsed": true
   },
   "outputs": [],
   "source": [
    "d = dict.fromkeys(words[:21])\n",
    "# 2/3 full again — collision rate 29%"
   ]
  },
  {
   "cell_type": "markdown",
   "metadata": {},
   "source": [
    "<div style=\"direction:rtl;line-height:300%;\"><font face=\"XB Zar\" size=5>\n",
    "<p></p>\n",
    "<img src=\"files/figures/words21.png\">"
   ]
  },
  {
   "cell_type": "code",
   "execution_count": 49,
   "metadata": {
    "ExecuteTime": {
     "end_time": "2016-05-07T06:23:49.923000",
     "start_time": "2016-05-07T06:23:49.917000"
    },
    "collapsed": true
   },
   "outputs": [],
   "source": [
    "d['abode'] = None\n",
    "# Resizes ×4 to 128, collision rate drops to 9%"
   ]
  },
  {
   "cell_type": "markdown",
   "metadata": {},
   "source": [
    "<div style=\"direction:rtl;line-height:300%;\"><font face=\"XB Zar\" size=5>\n",
    "<p></p>\n",
    "<img src=\"files/figures/words22.png\">"
   ]
  },
  {
   "cell_type": "code",
   "execution_count": 50,
   "metadata": {
    "ExecuteTime": {
     "end_time": "2016-05-07T06:23:49.935000",
     "start_time": "2016-05-07T06:23:49.928000"
    },
    "collapsed": true
   },
   "outputs": [],
   "source": [
    "d = dict.fromkeys(words[:85])\n",
    "# 2/3 full again — collision rate 33%"
   ]
  },
  {
   "cell_type": "markdown",
   "metadata": {},
   "source": [
    "<div style=\"direction:rtl;line-height:300%;\"><font face=\"XB Zar\" size=5>\n",
    "<p></p>\n",
    "<img src=\"files/figures/words85.png\">"
   ]
  },
  {
   "cell_type": "markdown",
   "metadata": {},
   "source": [
    "<div style=\"direction:rtl;line-height:300%;\"><font face=\"XB Zar\" size=5>\n",
    "<p></p>\n",
    "<font color=#FF7500 size=6>\n",
    "<p></p>\n",
    "تمرین\n",
    "</font>\n",
    "<br>\n",
    "اسم و شماره دانشجویی خودتان را به دیکشنری اضافه کنید. سپس آن را جست و جو کرده و حذف نمایید. "
   ]
  },
  {
   "cell_type": "code",
   "execution_count": 4,
   "metadata": {
    "collapsed": true
   },
   "outputs": [],
   "source": [
    "#insert code here!"
   ]
  },
  {
   "cell_type": "markdown",
   "metadata": {},
   "source": [
    "<div style=\"direction:rtl;line-height:300%;\"><font face=\"XB Zar\" size=5>\n",
    "<p></p>\n",
    "نمودار زیر را برای زمان دسترسی به اعضا می بینید.\n",
    "<br>\n",
    "با افزایش اندازه دیکشنری، تعداد برخورد های میانگین از یک ضریب ثابتی بیشتر نمی شود."
   ]
  },
  {
   "cell_type": "markdown",
   "metadata": {
    "ExecuteTime": {
     "end_time": "2016-05-07T06:19:03.085000",
     "start_time": "2016-05-07T06:19:03.076000"
    }
   },
   "source": [
    "<div style=\"direction:rtl;line-height:300%;\"><font face=\"XB Zar\" size=5>\n",
    "<p></p>\n",
    "<img src=\"files/figures/average_time.png\">\n"
   ]
  },
  {
   "cell_type": "markdown",
   "metadata": {},
   "source": [
    "<div style=\"direction:rtl;line-height:300%;\"><font face=\"XB Zar\" size=5>\n",
    "<p></p>\n",
    "<font color=#FF7500 size=6 id=\"importance\">\n",
    "<p></p>\n",
    "اهمیت تابع درهم سازی</font>\n",
    "<br>\n",
    "اگر تابع درهم سازی به خوبی پیاده سازی نشده باشد، چه مشکلی پیش می آید؟\n",
    "<br>\n",
    "در پایتون اعداد به طور خیلی ساده هش می شوند به طوری که\n",
    "$$hash(x) = x$$\n",
    "<br>\n",
    "و با دانستن این اطلاعات می توان تعداد زیادی برخورد تولید کرد."
   ]
  },
  {
   "cell_type": "code",
   "execution_count": 51,
   "metadata": {
    "ExecuteTime": {
     "end_time": "2016-05-07T19:25:59.840000",
     "start_time": "2016-05-07T19:25:59.837000"
    }
   },
   "outputs": [
    {
     "name": "stdout",
     "output_type": "stream",
     "text": [
      "5\n"
     ]
    }
   ],
   "source": [
    "print(hash(5))"
   ]
  },
  {
   "cell_type": "code",
   "execution_count": 52,
   "metadata": {
    "ExecuteTime": {
     "end_time": "2016-05-07T19:30:15.375000",
     "start_time": "2016-05-07T19:30:15.373000"
    },
    "collapsed": true
   },
   "outputs": [],
   "source": [
    "threes = {3: 1, 3+8: 2, 3+16: 3, 3+24: 4, 3+32: 5}"
   ]
  },
  {
   "cell_type": "markdown",
   "metadata": {},
   "source": [
    "<div style=\"direction:rtl;line-height:300%;\"><font face=\"XB Zar\" size=5>\n",
    "<p></p>\n",
    "<img src=\"files/figures/stupid1.png\">"
   ]
  },
  {
   "cell_type": "markdown",
   "metadata": {},
   "source": [
    "<div style=\"direction:rtl;line-height:300%;\"><font face=\"XB Zar\" size=5>\n",
    "<p></p>\n",
    "در جاوا 1.1 برای صرفه جویی در زمان از تابع زیر استفاده می شد:"
   ]
  },
  {
   "cell_type": "markdown",
   "metadata": {
    "ExecuteTime": {
     "end_time": "2016-05-07T19:35:12.343000",
     "start_time": "2016-05-07T19:35:12.340000"
    }
   },
   "source": [
    "```java\n",
    "public int hashcode()\n",
    "{\n",
    "    int hash = 0\n",
    "    int skip = Math.max(1, length() / 8);\n",
    "    // skip every 8 characters\n",
    "    for (int i = 0; i < length(); i += skip)\n",
    "        hash = s[i] + (37 * hash);\n",
    "    return hash\n",
    "}\n",
    "```\n"
   ]
  },
  {
   "cell_type": "markdown",
   "metadata": {},
   "source": [
    "<div style=\"direction:rtl;line-height:300%;\"><font face=\"XB Zar\" size=5>\n",
    "<p></p>\n",
    "با اینکار رشته های زیر هش های یکسانی خواهند داشت.\n",
    "<img src=\"files/Capture.png\">\n",
    "اگر از روش زنجیره سازی استفاده شده باشد، همه ی این رشته ها در یک زنجیره ذخیره می شوند.\n",
    "<img src=\"files/Capture1.png\">\n",
    "با دانستن تابع هش می توان حمله های زیاد به سرور ها کرد (معمولا حمله های Denial of Service)\n",
    "<br>\n",
    "مثلا در کرنل linux 2.4.20\n",
    "اگر نام فایل ها به صورت خاصی ذخیره می شدند، سیستم crash می کرد."
   ]
  }
 ],
 "metadata": {
  "kernelspec": {
   "display_name": "Python 3",
   "language": "python",
   "name": "python3"
  },
  "language_info": {
   "codemirror_mode": {
    "name": "ipython",
    "version": 3
   },
   "file_extension": ".py",
   "mimetype": "text/x-python",
   "name": "python",
   "nbconvert_exporter": "python",
   "pygments_lexer": "ipython3",
   "version": "3.7.1"
  }
 },
 "nbformat": 4,
 "nbformat_minor": 1
}
