{
 "cells": [
  {
   "cell_type": "markdown",
   "metadata": {},
   "source": [
    "<div style=\"direction:rtl;line-height:300%;\"><font face=\"XB Zar\" size=5>\n",
    "<div style=\"direction:rtl;line-height:300%;\"><font face=\"XB Zar\" size=5>\n",
    "<div align=center>\n",
    "<font face=\"IranNastaliq\" size=30>\n",
    "<p></p>\n",
    "به نام خدا\n",
    "</font>\n",
    "<br>\n",
    "<font color=#FF7500>\n",
    "دانشگاه صنعتی شریف - دانشکده مهندسی کامپیوتر\n",
    "</font>\n",
    "<br>\n",
    "<font color=blue>\n",
    "داده‌ساختارها و الگوریتم‌ها\n",
    "</font>\n",
    "<br>\n",
    "ترم دوم سال تحصیلی ۱۳۹۸-۱۳۹۷\n",
    "</div>\n",
    "<hr/>\n",
    "<font color=red size=6>\n",
    "<p></p>\n",
    "\n",
    "<div align=center>فصل اول: آموزش پایتون</div>\n",
    "</font>\n",
    "<div align=center>\n",
    "محمدامین برقعی، کیانوش عباسی، آریا کوثری، محمدمهدی جهان‌آرا، بهار سلامتیان، علی شریفی</div>\n",
    "<hr>\n",
    "</font></div>\n",
    "\n",
    "\n",
    "<style type=\"text/css\" scoped>\n",
    "p{\n",
    "border: 1px solid #a2a9b1;background-color: #f8f9fa;display: inline-block;\n",
    "};\n",
    "</style>\n",
    "\n",
    "<div>\n",
    "<h3> فهرست محتویات</h3>\n",
    "<ul style=\"margin-right: 0;\">\n",
    "    <li><a href=\"#section0\">مقدمه: معرفی پایتون</a></li>\n",
    "    <li><a href=\"#section1\">متغییرها</a></li>\n",
    "    <li><a href=\"#section2\">انواع داده پایه‌ای</a></li>\n",
    "    <li><a href=\"#section3\">شرط‌ها: if</a></li>\n",
    "    <li><a href=\"#section4\">‌Blockها</a></li>\n",
    "    <li><a href=\"#section5\">لیست‌ها</a></li>\n",
    "    <li><a href=\"#section6\">mutable / immutable</a></li>\n",
    "    <li><a href=\"#section7\">زوج‌های مرتب</a></li>\n",
    "    <li><a href=\"#section8\">مجموعه‌ها</a></li>\n",
    "    <li><a href=\"#section9\">دیکشنری‌ها</a></li>\n",
    "    <li><a href=\"#section10\">حلقه‌ها</a></li>\n",
    "    <li><a href=\"#section11\">import</a></li>\n",
    "    <li><a href=\"#section12\">توابع</a></li>\n",
    "    <li><a href=\"#section13\">help</a></li>\n",
    "    <li><a href=\"#section14\">class</a></li>\n",
    "    <li><a href=\"#section15\">مطالب اضافی</a></li>\n",
    "</ul>\n",
    "</div>"
   ]
  },
  {
   "cell_type": "markdown",
   "metadata": {
    "deletable": false
   },
   "source": [
    "<div style=\"direction:rtl;line-height:300%;\"><font face=\"XB Zar\" size=5>\n",
    "<div class=\"persian\" id=\"section0\">\n",
    "<h3>معرفی Python</h3>\n",
    "\n",
    "پایتون یک زبان برنامه نویسی متن بازِ تفسیریِ سطح بالا که سال ۱۹۹۱ توسط خَودو فان روسوم ساخته شده. طراحی پایتون بر خوانایی کد، و تعداد خطوط کمتر برای بیان مفاهیم و در نتیجه زمان کمتر برای پیاده‌سازی تاکید دارد. \n",
    "\n",
    "</div>\n",
    "</font></div>"
   ]
  },
  {
   "cell_type": "code",
   "execution_count": 7,
   "metadata": {},
   "outputs": [
    {
     "name": "stdout",
     "output_type": "stream",
     "text": [
      "hello world!\n"
     ]
    }
   ],
   "source": [
    "print(\"hello world!\")"
   ]
  },
  {
   "cell_type": "code",
   "execution_count": 6,
   "metadata": {},
   "outputs": [
    {
     "name": "stdout",
     "output_type": "stream",
     "text": [
      "The Zen of Python, by Tim Peters\n",
      "\n",
      "Beautiful is better than ugly.\n",
      "Explicit is better than implicit.\n",
      "Simple is better than complex.\n",
      "Complex is better than complicated.\n",
      "Flat is better than nested.\n",
      "Sparse is better than dense.\n",
      "Readability counts.\n",
      "Special cases aren't special enough to break the rules.\n",
      "Although practicality beats purity.\n",
      "Errors should never pass silently.\n",
      "Unless explicitly silenced.\n",
      "In the face of ambiguity, refuse the temptation to guess.\n",
      "There should be one-- and preferably only one --obvious way to do it.\n",
      "Although that way may not be obvious at first unless you're Dutch.\n",
      "Now is better than never.\n",
      "Although never is often better than *right* now.\n",
      "If the implementation is hard to explain, it's a bad idea.\n",
      "If the implementation is easy to explain, it may be a good idea.\n",
      "Namespaces are one honking great idea -- let's do more of those!\n"
     ]
    }
   ],
   "source": [
    "# PEP0020, Zen of Python!\n",
    "import this"
   ]
  },
  {
   "cell_type": "markdown",
   "metadata": {},
   "source": [
    "<div style=\"direction:rtl;line-height:300%;\" id=\"section1\"><font face=\"XB Zar\" size=5>\n",
    "<h3>متغیر‌ها</h3>\n",
    "پایتون یک زبان نوع-پویا\n",
    "(dynamically typed) است.\n",
    "یعنی اشیا (objects) در پایتون نوع دارند اما متغیر‌ها نوع ندارند.\n",
    "</font></div>"
   ]
  },
  {
   "cell_type": "code",
   "execution_count": 5,
   "metadata": {},
   "outputs": [
    {
     "name": "stdout",
     "output_type": "stream",
     "text": [
      "<class 'int'>\n",
      "True\n",
      "<class 'str'>\n",
      "False\n"
     ]
    }
   ],
   "source": [
    "var = 10\n",
    "print(type(var))\n",
    "print(isinstance(var, int))\n",
    "\n",
    "var = 'salam'\n",
    "print(type(var))\n",
    "print(isinstance(var, int))"
   ]
  },
  {
   "cell_type": "markdown",
   "metadata": {},
   "source": [
    "<div style=\"direction:rtl;line-height:300%;\" id=\"section2\"><font face=\"XB Zar\" size=5>\n",
    "<h3>انواع داده‌ای پایه:</h3>\n",
    "<ul>\n",
    "    <li>Boolean یا همان: True و False (به بزرگ و کوچک بودن حروف دقت کنید)</li>\n",
    "    <li>اعداد: int, long, float, complex</li>\n",
    "    <li>رشته‌ها</li>\n",
    "    <li>None: معادل NULL در C++</li>\n",
    "</ul>\n",
    "</font></div>"
   ]
  },
  {
   "cell_type": "code",
   "execution_count": 4,
   "metadata": {},
   "outputs": [
    {
     "name": "stdout",
     "output_type": "stream",
     "text": [
      "9.5\n",
      "0.6\n",
      "1.7142857142857142\n",
      "(3+3j)\n",
      "5j\n",
      "312791953184952432773037647427847997734252247042927663351793818343238523007334595314754865270114370908249\n",
      "9.0\n",
      "9.856\n"
     ]
    }
   ],
   "source": [
    "a = 6         # int\n",
    "b = 10        # long, well longer!\n",
    "d = 3.5       # float (there is no double)\n",
    "c1 = 1+2j     # complex\n",
    "c2 = 2+1j\n",
    "big_int = 123 ** 50\n",
    "print(a + d) \n",
    "print(a / b)   # int division\n",
    "print(a / d)\n",
    "print(c1 + c2) # complex addition\n",
    "print(c1 * c2) # complex multiplication\n",
    "print(big_int) # python has big-integers\n",
    "\n",
    "a1 = 12.5\n",
    "a2 = 123.2\n",
    "print(a2 // a1)\n",
    "print(a2 / a1)"
   ]
  },
  {
   "cell_type": "code",
   "execution_count": 2,
   "metadata": {},
   "outputs": [
    {
     "name": "stdout",
     "output_type": "stream",
     "text": [
      "s1: hello guys, i'm a string!\n",
      "s2: hi, i'm a string \n",
      " \ttoo!\n",
      "s3: i'm \n",
      "a multiline\n",
      "string!\n",
      "s4: i'm another string\n",
      "\n",
      "haha haha haha \n",
      "number 2\n"
     ]
    }
   ],
   "source": [
    "s1 = 'hello guys, i\\'m a string!'\n",
    "s2 = \"hi, i'm a string \\n \\ttoo!\"\n",
    "s3 = \"\"\"i'm \n",
    "a multiline\n",
    "string!\"\"\"\n",
    "s4 = \"i'm another st\\\n",
    "ring\"\n",
    "\n",
    "print('s1: ' + s1)\n",
    "print('s2: ' + s2)\n",
    "print('s3: ' + s3)\n",
    "print('s4: ' + s4)\n",
    "print\n",
    "print('haha ' * 3)  # no comment\n",
    "# print('number ' + 2)-> TypeError:\n",
    "#  --> cannot concatenate 'str' and 'int' objects\n",
    "print('number ' + str(2))"
   ]
  },
  {
   "cell_type": "code",
   "execution_count": 6,
   "metadata": {},
   "outputs": [
    {
     "name": "stdout",
     "output_type": "stream",
     "text": [
      "C:\\users\\documents\\..\n",
      "C:\\users\\documents\\..\n",
      "max: u\n",
      "min: .\n",
      "True\n",
      "False\n",
      "True\n"
     ]
    }
   ],
   "source": [
    "path = 'C:\\\\users\\\\documents\\\\..'\n",
    "raw_string = r'C:\\users\\documents\\..' #skip the skip character !\n",
    "\n",
    "print(path + '\\n' + raw_string)\n",
    "\n",
    "print('max: ' + max(path))\n",
    "print('min: ' + min(path))\n",
    "print('users' in path)\n",
    "print('Users' in path)\n",
    "\n",
    "str2 = 'python workshop'\n",
    "print('py' in str2)"
   ]
  },
  {
   "cell_type": "code",
   "execution_count": 10,
   "metadata": {},
   "outputs": [
    {
     "name": "stdout",
     "output_type": "stream",
     "text": [
      "hello user, welcome! 12312\n",
      "hello user, welcome!\n",
      "hello user, welcome!\n"
     ]
    }
   ],
   "source": [
    "user = 'user'\n",
    "password = 12312\n",
    "print('hello %s, welcome! %d' % (user, password))\n",
    "print('hello {}, welcome!'.format(user))\n",
    "print('hello {user}, {greeting}!'.format(user=user, greeting='welcome'))"
   ]
  },
  {
   "cell_type": "code",
   "execution_count": 4,
   "metadata": {},
   "outputs": [
    {
     "name": "stdout",
     "output_type": "stream",
     "text": [
      "سلام\n"
     ]
    },
    {
     "data": {
      "text/plain": [
       "'سلام'"
      ]
     },
     "execution_count": 4,
     "metadata": {},
     "output_type": "execute_result"
    }
   ],
   "source": [
    "fa = u'سلام'\n",
    "print(fa)\n",
    "fa"
   ]
  },
  {
   "cell_type": "code",
   "execution_count": 1,
   "metadata": {},
   "outputs": [
    {
     "ename": "NameError",
     "evalue": "name 'fa' is not defined",
     "output_type": "error",
     "traceback": [
      "\u001b[0;31m---------------------------------------------------------------------------\u001b[0m",
      "\u001b[0;31mNameError\u001b[0m                                 Traceback (most recent call last)",
      "\u001b[0;32m<ipython-input-1-d905f07f0944>\u001b[0m in \u001b[0;36m<module>\u001b[0;34m()\u001b[0m\n\u001b[1;32m      2\u001b[0m \u001b[0;31m# in python3.x . unicode and str versions are not equal!\u001b[0m\u001b[0;34m\u001b[0m\u001b[0;34m\u001b[0m\u001b[0m\n\u001b[1;32m      3\u001b[0m \u001b[0mstr_fa\u001b[0m \u001b[0;34m=\u001b[0m \u001b[0;34m'سلام'\u001b[0m\u001b[0;34m\u001b[0m\u001b[0m\n\u001b[0;32m----> 4\u001b[0;31m \u001b[0mprint\u001b[0m\u001b[0;34m(\u001b[0m\u001b[0mstr_fa\u001b[0m \u001b[0;34m==\u001b[0m \u001b[0mfa\u001b[0m\u001b[0;34m)\u001b[0m\u001b[0;34m\u001b[0m\u001b[0m\n\u001b[0m\u001b[1;32m      5\u001b[0m \u001b[0mprint\u001b[0m\u001b[0;34m(\u001b[0m\u001b[0municode\u001b[0m\u001b[0;34m(\u001b[0m\u001b[0mstr_fa\u001b[0m\u001b[0;34m,\u001b[0m \u001b[0;34m'utf-8'\u001b[0m\u001b[0;34m)\u001b[0m \u001b[0;34m==\u001b[0m \u001b[0mfa\u001b[0m\u001b[0;34m)\u001b[0m\u001b[0;34m\u001b[0m\u001b[0m\n",
      "\u001b[0;31mNameError\u001b[0m: name 'fa' is not defined"
     ]
    }
   ],
   "source": [
    "#  watch out for this, this is one of the ugly parts and was removed\n",
    "# in python3.x . unicode and str versions are not equal!\n",
    "str_fa = 'سلام'\n",
    "print(str_fa == fa)\n",
    "print(unicode(str_fa, 'utf-8') == fa)\n"
   ]
  },
  {
   "cell_type": "code",
   "execution_count": 16,
   "metadata": {},
   "outputs": [
    {
     "name": "stdout",
     "output_type": "stream",
     "text": [
      "a\n",
      "a\n",
      "a wonderful life!\n",
      "a wonder\n",
      "a wonder\n",
      "it's a wonder\n",
      "it's a wonder\n"
     ]
    }
   ],
   "source": [
    "#substrings\n",
    "\n",
    "s = \"it's a wonderful life!\"\n",
    "print s[5] \n",
    "print s[-17] \n",
    "\n",
    "print s[5:]\n",
    "print s[5: 13]\n",
    "print s[5: -9]\n",
    "print s[: 13]\n",
    "print s[: -9]"
   ]
  },
  {
   "cell_type": "code",
   "execution_count": 5,
   "metadata": {},
   "outputs": [
    {
     "ename": "NameError",
     "evalue": "name 'raw_input' is not defined",
     "output_type": "error",
     "traceback": [
      "\u001b[0;31m---------------------------------------------------------------------------\u001b[0m",
      "\u001b[0;31mNameError\u001b[0m                                 Traceback (most recent call last)",
      "\u001b[0;32m<ipython-input-5-f1470b09e3cc>\u001b[0m in \u001b[0;36m<module>\u001b[0;34m\u001b[0m\n\u001b[1;32m      1\u001b[0m \u001b[0;31m# simple input reading\u001b[0m\u001b[0;34m\u001b[0m\u001b[0;34m\u001b[0m\u001b[0;34m\u001b[0m\u001b[0m\n\u001b[0;32m----> 2\u001b[0;31m \u001b[0ma\u001b[0m \u001b[0;34m=\u001b[0m \u001b[0mraw_input\u001b[0m\u001b[0;34m(\u001b[0m\u001b[0;34m)\u001b[0m\u001b[0;34m\u001b[0m\u001b[0;34m\u001b[0m\u001b[0m\n\u001b[0m\u001b[1;32m      3\u001b[0m \u001b[0mprint\u001b[0m\u001b[0;34m(\u001b[0m\u001b[0ma\u001b[0m\u001b[0;34m)\u001b[0m\u001b[0;34m\u001b[0m\u001b[0;34m\u001b[0m\u001b[0m\n\u001b[1;32m      4\u001b[0m \u001b[0mb\u001b[0m \u001b[0;34m=\u001b[0m \u001b[0minput\u001b[0m\u001b[0;34m(\u001b[0m\u001b[0;34m)\u001b[0m\u001b[0;34m\u001b[0m\u001b[0;34m\u001b[0m\u001b[0m\n\u001b[1;32m      5\u001b[0m \u001b[0mprint\u001b[0m\u001b[0;34m(\u001b[0m\u001b[0mb\u001b[0m\u001b[0;34m)\u001b[0m\u001b[0;34m\u001b[0m\u001b[0;34m\u001b[0m\u001b[0m\n",
      "\u001b[0;31mNameError\u001b[0m: name 'raw_input' is not defined"
     ]
    }
   ],
   "source": [
    "# simple input reading\n",
    "a = raw_input()\n",
    "print(a)\n",
    "b = input()\n",
    "print(b)\n",
    "print(type(b))"
   ]
  },
  {
   "cell_type": "markdown",
   "metadata": {},
   "source": [
    "<div style=\"direction:rtl;line-height:300%;\" id=\"section3\"><font face=\"XB Zar\" size=5>\n",
    "<h3>If</h3>\n",
    "if\n",
    "درست همانطوری که فکر می‌کنید کار می‌کند، فقط با این تفاوت که نیازی نیست دور گزاره‌ی شرطی آن پرانتز بگذارید (گذاشتن آن هم مانعی ندارد). فقط یادتان نرود که در پایان این دستور باید یک کاراکتر دونقطه (:) نوشته شده و در خط بعدی آن یک بلاک جدید شروع شود.\n",
    "<br/>\n",
    "همچنین در پایتون\n",
    "else if\n",
    "نداریم و به جای آن باید از کلمه‌ی کلیدی \n",
    "<span class=\"codeM\">elif</span>\n",
    "استفاده کنید.\n",
    "<br/>\n",
    "همچنین همانند بقیه‌ی زبان‌ها گزاره‌های and و or به صورت\n",
    "اتصال‌کوتاه (short-circuit)\n",
    "اجرا می‌شوند.\n",
    "</font></div>"
   ]
  },
  {
   "cell_type": "code",
   "execution_count": 6,
   "metadata": {},
   "outputs": [
    {
     "name": "stdout",
     "output_type": "stream",
     "text": [
      "a is greater than or equal to 5 and less than 10\n",
      "no error was thrown\n"
     ]
    }
   ],
   "source": [
    "a = 8\n",
    "if a < 5:\n",
    "    print('a is less than 5')\n",
    "elif (a < 10):  # this is okay too, but why bother?\n",
    "    print('a is greater than or equal to 5 and less than 10')\n",
    "else:\n",
    "    print('a is greater than or equal to 10')\n",
    "\n",
    "print  # just a newline\n",
    "\n",
    "if a < 10 or (2/0):\n",
    "    # the second one must throw a division by zero exception\n",
    "    print('no error was thrown')\n",
    "    # obviously or (also and) is short-circuited"
   ]
  },
  {
   "cell_type": "markdown",
   "metadata": {},
   "source": [
    "<div style=\"direction:rtl;line-height:300%;\" id=\"section4\"><font face=\"XB Zar\" size=5>\n",
    "<h3>Block‌ها</h3>\n",
    "نحوه‌ی indent کردن کد (تورفتگی کد) \n",
    "در پایتون بلاک‌ها را از یکدیگر جدا می‌کند.\n",
    "\n",
    "یعنی پایتون شما را مجبور می‌کند که \n",
    "نحوه‌ی خاصی از تورفتگی‌های کد را استفاده کنید و همانند زبان‌های دیگر این مسئله در دست برنامه‌نویس نیست.\n",
    "<br/>\n",
    "هر tab یا تعدادی space می‌تواند یک مرحله تورفتگی را نشان بدهد.\n",
    "پس شما می‌توانید به انتخاب خودتان از space یا tab برای جدا کردن بلاک‌ها از یکدیگر استفاده کنید (در واقع در پایتون۲ هر ۴ space برابر یک tab است)\n",
    "اما بهتر است که این دو روش را با هم استفاده نکنید. به این دلیل که هم خوانایی کد را به شدت پایین می‌آورد و هم ترکیب کردن دو کد مختلف که یکی از tab و دیگری از space استفاده می‌کند بسیار می‌تواند سخت باشد. همچنین توصیه می‌شود فقط از space برای این کار استفاده کنید.\n",
    "<br/>\n",
    " با اضافه‌کردن یک مرحله تورفتگی، یک بلاک درونی جدید شروع می‌شود و با حذف کردن این تورفتگی بلاک قبلی تمام می‌شود.\n",
    " همیشه وقتی باید یک بلاک جدید شروع شود، یک کاراکتر دونقطه (:) حتما در انتهای خط قبلی آن وجود دارد.\n",
    " <br/>\n",
    " دستوراتی که بعدشان باید یک بلاک جدید شروع شود:\n",
    "<span class=\"codeM\">if و else و for و while و تعریف تابع (def) و ...</span>\n",
    "<br/>\n",
    "دقت کنید که یک بلاک نمی‌تواند هرگز خالی باشد. پس اگر به هر دلیلی بلاک خالی شد، می‌توانید از کلمه‌ی کلیدی\n",
    "<span class=\"codeM\">pass</span>\n",
    "برای خالی نماندن بلاک استفاده کنید.\n",
    "</font></div>"
   ]
  },
  {
   "cell_type": "code",
   "execution_count": 2,
   "metadata": {},
   "outputs": [
    {
     "name": "stdout",
     "output_type": "stream",
     "text": [
      "block 1\n",
      "\tblock 1.1\n",
      "\t\tblock 1.1.1\n",
      "\tblock 1.2\n"
     ]
    }
   ],
   "source": [
    "if True:\n",
    "    print('block 1')\n",
    "    if True:\n",
    "        print('\\tblock 1.1')\n",
    "        if True:\n",
    "            print('\\t\\tblock 1.1.1')\n",
    "    if True:\n",
    "        print('\\tblock 1.2')\n",
    "    else:\n",
    "        # block 1.3, blocks can't be empty!\n",
    "        pass"
   ]
  },
  {
   "cell_type": "code",
   "execution_count": 17,
   "metadata": {},
   "outputs": [],
   "source": [
    "# Exercise 1\n",
    "# Check if the input text has '\\n' or '\\t'.\n",
    "\n",
    "# input1: sala\\nm\n",
    "# output1: True\n",
    "\n",
    "# input2: sala\\mn\n",
    "# output2 : False\n"
   ]
  },
  {
   "cell_type": "markdown",
   "metadata": {},
   "source": [
    "<div style=\"direction:rtl;line-height:300%;\" id=\"section5\"><font face=\"XB Zar\" size=5>\n",
    "<h3>لیست‌ها</h3>\n",
    "لیست‌های پایتون درست مثل vector (آرایه‌های با طول متغیر) در C++ یا Java اند.\n",
    "<br/>\n",
    "slicing یکی از قابلیت‌های بسیار مفید در پایتون است.\n",
    "</font></div>\n"
   ]
  },
  {
   "cell_type": "code",
   "execution_count": 7,
   "metadata": {
    "scrolled": false
   },
   "outputs": [
    {
     "name": "stdout",
     "output_type": "stream",
     "text": [
      "length of lis: 5\n",
      "6\n",
      "5\n",
      "[2, 10]\n",
      "[2, 10, 3]\n",
      "[6, 2, 10]\n",
      "[3, 5]\n",
      "[6, 2, 10, 3, 5]\n",
      "['salam', 12, 5.23]\n"
     ]
    }
   ],
   "source": [
    "l = [6,\n",
    "     2,\n",
    "     10,\n",
    "     3,\n",
    "     5,]\n",
    "#  you can break the lines that are constrined by [] or () or {}\n",
    "# it can be a very good tool for increasing readability\n",
    "     \n",
    "#  also you can leave the last colon (,) be, it doesn't do any harm\n",
    "# it's not necessary either\n",
    "\n",
    "print('length of lis: ' + str(len(l)))\n",
    "\n",
    "print(l[0])     # the first item\n",
    "print(l[-1])    # the last item\n",
    "print(l[1:3])   # only the second and third item\n",
    "print(l[1:-1])  # everything but the first and the last item\n",
    "print(l[:3])    # the first 3 items\n",
    "print(l[-2:])   # the last 2 items\n",
    "print(l[0:100]) # no error! the whole list is returned\n",
    "\n",
    "# lists can contain different object types!\n",
    "l = ['salam', 12, 5.23]\n",
    "print(l)"
   ]
  },
  {
   "cell_type": "code",
   "execution_count": 14,
   "metadata": {},
   "outputs": [
    {
     "name": "stdout",
     "output_type": "stream",
     "text": [
      "[5, 3, 10, 2, 6]\n",
      "[2, 3, 5, 6, 10]\n",
      "[10, 6, 5, 3, 2]\n"
     ]
    }
   ],
   "source": [
    "l.reverse()\n",
    "print(l)        # list is reversed\n",
    "l.sort()\n",
    "print(l)        # list is sorted\n",
    "l.sort(reverse=True)\n",
    "print(l)        # list is sorted in reverse order"
   ]
  },
  {
   "cell_type": "code",
   "execution_count": 8,
   "metadata": {},
   "outputs": [
    {
     "name": "stdout",
     "output_type": "stream",
     "text": [
      "welcome to HELL!\n"
     ]
    }
   ],
   "source": [
    "s = 'hello, welcome to python programming!'\n",
    "# string also have slicing!\n",
    "print(s[s.find('w'):s.find('w')+7] + ' to ' + s[:4].upper()+ '!')"
   ]
  },
  {
   "cell_type": "code",
   "execution_count": 5,
   "metadata": {
    "scrolled": true
   },
   "outputs": [
    {
     "name": "stdout",
     "output_type": "stream",
     "text": [
      "[0, 1, 2, 3, 4, 5, 6]\n",
      "-- check existence:\n",
      "True\n",
      "False\n",
      "-- add:\n",
      "[0, 1, 2, 3, 4, 5, 6, 10, 7, 10]\n",
      "-- count:\n",
      "2\n",
      "-- remove:\n",
      "[0, 1, 2, 3, 4, 5, 6, 7, 10]\n",
      "9\n"
     ]
    }
   ],
   "source": [
    "r = range(7)  # range makes lists\n",
    "#  there's also xrange which doesn't actually make the list\n",
    "# but we'll get to that later\n",
    "print(r)\n",
    "\n",
    "print('-- check existence:')\n",
    "print(3 in r)\n",
    "print(11 in r)\n",
    "\n",
    "print('-- add:')\n",
    "r.append(10)\n",
    "r.append(7)\n",
    "r.append(10)\n",
    "print(r)\n",
    "\n",
    "print('-- count:')\n",
    "print(r.count(10))\n",
    "\n",
    "print('-- remove:')\n",
    "r.remove(10)\n",
    "print(r)\n",
    "print(len(r))"
   ]
  },
  {
   "cell_type": "code",
   "execution_count": 14,
   "metadata": {},
   "outputs": [
    {
     "name": "stdout",
     "output_type": "stream",
     "text": [
      "[0, 0, 0, 0, 0, 0, 0, 0, 0, 0]\n",
      "[0, 0, 11, 0, 11, 0, 0, 0, 0, 0]\n"
     ]
    }
   ],
   "source": [
    "arr = [0] * 10\n",
    "print(arr)\n",
    "\n",
    "arr[4] = arr[2] = 11\n",
    "print(arr)"
   ]
  },
  {
   "cell_type": "code",
   "execution_count": 22,
   "metadata": {},
   "outputs": [
    {
     "name": "stdout",
     "output_type": "stream",
     "text": [
      "[[1, 2, 3], [1, 2, 3], [1, 2, 3], [1, 2, 3]]\n",
      "[[13, 2, 3], [13, 2, 3], [13, 2, 3], [13, 2, 3]]\n",
      "[[13, 2, 3], [1, 2, 3], [1, 2, 3]]\n"
     ]
    }
   ],
   "source": [
    "# beware when using multiplication with lists and other objects\n",
    "arr = [[1,2,3]] * 4  # for example don't do this!\n",
    "print arr\n",
    "arr[0][0] = 13\n",
    "print(arr)\n",
    "\n",
    "# instead you can do this (we'll cover what this means later):\n",
    "arr = [[1,2,3] for _ in range(3)]\n",
    "arr[0][0] = 13\n",
    "print(arr)"
   ]
  },
  {
   "cell_type": "markdown",
   "metadata": {},
   "source": [
    "<div style=\"direction:rtl;line-height:300%;\" id=\"section6\"><font face=\"XB Zar\" size=5>\n",
    "<h3>mutable / immutable</h3>\n",
    "انواع داده‌ای در پایتون می‌توانند mutable (تغییرپذیر) یا immutable (تغییر ناپذیر) باشند. به عنوان مثال int, float, str تغییر ناپذیرند و list تغییرپذیر. \n",
    "در واقع در انواع داده‌ای تغییر ناپذیر اصالت با مقدار است و در تغییرپذیرها اصالت با آدرس اشیاء،\n",
    "به این معنی که ممکن است همه‌ی متغیرهای از یک نوع داده‌ای تغییرناپذیر با مقدار یکسان، آدرس و id\n",
    "یکسان نیز داشته‌باشند.\n",
    "<br> \n",
    "دقت نکردن به این موضوع می‌تواند اشکالات عجیبی به وجود بیاورد.\n",
    "</font></div>\n"
   ]
  },
  {
   "cell_type": "code",
   "execution_count": 9,
   "metadata": {},
   "outputs": [
    {
     "name": "stdout",
     "output_type": "stream",
     "text": [
      "id() of immutables\n",
      "(36970608, 36970608)\n",
      "(36970584, 36970608)\n",
      "139787637791272\n",
      "139787637791272\n",
      "([1, 1, 1], [1, 1, 1])\n",
      "([1, 3, 1], [1, 3, 1])\n",
      "([1, 1, 1], [1, 1, 1])\n",
      "([1, 1, 1], [1, 3, 1])\n",
      "Salam\n"
     ]
    }
   ],
   "source": [
    "# id() reperesent unique id for an object\n",
    "# when integer value changes, we have new object!\n",
    "print('id() of immutables')\n",
    "a = 12\n",
    "b = 12\n",
    "print(id(a), id(b))\n",
    "a = 13\n",
    "print(id(a), id(b))\n",
    "# beaware it's not always like this!\n",
    "\n",
    "# values in list change, but object id doesn't. \n",
    "a = [1, 1, 1]\n",
    "print(id(a))\n",
    "a[0] = 2\n",
    "print(id(a))\n",
    "\n",
    "a = [1, 1, 1]\n",
    "b = a\n",
    "print(a, b)\n",
    "b[1] = 3\n",
    "print(a, b) # it mean's a, b reference to same object\n",
    "\n",
    "a = [1, 1, 1]\n",
    "b = list(a) # allocation, new object\n",
    "print(a, b)\n",
    "b[1] = 3\n",
    "print(a, b)\n",
    "\n",
    "\n",
    "a = 'salam'\n",
    "# a[0] = 'S'\n",
    "# ---> TypeError: 'str' object does not support item assignment\n",
    "a = 'S' + a[1:]\n",
    "print(a)"
   ]
  },
  {
   "cell_type": "markdown",
   "metadata": {},
   "source": [
    "<div style=\"direction:rtl;line-height:300%;\" id=\"section7\"><font face=\"XB Zar\" size=5>\n",
    "<h3>زوج (چند‌تایی)های مرتب</h3>\n",
    "زوج‌های مرتب درست همانند لیست‌های غیرقابل تغییرند.\n",
    "یکی از برتری‌های آن نسبت به لیست این است که زوج‌های مرتب Hashable اند. پس مثلا می‌توان آن‌ها را به عنوان کلید در یک Dictionary (که بعدا می‌بینیم) نگه‌داشت.\n",
    "<br/>\n",
    "مقداردهی زوج‌مرتبی نیز قابلیت بامزه‌ای است که در بعضی موارد می‌تواند تعداد خطوط لازم را تا حد خوبی کاهش دهد.\n",
    "</font></div>"
   ]
  },
  {
   "cell_type": "code",
   "execution_count": 11,
   "metadata": {},
   "outputs": [
    {
     "name": "stdout",
     "output_type": "stream",
     "text": [
      "10\n",
      "(10, 6)\n",
      "(10, 6, 19, 10, 6, 19)\n"
     ]
    }
   ],
   "source": [
    "t = (10,6,19)\n",
    "print(t[0])\n",
    "print(t[0:-1])\n",
    "print(t*2)\n",
    "\n",
    "# t[1] = 4 -> TypeError\n",
    "# t.append -> not supported"
   ]
  },
  {
   "cell_type": "code",
   "execution_count": 24,
   "metadata": {},
   "outputs": [
    {
     "name": "stdout",
     "output_type": "stream",
     "text": [
      "1\n",
      "2\n",
      "3\n",
      "---\n",
      "3\n",
      "2\n",
      "1\n"
     ]
    }
   ],
   "source": [
    "a, b, c = [1, 2, 3]\n",
    "print(a)\n",
    "print(b)\n",
    "print(c)\n",
    "\n",
    "print('---')\n",
    "a, b, c = c, b, a  # 3-way swap in one statement!\n",
    "print(a)\n",
    "print(b)\n",
    "print(c)"
   ]
  },
  {
   "cell_type": "markdown",
   "metadata": {},
   "source": [
    "<div style=\"direction:rtl;line-height:300%;\" id=\"section8\"><font face=\"XB Zar\" size=5>\n",
    "<h3>مجموعه‌ها</h3>\n",
    "مجموعه‌ها در پایتون همانند HashSet در Java یا set در C++ اند.\n",
    "<br/>\n",
    "مجموعه‌ها می‌توانند حداکثر یکی از هر چیز را نگه‌داری کنند (البته هر چیزی که در آن ذخیره می‌شود باید Hashable باشد.\n",
    "پس لیست‌ها و مجموعه‌های دیگر و Dictionary‌ها را نمی‌توان در یک مجموعه نگه‌داشت)\n",
    "</font></div>"
   ]
  },
  {
   "cell_type": "code",
   "execution_count": 10,
   "metadata": {},
   "outputs": [
    {
     "name": "stdout",
     "output_type": "stream",
     "text": [
      "{(1, 2), 1, 2, 3, 'hasan'}\n",
      "5\n",
      "True\n",
      "False\n",
      "-- add:\n",
      "{(1, 2), 1, 2, 3, 4, 'hasan'}\n",
      "True\n",
      "-- remove:\n",
      "{(1, 2), 1, 2, 4, 'hasan'}\n",
      "False\n"
     ]
    }
   ],
   "source": [
    "s = {1,2,3,3, (1,2), 'hasan'}\n",
    "print(s)\n",
    "print(len(s))\n",
    "print(1 in s)\n",
    "print(4 in s)\n",
    "\n",
    "print('-- add:')\n",
    "s.add(4)\n",
    "print(s)\n",
    "print(4 in s)\n",
    "\n",
    "print('-- remove:')\n",
    "s.remove(3)\n",
    "print(s)\n",
    "print(3 in s)"
   ]
  },
  {
   "cell_type": "markdown",
   "metadata": {},
   "source": [
    "<div style=\"direction:rtl;line-height:300%;\" id=\"section9\"><font face=\"XB Zar\" size=5>\n",
    "<h3>Dictionary</h3>\n",
    "Dictionary‌ها\n",
    "(یا به اختصار dict)\n",
    "در پایتون بسیار مفیداند و همانند HashMap در Java و map در C++ عمل می‌کنند.\n",
    "<br/>\n",
    "در یک dict شما می‌توانید زوج‌های مرتب کلید و مقدار را ذخیره کرده و بعدا بر اساس کلید، مقدار‌ها را پیدا کنید.\n",
    "فقط دقت کنید که کلید باید Hashable باشد.\n",
    "</font></div>"
   ]
  },
  {
   "cell_type": "code",
   "execution_count": 25,
   "metadata": {},
   "outputs": [
    {
     "name": "stdout",
     "output_type": "stream",
     "text": [
      "4\n",
      "{(1, 2): 4, 1: 3, 'mamad': 2, 'ali': 1}\n",
      "3\n",
      "True\n",
      "2\n",
      "4\n",
      "-- delete:\n",
      "False\n",
      "{(1, 2): 4, 'mamad': 2, 'ali': 1}\n",
      "-- add:\n",
      "{(1, 2): 4, 'new': 123, 'mamad': 2, 'ali': 1}\n",
      "{(1, 2): 4, 'new': 123, 'mamad': 2, 'ali': 1}\n"
     ]
    }
   ],
   "source": [
    "d = {'ali': 1,\n",
    "     'mamad': 2,\n",
    "     1: 3,\n",
    "     (1,2): 4,\n",
    "    }\n",
    "print(len(d))\n",
    "print(d)\n",
    "print(d[1])\n",
    "print(1 in d)\n",
    "print(d['mamad'])\n",
    "print(d[1,2])\n",
    "# when there's no ambiguity, the parantheses around tuples are not needed\n",
    "\n",
    "print('-- delete:')\n",
    "del d[1]\n",
    "# print d[1] -> KeyError\n",
    "print(1 in d)\n",
    "print(d)\n",
    "\n",
    "print('-- add:')\n",
    "d['new'] = 123\n",
    "print(d)\n",
    "\n",
    "print d.__str__()"
   ]
  },
  {
   "cell_type": "markdown",
   "metadata": {},
   "source": [
    "<div style=\"direction:rtl;line-height:300%;\"><font face=\"XB Zar\" size=5>\n",
    "<h3>مقدار True و False انواع پایه در گزاره‌های شرطی</h3>\n",
    "    مقادیر زیر در پایتون در یک گزاره‌ی شرطی مقدار False دارند:\n",
    "    <ul>\n",
    "        <li>False</li>\n",
    "        <li>None</li>\n",
    "        <li>صفر عددی: 0، 0.0، 0j</li>\n",
    "        <li>یک دنباله (مثلا رشته) یا مجموعه یا \n",
    "        dict\n",
    "        خالی: ''، \"\"، {}، []، () و غیره</li>\n",
    "    </ul>\n",
    "    هر چیز دیگری مقدار True می‌گیرد.\n",
    "</font></div>"
   ]
  },
  {
   "cell_type": "markdown",
   "metadata": {},
   "source": [
    "<div style=\"direction:rtl;line-height:300%;\" id=\"section10\"><font face=\"XB Zar\" size=5>\n",
    "<h3>حلقه‌ها</h3>\n",
    "در پایتون دو حلقه‌ی\n",
    "<span class=\"codeM\">for, while</span>\n",
    "را داریم.\n",
    "<br/>\n",
    "البته حلقه‌ی\n",
    "for\n",
    "کمی با زبان‌های دیگر متفاوت است. شما فقط می‌توانید روی یک لیست یا یک شی پیمایش‌شونده\n",
    "(iterable)\n",
    "حلقه اجرا کنید.\n",
    "<br/>\n",
    "همچنین حلقه‌ها می‌توانند یک عبارت\n",
    "<span class=\"codeM\">else</span>\n",
    "داشته باشند. اما فکر نمی‌کنم به دردتان بخورد.\n",
    "</font></div>"
   ]
  },
  {
   "cell_type": "code",
   "execution_count": 17,
   "metadata": {},
   "outputs": [
    {
     "name": "stdout",
     "output_type": "stream",
     "text": [
      "counting .. 5\n",
      "counting .. 4\n",
      "counting .. 3\n",
      "counting .. 2\n",
      "counting .. 1\n"
     ]
    }
   ],
   "source": [
    "cnt = 5\n",
    "while cnt > 0:\n",
    "    print('counting .. ' + str(cnt))\n",
    "    cnt -= 1  # note: cnt-- or cnt++ do not work!"
   ]
  },
  {
   "cell_type": "code",
   "execution_count": 26,
   "metadata": {},
   "outputs": [
    {
     "name": "stdout",
     "output_type": "stream",
     "text": [
      "2\n",
      "5\n",
      "8\n",
      "asf\n",
      "sajf\n",
      "fsaf\n"
     ]
    }
   ],
   "source": [
    "for i in range(2, 10, 3):\n",
    "    print(i)\n",
    "\n",
    "l  = ['asf','sajf','fsaf' ]\n",
    "for i in l:\n",
    "    print i"
   ]
  },
  {
   "cell_type": "code",
   "execution_count": 28,
   "metadata": {},
   "outputs": [
    {
     "name": "stdout",
     "output_type": "stream",
     "text": [
      "[(0, 2), (1, 5), (2, 7), (3, 3), (4, 10)]\n",
      "0th value is: 2\n",
      "1th value is: 5\n",
      "2th value is: 7\n",
      "3th value is: 3\n",
      "4th value is: 10\n"
     ]
    }
   ],
   "source": [
    "l = [2, 5, 7, 3, 10]\n",
    "print list(enumerate(l))\n",
    "for i, value in enumerate(l):  # enumerate is like zip(0..n-1, list)\n",
    "    print '%dth value is:' % i, value"
   ]
  },
  {
   "cell_type": "code",
   "execution_count": 29,
   "metadata": {},
   "outputs": [
    {
     "name": "stdout",
     "output_type": "stream",
     "text": [
      "(1, 2) : 4\n",
      "new : 123\n",
      "mamad : 2\n",
      "ali : 1\n",
      "-----------\n",
      "[((1, 2), 4), ('new', 123), ('mamad', 2), ('ali', 1)]\n",
      "(1, 2) : 4\n",
      "new : 123\n",
      "mamad : 2\n",
      "ali : 1\n"
     ]
    }
   ],
   "source": [
    "for key in d:  # you can iterate dictionaries too!\n",
    "    print key, ':', d[key]\n",
    "\n",
    "print('-----------')\n",
    "\n",
    "print list(d.items())\n",
    "for key, value in d.items():\n",
    "    print key, ':', value"
   ]
  },
  {
   "cell_type": "code",
   "execution_count": 19,
   "metadata": {},
   "outputs": [
    {
     "name": "stdout",
     "output_type": "stream",
     "text": [
      "(9135233333, 'iman')\n",
      "(9123222233, 'rasoul')\n",
      "(9212312121, 'fateme')\n"
     ]
    }
   ],
   "source": [
    "a = [9135233333, 9123222233, 9212312121]\n",
    "b = ['iman', 'rasoul', 'fateme']\n",
    "for x, y in zip(a, b):\n",
    "    print(x, y)"
   ]
  },
  {
   "cell_type": "code",
   "execution_count": 5,
   "metadata": {},
   "outputs": [
    {
     "name": "stdout",
     "output_type": "stream",
     "text": [
      "{'': 1, 'invited': 1, 'Do': 2, 'incommode': 1, 'truth': 1, 'Five': 1, 'hill': 1, 'certain.': 1, 'supported': 2, 'preference': 1, 'gate': 1, 'and': 5, 'winter': 1, 'belonging': 2, 'pronounce': 1, 'properly': 1, 'are': 1, 'summer': 1, 'discovered': 1, 'stand': 1, 'regret': 1, 'happiness': 1, 'sometimes': 1, 'end': 1, 'depending': 2, 'improving': 1, 'parish': 1, 'Quitting': 1, 'Advantage': 1, 'justice': 1, 'drift.': 1, 'remove': 1, 'ask': 1, 'eat': 1, 'contented.': 1, 'come': 2, 'you': 2, 'season': 1, 'speedily': 1, 'Her': 1, 'tell': 1, 'cottage': 2, 'departure': 2, '\\nOf': 1, 'add': 2, 'outweigh.': 1, 'precaution': 1, 'intention': 1, 'covered': 1, 'informed': 1, 'tedious': 1, 'tried': 1, 'sincerity': 1, 'met': 1, 'provision.': 1, 'Plenty': 1, 'evening.': 1, 'case': 1, 'settle': 1, 'genius.': 1, 'partiality.': 1, 'it': 3, 'allowance': 1, 'must.': 1, 'use': 2, 'in': 5, 'known': 1, 'her.': 1, 'believing.': 1, 'celebrated.': 1, 'spirit': 1, 'advantages': 1, 'now': 3, 'principles': 1, 'weather': 1, 'civil': 1, 'hard': 1, 'sportsmen': 1, 'old.': 1, 'kindness': 1, 'shy.': 1, 'towards': 1, 'ye': 1, 'too': 1, 'parlors.': 1, 'compact.': 1, 'uncivil': 1, 'dejection': 1, 'relation.': 1, 'depart': 1, 'everything': 1, 'be': 3, 'settling.': 1, 'no': 2, 'therefore': 1, 'respect': 1, 'Still': 1, 'exertion': 1, 'provided': 1, 'delivered': 1, 'laughter': 1, 'Depending': 1, 'assurance': 1, 'abilities': 1, 'fulfilled': 1, 'Frankness': 1, 'Assurance': 1, 'forbade': 1, 'so': 4, 'blessing': 1, 'dejection.': 1, 'contented': 1, 'Pretended': 1, 'one': 6, 'Extensive': 1, '\\nImproved': 1, 'painted': 2, 'Unpleasing': 1, 'Furnished': 1, 'admitted.': 1, 'six': 1, 'Yet': 1, 'discovery': 1, 'cordially': 1, '\\nWas': 1, 'ready': 1, 'whether': 1, 'projecting.': 1, 'ignorant': 1, 'commanded': 2, 'smallness': 1, 'brought': 1, 'discretion': 1, 'remarkably': 1, 'handsome': 2, 'Had': 1, 'drawings': 1, 'is.': 1, 'Respect': 1, 'letters': 1, 'ecstatic': 1, 'extensive': 1, 'do': 4, 'has': 3, 'or': 4, 'been': 1, 'to': 3, 'Now': 1, 'before': 1, 'adieus': 1, 'No': 2, 'man': 1, 'had.': 1, 'gave': 1, 'marry': 1, 'Prevailed': 1, 'questions.': 1, 'Ready': 1, 'supposing': 1, 'raptures': 1, 'have': 1, 'had': 1, 'if.': 1, 'we.': 1, 'motionless': 1, 'domestic.': 1, 'suppose': 1, 'Shortly': 1, 'spot': 1, 'continual.': 1, 'to.': 1, 'cousins': 1, 'compass': 1, 'she': 1, 'elderly': 2, 'agreed': 1, '\\nBreakfast': 1, 'up': 3, 'related': 1, 'Dependent': 1, 'subject': 1, 'misery': 1, 'really': 1, 'favourite': 1, 'beloved': 1, 'near': 1, 'of': 3, 'Happiness': 1, 'tore': 1, 'in.': 3, 'removing': 1, 'View': 1, 'of.': 3, 'gone': 1, 'insipidity': 3, 'though.': 1, 'uncommonly': 1, 'matters': 2, 'fat.': 1, 'Bed': 1, 'melancholy': 1, 'was': 1, 'branched': 1, 'an': 4, 'Has': 2, 'pursuit': 1, 'conviction': 1, 'hill.': 1, 'worse': 1, 'park': 1, 'forming': 1, 'for': 2, 'Very': 1, 'evident': 1, 'shew': 1, 'listening': 1, 'gravity': 1, '\\nKept': 1, 'house': 1, '\\nPaid': 1, 'at': 4, 'Invitation': 1, 'walk': 1, 'nor': 1, 'him.': 1, 'astonished': 1, 'why.': 1, 'next.': 1, 'up.': 1, 'Old': 1, 'demesne': 1, 'earnestly': 2, 'pretty': 1, 'extensive.': 1, 'he': 3, 'alteration': 1, 'comparison': 1, 'feet': 1, 'bred.': 1, 'out.': 1, 'concerns.': 1, 'dissimilar': 1, 'account': 1, 'offices': 1, 'less': 1, 'unfeeling': 1, 'afford': 1, 'as': 3, 'new': 1, 'match': 1, 'did.': 1, 'yet': 2, 'Enough': 2, 'delightful': 2, 'promise': 1, 'roof': 1, 'son': 1, 'concluded': 1, 'the': 1, 'separate': 1, 'necessary': 1, 'who': 1, 'shy': 1, 'wooded': 2, 'age': 2, 'Expect': 1, 'ham': 1, 'fertile': 1, 'occasional': 1, 'Sight': 1, 'objection': 1, 'sociable': 1, 'reasonably': 1, 'peculiar': 2, 'affronting': 1, 'improve': 1, 'Projection': 1, 'compact': 1, 'deny': 1, 'day': 2, 'him': 2, 'compliment': 1, 'upon': 1, 'Estate': 1, 'tolerably': 1, 'men': 4, '?no': 1, 'since.': 1, 'west': 1, 'general': 1, 'sex': 1, 'jokes': 1, 'his.': 1, 'barton': 1, 'sense': 1, 'may': 1, 'be.': 2, 'Repair': 1, 'followed': 1, 'suffering': 2, 'hearted': 2, 'law': 2, 'article': 2, 'wife': 1, 'Wrong': 1, 'brandon': 1, 'immediate': 1, 'By': 2, 'own': 2, 'rest': 1, 'And': 1, 'bed': 1, 'not.': 1, 'least': 1, 'sigh.': 1, 'daughter': 1, 'frankness': 1, 'procured': 1, 'feebly': 1, 'it.': 2, 'few': 1, 'nay.': 2, 'Moreover': 1, 'shot': 1, 'another': 1, 'Natural': 1, 'Off': 1, 'daughters': 1, 'expenses': 1, 'feel': 1, 'shutters': 1, 'Morning': 1, 'Whatever': 1, 'possible': 1, 'cold': 1, 'by': 3, 'by.': 1, 'under.': 1, 'promotion.': 1, 'raising': 1, 'moments': 1, 'hardly': 1, 'gay': 1, 'laughing': 1, 'downs': 1, 'easily': 1, 'an.': 1, 'explain': 1, 'can': 1, 'admitted': 1, 'perpetual': 1, 'oh.': 1, 'visited': 1, 'sir': 1, 'venture': 1, 'hearts': 1, 'Nay': 1, 'beyond': 1, 'affixed': 1, 'Consulted': 1, 'my': 2, 'Our': 1, 'understood': 1, 'sentiments': 1, 'between.': 1, 'her': 4, 'far': 3, 'minutes.': 1, 'concerns': 1, 'now.': 1, 'high.': 1, 'In': 3, 'advantage': 2, 'Of': 2, 'taken': 1, 'his': 6, 'on': 3, 'Shall': 1, 'tastes': 1, 'Outward': 1, 'not': 2, 'opinions': 1, 'agreeable': 1, 'we': 3, 'never': 1, 'garret.': 1, 'any': 1, 'living': 1, 'dependent': 1, 'Is': 3, 'instrument.': 1, 'excited': 1, 'Ecstatic': 1, 'giving': 2, 'Hold': 1, 'invitation.': 1, 'but.': 1, 'never.': 1, 'ye.': 1, 'extremely': 1, 'civilly': 1, 'wondered': 1, 'prevailed': 1, 'mrs': 2, 'continuing': 1, 'last': 1, '\\nAm': 1, 'hastened': 1, 'Preserved': 1, 'any.': 1, 'at.': 1, 'Affronting': 1, 'Year': 1, 'projection': 2, 'remainder': 2, 'am': 4, 'passage': 1, 'means': 1, 'village': 1, 'On': 1, 'mr': 3, 'but': 3, 'has.': 1, 'estimable': 2, 'Oh': 1, 'relied': 1, 'extended.': 1, 'these': 2, 'extremity': 1, 'each': 1, 'outward': 1, 'furnished.': 1, 'around': 2, 'here': 1, 'genius': 1, 'witty': 1, '\\nAnswer': 1, 'entirely': 1, 'oh': 1, 'round': 1, 'acuteness': 2, 'cousin': 1, 'sent': 2, 'determine': 1, 'breakfast': 2, 'inhabiting': 1, 'saw.': 1, 'will': 1, 'anxious.': 1, 'how': 2, 'Mrs': 2, 'case.': 1, 'acceptance': 1, 'pleasure': 1, 'Delighted': 1, 'see': 3, '\\nDemesne': 1, 'boy': 1, 'appetite': 1, 'off': 1, 'well': 1, 'knew.': 1, 'chapter': 1, 'lose': 1, 'continuing.': 1, 'terminated': 1, 'nay': 2, 'For': 1, 'is': 3}\n"
     ]
    }
   ],
   "source": [
    "# Exercise 2\n",
    "mystr = \"\"\"Affronting everything discretion men now own did. Still round match we to. Frankness pronounce daughters remainder extensive has but. Happiness cordially one determine concluded fat. Plenty season beyond by hardly giving of. Consulted or acuteness dejection an smallness if. Outward general passage another as it. Very his are come man walk one next. Delighted prevailed supported too not remainder perpetual who furnished. Nay affronting bed projection compliment instrument. \n",
    "Paid was hill sir high. For him precaution any advantages dissimilar comparison few terminated projecting. Prevailed discovery immediate objection of ye at. Repair summer one winter living feebly pretty his. In so sense am known these since. Shortly respect ask cousins brought add tedious nay. Expect relied do we genius is. On as around spirit of hearts genius. Is raptures daughter branched laughter peculiar in settling. \n",
    "Was justice improve age article between. No projection as up preference reasonably delightful celebrated. Preserved and abilities assurance tolerably breakfast use saw. And painted letters forming far village elderly compact. Her rest west each spot his and you knew. Estate gay wooded depart six far her. Of we be have it lose gate bred. Do separate removing or expenses in. Had covered but evident chapter matters anxious. \n",
    "Demesne far hearted suppose venture excited see had has. Dependent on so extremely delivered by. Yet ?no jokes worse her why. Bed one supposing breakfast day fulfilled off depending questions. Whatever boy her exertion his extended. Ecstatic followed handsome drawings entirely mrs one yet outweigh. Of acceptance insipidity remarkably is invitation. \n",
    "Kept in sent gave feel will oh it we. Has pleasure procured men laughing shutters nay. Old insipidity motionless continuing law shy partiality. Depending acuteness dependent eat use dejection. Unpleasing astonished discovered not nor shy. Morning hearted now met yet beloved evening. Has and upon his last here must. \n",
    "Answer misery adieus add wooded how nay men before though. Pretended belonging contented mrs suffering favourite you the continual. Mrs civil nay least means tried drift. Natural end law whether but and towards certain. Furnished unfeeling his sometimes see day promotion. Quitting informed concerns can men now. Projection to or up conviction uncommonly delightful continuing. In appetite ecstatic opinions hastened by handsome admitted. \n",
    "Am no an listening depending up believing. Enough around remove to barton agreed regret in or it. Advantage mr estimable be commanded provision. Year well shot deny shew come now had. Shall downs stand marry taken his for out. Do related mr account brandon an up. Wrong for never ready ham these witty him. Our compass see age uncivil matters weather forbade her minutes. Ready how but truth son new under. \n",
    "Breakfast agreeable incommode departure it an. By ignorant at on wondered relation. Enough at tastes really so cousin am of. Extensive therefore supported by extremity of contented. Is pursuit compact demesne invited elderly be. View him she roof tell her case has sigh. Moreover is possible he admitted sociable concerns. By in cold no less been sent hard hill. \n",
    "Improved own provided blessing may peculiar domestic. Sight house has sex never. No visited raising gravity outward subject my cottage mr be. Hold do at tore in park feet near my case. Invitation at understood occasional sentiments insipidity inhabiting in. Off melancholy alteration principles old. Is do speedily kindness properly oh. Respect article painted cottage he is offices parlors. \n",
    "Of on affixed civilly moments promise explain fertile in. Assurance advantage belonging happiness departure so of. Now improving and one sincerity intention allowance commanded not. Oh an am frankness be necessary earnestly advantage estimable extensive. Five he wife gone ye. Mrs suffering sportsmen earnestly any. In am do giving to afford parish settle easily garret. \"\"\"\n",
    "\n",
    "mystr.replace('.', '')\n",
    "mystr.replace('?', '')\n",
    "\n",
    "d = {}\n",
    "for word in mystr.split(' '):\n",
    "    if word in d:\n",
    "        d[word] += 1\n",
    "    else:\n",
    "        d[word] = 1\n",
    "print(d)"
   ]
  },
  {
   "cell_type": "markdown",
   "metadata": {},
   "source": [
    "<div style=\"direction:rtl;line-height:300%;\" id=\"section11\"><font face=\"XB Zar\" size=5>\n",
    "<h3>Import</h3>\n",
    "یکی از قوی‌ترین جنبه‌های زبان پایتون کتابخانه‌هایی اند که برای انجام تقریبا هرگونه کاری در پایتون نوشته شده‌اند. برای استفاده از این کتابخانه‌ها ابتدا باید آن‌ها را بر روی کامپیوتر (در کتابخانه‌های نسخه‌ی پایتون خود) نصب کنید. برای این کار چند روش متداول وجود دارد:\n",
    "<ul>\n",
    "    <li>استفاده از دستور pip: <br/><div class=\"codeM english\">pip install &lt;libraryName&gt;[==version]</div></li>\n",
    "    <li>استفاده از دستور easy_install:<br/><div class=\"codeM english\">easy_install &lt;libraryName&gt;</div></li>\n",
    "    <li>دانلود کردن و setup کردن به صورت دستی: <br/><div class=\"codeM english\"># download<br/># unzip or untar<br/># cd folder<br/>python setup.py install</div></li>\n",
    "</ul>\n",
    "<br/>\n",
    "حال می‌توانید از کتابخانه‌ی مورد نظر استفاده کنید. برای این کار باید ابتدا هر کتابخانه‌ای را که می‌خواهید از آن استفاده کنید را Import (همانند include در C++) کنید و سپس از آن استفاده کنید. برای این کار چند روش وجود دارد:\n",
    "<ul>\n",
    "    <li>\n",
    "        import کردن خود ماژول:\n",
    "        <div class=\"codeM english\">\n",
    "            import urllib2 as urllib\n",
    "            <br/>\n",
    "            res = urllib.urlopen('http://ce.sharif.edu')\n",
    "        </div>\n",
    "    </li>\n",
    "    <li>\n",
    "    import کردن توابع یا کلاس‌های موجود در ماژول:\n",
    "        <div class=\"codeM english\">\n",
    "            from urllib2 import urlopen\n",
    "            <br/>\n",
    "                # or\n",
    "            <br/>\n",
    "            from urllib2 import *\n",
    "            <br/>\n",
    "            res = urlopen('http://ce.sharif.edu')\n",
    "        </div>\n",
    "    </li>\n",
    "</ul>\n",
    "بهتر است معمولا فقط از یکی از این دو روش استفاده کنیم.\n",
    "</font></div>"
   ]
  },
  {
   "cell_type": "code",
   "execution_count": 11,
   "metadata": {},
   "outputs": [
    {
     "ename": "ModuleNotFoundError",
     "evalue": "No module named 'urllib2'",
     "output_type": "error",
     "traceback": [
      "\u001b[0;31m---------------------------------------------------------------------------\u001b[0m",
      "\u001b[0;31mModuleNotFoundError\u001b[0m                       Traceback (most recent call last)",
      "\u001b[0;32m<ipython-input-11-582985346842>\u001b[0m in \u001b[0;36m<module>\u001b[0;34m\u001b[0m\n\u001b[1;32m      4\u001b[0m \u001b[0;31m# the current semester\u001b[0m\u001b[0;34m\u001b[0m\u001b[0;34m\u001b[0m\u001b[0;34m\u001b[0m\u001b[0m\n\u001b[1;32m      5\u001b[0m \u001b[0;32mfrom\u001b[0m \u001b[0mbs4\u001b[0m \u001b[0;32mimport\u001b[0m \u001b[0mBeautifulSoup\u001b[0m\u001b[0;34m\u001b[0m\u001b[0;34m\u001b[0m\u001b[0m\n\u001b[0;32m----> 6\u001b[0;31m \u001b[0;32mfrom\u001b[0m \u001b[0murllib2\u001b[0m \u001b[0;32mimport\u001b[0m \u001b[0murlopen\u001b[0m\u001b[0;34m\u001b[0m\u001b[0;34m\u001b[0m\u001b[0m\n\u001b[0m\u001b[1;32m      7\u001b[0m \u001b[0;34m\u001b[0m\u001b[0m\n\u001b[1;32m      8\u001b[0m \u001b[0murl\u001b[0m \u001b[0;34m=\u001b[0m \u001b[0;34m'http://ce.sharif.edu/programs-and-courses/semester2-9495'\u001b[0m\u001b[0;34m\u001b[0m\u001b[0;34m\u001b[0m\u001b[0m\n",
      "\u001b[0;31mModuleNotFoundError\u001b[0m: No module named 'urllib2'"
     ]
    }
   ],
   "source": [
    "# pip install beautifulsoup4\n",
    "\n",
    "#  in this example we will get all the courses with ce course-page in\n",
    "# the current semester\n",
    "from bs4 import BeautifulSoup\n",
    "from urllib2 import urlopen\n",
    "\n",
    "url = 'http://ce.sharif.edu/programs-and-courses/semester2-9495'\n",
    "res = urlopen(url, 'html5lib')\n",
    "soup = BeautifulSoup(''.join(res.readlines()))\n",
    "print(type(soup))\n",
    "courses = soup.find_all('div', class_=\"su-column-inner\")\n",
    "for i, course in enumerate(courses):\n",
    "    print(str(i) + ' ' +\n",
    "          ' '.join(course.find('a').getText().split()[1:]) + ' ' +\n",
    "          course.find_all('li')[0].getText())"
   ]
  },
  {
   "cell_type": "markdown",
   "metadata": {},
   "source": [
    "<div style=\"direction:rtl;line-height:300%;\" id=\"section12\"><font face=\"XB Zar\" size=5>\n",
    "<h3>توابع</h3>\n",
    "توابع در پایتون با کلمه‌ی کلیدی\n",
    "<span class=\"codeM\">def</span>\n",
    "تعریف می‌شوند.\n",
    "<br/>\n",
    "برای ورودی دادن به تابع می توانید از همان روش ساده‌ی ورودی‌های مرتب استفاده کنید. اما می‌توانید آن‌ها را با استفاده از نام‌شان نیز مقداردهی کنید.\n",
    "<br/>\n",
    "همچنین می‌توانید توابع را همانند دیگر اشیا در متغیر‌ها ذخیره کنید یا به توابع دیگر پاس بدهید.\n",
    "<br/>\n",
    "همچنین می‌توانید در داخل یک تابع، یک تابع دیگر تعریف کنید یا توابع بی‌نام\n",
    "(anonymous function)\n",
    "داشته باشید که البته خیلی هم به دردتان نمی‌خورد.\n",
    "(توابع بی‌نام با کلمه‌ی کلیدی\n",
    "<span class=\"codeM\">lambda</span>\n",
    "تعریف می‌شوند)\n",
    "</font></div>"
   ]
  },
  {
   "cell_type": "code",
   "execution_count": 4,
   "metadata": {},
   "outputs": [
    {
     "name": "stdout",
     "output_type": "stream",
     "text": [
      "False\n",
      "True\n",
      "value1: 10\n",
      "aa: salam\n",
      "bb: (2+3j)\n"
     ]
    }
   ],
   "source": [
    "import math\n",
    "\n",
    "def isPrime(a, b=10):\n",
    "    for i in range(2, int(math.sqrt(a)+1)):\n",
    "        if a % i == 0:\n",
    "            return False\n",
    "    return True\n",
    "\n",
    "print(isPrime(12))\n",
    "print(isPrime(a=17))\n",
    "\n",
    "def func(value1, aa, bb):\n",
    "    print 'value1:', value1\n",
    "    print 'aa:', aa\n",
    "    print 'bb:', bb\n",
    "\n",
    "func(10, bb=2+3j, aa='salam')"
   ]
  },
  {
   "cell_type": "code",
   "execution_count": 12,
   "metadata": {},
   "outputs": [
    {
     "name": "stdout",
     "output_type": "stream",
     "text": [
      "100\n",
      "20\n"
     ]
    }
   ],
   "source": [
    "def applyFunction(f, value):\n",
    "    return f(value)\n",
    "\n",
    "def sqr(a):\n",
    "    return a*a\n",
    "\n",
    "print(applyFunction(sqr, 10))\n",
    "print(applyFunction(lambda x: 2*x, 10))  # doubles the value!"
   ]
  },
  {
   "cell_type": "code",
   "execution_count": 17,
   "metadata": {},
   "outputs": [
    {
     "name": "stdout",
     "output_type": "stream",
     "text": [
      "False\n",
      "True\n"
     ]
    }
   ],
   "source": [
    "# print(isPrime('12')) -> TypeError\n",
    "isStrPrime = lambda x: isPrime(int(x))\n",
    "print(isStrPrime('12'))\n",
    "print(isStrPrime('17'))\n",
    "#  well anonymous functions are supposed to be well .. anonymous but\n",
    "# i just wanted to show that they are used just like normal functions"
   ]
  },
  {
   "cell_type": "code",
   "execution_count": null,
   "metadata": {},
   "outputs": [
    {
     "name": "stdout",
     "output_type": "stream",
     "text": [
      "10 1232 123\n",
      "[10, 1232, 123]\n"
     ]
    }
   ],
   "source": [
    "# reading data from stdin\n",
    "print(map(int, raw_input().split()))\n",
    "print(map(lambda x: isPrime(int(x)), raw_input().split()))"
   ]
  },
  {
   "cell_type": "code",
   "execution_count": 30,
   "metadata": {},
   "outputs": [
    {
     "name": "stdout",
     "output_type": "stream",
     "text": [
      "Help on method_descriptor:\n",
      "\n",
      "split(...)\n",
      "    S.split([sep [,maxsplit]]) -> list of strings\n",
      "    \n",
      "    Return a list of the words in the string S, using sep as the\n",
      "    delimiter string.  If maxsplit is given, at most maxsplit\n",
      "    splits are done. If sep is not specified or is None, any\n",
      "    whitespace string is a separator and empty strings are removed\n",
      "    from the result.\n",
      "\n"
     ]
    }
   ],
   "source": [
    "help(str.split)\n",
    "#help('13'.split)"
   ]
  },
  {
   "cell_type": "markdown",
   "metadata": {},
   "source": [
    "<div style=\"direction:rtl;line-height:300%;\"><font face=\"XB Zar\" size=5>\n",
    "تابع sort لیست‌ها را یادتان می‌آید؟\n",
    "می‌توانیم ترتیب مرتب‌کردن این توابع را نیز عوض کنیم.\n",
    "</font></div>"
   ]
  },
  {
   "cell_type": "code",
   "execution_count": 13,
   "metadata": {},
   "outputs": [
    {
     "name": "stdout",
     "output_type": "stream",
     "text": [
      "['1', '10', '2', '4', '6']\n",
      "['1', '2', '4', '6', '10']\n"
     ]
    }
   ],
   "source": [
    "l = ['1', '6', '2', '4', '10']\n",
    "l.sort()\n",
    "print(l)  # uses string comparing methods\n",
    "\n",
    "def compareInt(str1, str2):\n",
    "    # shoud return:\n",
    "    #   >= 1 for greater\n",
    "    #   <= -1 for less\n",
    "    #   0 for equal\n",
    "    return int(str1) - int(str2)\n",
    "\n",
    "l.sort(compareInt)\n",
    "print(l)  # gives what we wanted"
   ]
  },
  {
   "cell_type": "code",
   "execution_count": 1,
   "metadata": {},
   "outputs": [
    {
     "name": "stdout",
     "output_type": "stream",
     "text": [
      "[1, 3, 5, 9, 6, 52, 37, 51]\n"
     ]
    }
   ],
   "source": [
    "l = [1,3,5,9,51,52,6,37]\n",
    "def cmp(a,b):\n",
    "    cnt1 = 0\n",
    "    while a > 0:\n",
    "        cnt1 += a%2\n",
    "        a = a//2\n",
    "    cnt2 = 0\n",
    "    while b > 0:\n",
    "        cnt2 += b%2\n",
    "        b = b // 2\n",
    "    if cnt1 == cnt2:\n",
    "        return 0\n",
    "    elif cnt1 > cnt2:\n",
    "        return 1\n",
    "    else:\n",
    "        return -1\n",
    "    \n",
    "l.sort(cmp)\n",
    "print l"
   ]
  },
  {
   "cell_type": "code",
   "execution_count": 2,
   "metadata": {},
   "outputs": [
    {
     "name": "stdout",
     "output_type": "stream",
     "text": [
      "<type 'function'>\n",
      "6\n",
      "33\n",
      "12\n"
     ]
    }
   ],
   "source": [
    "def mult(a, b):\n",
    "    return a*b\n",
    "\n",
    "mult(3, 4)\n",
    "\n",
    "def partialMult(a):\n",
    "    def mult(b):\n",
    "        return a * b\n",
    "    return mult\n",
    "\n",
    "multBy3 = partialMult(3)\n",
    "print(type(multBy3))\n",
    "print(multBy3(2))\n",
    "print(multBy3(11))\n",
    "print(multBy3(4))"
   ]
  },
  {
   "cell_type": "code",
   "execution_count": 4,
   "metadata": {},
   "outputs": [
    {
     "name": "stdout",
     "output_type": "stream",
     "text": [
      "20\n"
     ]
    }
   ],
   "source": [
    "# for reference this idea can be done more easily with functools\n",
    "from functools import partial\n",
    "\n",
    "anotherMultBy3 = partial(mult, b=5)\n",
    "print(anotherMultBy3(a=4))"
   ]
  },
  {
   "cell_type": "markdown",
   "metadata": {},
   "source": [
    "<div style=\"direction:rtl;line-height:300%;\" id=\"section13\"><font face=\"XB Zar\" size=5>\n",
    "<h3>Help</h3>\n",
    "</font></div>"
   ]
  },
  {
   "cell_type": "code",
   "execution_count": null,
   "metadata": {},
   "outputs": [
    {
     "name": "stdout",
     "output_type": "stream",
     "text": [
      "\n",
      "Welcome to Python 3.5's help utility!\n",
      "\n",
      "If this is your first time using Python, you should definitely check out\n",
      "the tutorial on the Internet at http://docs.python.org/3.5/tutorial/.\n",
      "\n",
      "Enter the name of any module, keyword, or topic to get help on writing\n",
      "Python programs and using Python modules.  To quit this help utility and\n",
      "return to the interpreter, just type \"quit\".\n",
      "\n",
      "To get a list of available modules, keywords, symbols, or topics, type\n",
      "\"modules\", \"keywords\", \"symbols\", or \"topics\".  Each module also comes\n",
      "with a one-line summary of what it does; to list the modules whose name\n",
      "or summary contain a given string such as \"spam\", type \"modules spam\".\n",
      "\n"
     ]
    }
   ],
   "source": [
    "help()"
   ]
  },
  {
   "cell_type": "code",
   "execution_count": 7,
   "metadata": {},
   "outputs": [
    {
     "name": "stdout",
     "output_type": "stream",
     "text": [
      "102\n",
      "104\n",
      "12\n",
      "14\n",
      "12\n"
     ]
    }
   ],
   "source": [
    "s = 100\n",
    "def g():\n",
    "    global s\n",
    "    s = s + 2\n",
    "    print s\n",
    "def f():\n",
    "    global s\n",
    "    s = 12\n",
    "    print s\n",
    "    \n",
    "g()\n",
    "g()\n",
    "f()\n",
    "g()\n",
    "f()"
   ]
  },
  {
   "cell_type": "markdown",
   "metadata": {},
   "source": [
    "<div style=\"direction:rtl;line-height:300%;\" id=\"section14\"><font face=\"XB Zar\" size=5>\n",
    "<h3>class</h3>\n",
    "برای تعریف یک کلاس در پایتون از کلمه‌ی کلیدی class استفاده می‌شود.\n",
    "بعضی از نام‌های توابع هر کلاس معانی خاصی دارند. این توابع همه در ابتدا و انتهایشان دو کاراکتر \n",
    "underline (_)\n",
    "دارند.\n",
    "برای مثال از این بین تابع\n",
    "<span class=\"codeM\">&#95;&#95;init&#95;&#95;</span>\n",
    "که کار همان constructor\n",
    "در زبان‌های دیگر را انجام می‌دهد.\n",
    "مثال‌های دیگر این نوع توابع:\n",
    "    <div class=\"codeM english\">\n",
    "        &#95;&#95;del&#95;&#95; (destructor),\n",
    "        &#95;&#95;eq&#95;&#95; (تابع مساوی),\n",
    "        &#95;&#95;str&#95;&#95; (<span class=\"persian\">toString در Java</span>)\n",
    "    </div>\n",
    "<div class=\"persian\">\n",
    "همچنین یکی از چیز‌هایی که شاید در پایتون با بقیه‌ی زبان‌ها فرق کند این است که در پایتون یک متغیر خاص به نام\n",
    "this\n",
    "نداریم. به جای آن خود شی به عنوان اولین ورودی به تابع پاس داده می‌شود. این ورودی چیز خاصی نیست اما در زبان پایتون از آن با نام \n",
    "self\n",
    "یاد می‌شود و بهتر است شما نیز این قاعده را رعایت کنید. پس هر تابع یکی کلاس حداقل یک ورودی دارد که اولین‌شان همان self است.\n",
    "</div>\n",
    "</font></div>"
   ]
  },
  {
   "cell_type": "code",
   "execution_count": 15,
   "metadata": {},
   "outputs": [
    {
     "name": "stdout",
     "output_type": "stream",
     "text": [
      "hello, i'm here!\n",
      "1\n",
      "hello, i'm here!\n",
      "1\n",
      "i have to go, bye!\n"
     ]
    }
   ],
   "source": [
    "class Test:\n",
    "    a  = 0\n",
    "    def __init__(self, x, y):\n",
    "        self.x=  x\n",
    "        self.y = y\n",
    "        self.a += 1\n",
    "        print('hello, i\\'m here!')\n",
    "    \n",
    "    def __del__(otherName):  # you can do this too, but please dont\n",
    "        print('i have to go, bye!')\n",
    "\n",
    "t = Test(2,3)\n",
    "print t.a\n",
    "s = Test(1,2)\n",
    "print s.a\n",
    "t = None  # python has garbage collection like Java\n",
    "#  you can explicity call garbage collector with first importing `gc`\n",
    "# and then calling gc.collect()"
   ]
  },
  {
   "cell_type": "markdown",
   "metadata": {},
   "source": [
    "<div style=\"direction:rtl;line-height:300%;\"><font face=\"XB Zar\" size=5>\n",
    "هر کلاس می‌تواند تعدادی فیلد (همان متغیرهای کلاس) داشته باشد. شما می‌توانید در هر لحظه از کد به یک شی متغیری را اضافه کنید (مگر این که از قصد این قابلیت از شما گرفته شده باشد) ولی بهتر است که تمام فیلد‌های یک کلاس در داخل constructor\n",
    "تعریف شوند (یعنی مقدار اولیه بگیرند).\n",
    "</font></div>"
   ]
  },
  {
   "cell_type": "code",
   "execution_count": null,
   "metadata": {},
   "outputs": [],
   "source": [
    "class Test:\n",
    "    a = 1 # you can even do this, but it's better not to\n",
    "    def __init__(self, b, c):\n",
    "        self.b = b  # this is the best way\n",
    "        self.c = c\n",
    "        self.other_value = 10\n",
    "\n",
    "o = Test(2, 3)\n",
    "o.d = 4 # you can even set an attribute outside of the class!\n",
    "print o.a, o.b, o.c, o.d, o.other_value"
   ]
  },
  {
   "cell_type": "markdown",
   "metadata": {},
   "source": [
    "<div style=\"direction:rtl;line-height:300%;\"><font face=\"XB Zar\" size=5>\n",
    "در پایتون می‌توانید وراثت نیز داشته باشید. برای این کار فقط کافی است نام کلاس پدر را در داخل یک جفت پرانتز جلوی تعریف نام کلاس قرار دهید (به مثال نگاه کنید).\n",
    "<br/>\n",
    "در پایتون همانند C++\n",
    "یک کلاس می‌تواند از چند کلاس ارث ببرد، اما فکر نمی‌کنم خیلی به دردتان بخورد.\n",
    "<br/>\n",
    "همچنین در وراثت بعضی مواقع (مثلا در constructor)\n",
    "مجبور می‌شویم تابع مشابه از پدر را صدا کنیم. برای این کار باید از ساختاری استفاده کنیم که شاید در نگاه اول کمی غریبه باشد. برای مثال برای صدا کردن constructor\n",
    "پدر، باید کد زیر را بنویسیم:\n",
    "<div class=\"english codeM\">\n",
    "        super(className, self).&#95;&#95;init&#95;&#95;()\n",
    "</div>\n",
    "</font></div>"
   ]
  },
  {
   "cell_type": "code",
   "execution_count": 12,
   "metadata": {},
   "outputs": [
    {
     "name": "stdout",
     "output_type": "stream",
     "text": [
      "in B\n",
      "in A\n"
     ]
    }
   ],
   "source": [
    "class A(object):\n",
    "    #  in python2 you can only use superwhen one of the parents\n",
    "    # inherit from a class that eventually inherits `object`, so A\n",
    "    # has to inherit from `object`\n",
    "    def __init__(self):\n",
    "        print('in A')\n",
    "\n",
    "class B(A):\n",
    "    def __init__(self):\n",
    "        print('in B')\n",
    "        super(B, self).__init__()\n",
    "        #A.__init__(self)\n",
    "        # this is okay too, but there are some pitfalls when using\n",
    "        # muliple inheritances. but this doesn't require A to inherit\n",
    "        # from `object`\n",
    "\n",
    "b = B()"
   ]
  },
  {
   "cell_type": "markdown",
   "metadata": {},
   "source": [
    "<div style=\"direction:rtl;line-height:300%;\" id=\"section15\"><font face=\"XB Zar\" size=5>\n",
    "<h2>مطالب اضافی</h2>\n",
    "<h3>لیست بی‌نهایت؟</h3> چرا که نه!\n",
    "</font></div>"
   ]
  },
  {
   "cell_type": "code",
   "execution_count": 21,
   "metadata": {},
   "outputs": [
    {
     "name": "stdout",
     "output_type": "stream",
     "text": [
      "first value `d` with sum of 1 .. `d` greater than 123 is 16\n"
     ]
    }
   ],
   "source": [
    "def InfiniteList(start):\n",
    "    value = start\n",
    "    while True:\n",
    "        yield value\n",
    "        value = value+1\n",
    "        \n",
    "expectedSum = 123\n",
    "cnt = 0;\n",
    "for i in InfiniteList(1):\n",
    "    cnt += i\n",
    "    if cnt >= expectedSum:\n",
    "        print('first value `d` with sum of 1 .. `d` ' \\\n",
    "            + 'greater than %d is %d' % (expectedSum, i))\n",
    "        break"
   ]
  },
  {
   "cell_type": "code",
   "execution_count": 22,
   "metadata": {},
   "outputs": [
    {
     "name": "stdout",
     "output_type": "stream",
     "text": [
      "list of odd numbers between 123 and 150: [123, 125, 127, 129, 131, 133, 135, 137, 139, 141, 143, 145, 147, 149]\n"
     ]
    }
   ],
   "source": [
    "import itertools\n",
    "print 'list of odd numbers between 123 and 150:', filter(\n",
    "            lambda x: x%2 == 1, \n",
    "            itertools.takewhile(\n",
    "                lambda x: x<150,\n",
    "                InfiniteList(123)\n",
    "            )\n",
    "        )"
   ]
  },
  {
   "cell_type": "code",
   "execution_count": 23,
   "metadata": {},
   "outputs": [
    {
     "name": "stdout",
     "output_type": "stream",
     "text": [
      "0th fibonacci number is 1\n",
      "1th fibonacci number is 1\n",
      "2th fibonacci number is 2\n",
      "3th fibonacci number is 3\n",
      "4th fibonacci number is 5\n"
     ]
    }
   ],
   "source": [
    "def FibonacciSeq():\n",
    "    a, b = 0, 1\n",
    "    while True:\n",
    "        yield b\n",
    "        b = a + b\n",
    "        a = b - a\n",
    "\n",
    "for fib, i in zip(FibonacciSeq(), xrange(5)):\n",
    "    print('%dth fibonacci number is %d' % (i, fib))"
   ]
  },
  {
   "cell_type": "markdown",
   "metadata": {},
   "source": [
    "<div style=\"direction:rtl;line-height:300%;\"><font face=\"XB Zar\" size=5>\n",
    "<h3>\n",
    "دربرگیرنده‌ها\n",
    "(Wrappers یا Decorators)\n",
    "</h3>\n",
    "</font></div>"
   ]
  },
  {
   "cell_type": "code",
   "execution_count": 24,
   "metadata": {},
   "outputs": [
    {
     "name": "stdout",
     "output_type": "stream",
     "text": [
      "30th fibonacci number is 1346269 it took 0.35 secs to calculate\n",
      "31th fibonacci number is 2178309 it took 0.57 secs to calculate\n",
      "32th fibonacci number is 3524578 it took 0.90 secs to calculate\n",
      "33th fibonacci number is 5702887 it took 1.43 secs to calculate\n",
      "34th fibonacci number is 9227465 it took 2.40 secs to calculate\n"
     ]
    }
   ],
   "source": [
    "\n",
    "import time\n",
    "\n",
    "def fib(n):\n",
    "    if n <= 1:\n",
    "        return 1\n",
    "    return fib(n-1) + fib(n-2)\n",
    "\n",
    "for i in range(30, 35):\n",
    "    start = time.time()\n",
    "    value = fib(i)\n",
    "    print('%dth fibonacci number is %d ' % (i, value) + \\\n",
    "          'it took %.2f secs to calculate' % (time.time() - start))"
   ]
  },
  {
   "cell_type": "code",
   "execution_count": 25,
   "metadata": {},
   "outputs": [
    {
     "name": "stdout",
     "output_type": "stream",
     "text": [
      "30th fibonacci number is 1346269 it took 0.0002 secs to calculate\n",
      "31th fibonacci number is 2178309 it took 0.0000 secs to calculate\n",
      "32th fibonacci number is 3524578 it took 0.0000 secs to calculate\n",
      "33th fibonacci number is 5702887 it took 0.0000 secs to calculate\n",
      "34th fibonacci number is 9227465 it took 0.0000 secs to calculate\n"
     ]
    }
   ],
   "source": [
    "import collections\n",
    "\n",
    "def memoize(func):\n",
    "    memoizeDict = {}\n",
    "    def wrapper(*args):\n",
    "        if not isinstance(args, collections.Hashable):\n",
    "            # later is better than never!\n",
    "            return func(*args)\n",
    "        elif not args in memoizeDict:\n",
    "            memoizeDict[args] = func(*args)\n",
    "        return memoizeDict[args]\n",
    "    return wrapper\n",
    "\n",
    "@memoize\n",
    "def fib_memoized(n):\n",
    "    if n <= 1:\n",
    "        return 1\n",
    "    return fib_memoized(n-1) + fib_memoized(n-2)\n",
    "\n",
    "for i in range(30, 35):\n",
    "    start = time.time()\n",
    "    value = fib_memoized(i)\n",
    "    print('%dth fibonacci number is %d ' % (i, value) + \\\n",
    "          'it took %.4f secs to calculate' % (time.time() - start))"
   ]
  }
 ],
 "metadata": {
  "kernelspec": {
   "display_name": "Python 3 (ipykernel)",
   "language": "python",
   "name": "python3"
  },
  "language_info": {
   "codemirror_mode": {
    "name": "ipython",
    "version": 3
   },
   "file_extension": ".py",
   "mimetype": "text/x-python",
   "name": "python",
   "nbconvert_exporter": "python",
   "pygments_lexer": "ipython3",
   "version": "3.10.5"
  }
 },
 "nbformat": 4,
 "nbformat_minor": 1
}
