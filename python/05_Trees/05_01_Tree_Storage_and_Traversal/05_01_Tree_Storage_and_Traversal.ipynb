{
 "cells": [
  {
   "cell_type": "markdown",
   "metadata": {
    "slideshow": {
     "slide_type": "-"
    }
   },
   "source": [
    "\n",
    "<div style=\"direction:rtl;line-height:300%;\"><font  size=5>\n",
    "<div style=\"direction:rtl;line-height:300%;\"><font  size=5>\n",
    "<div align=center>\n",
    "<font size=30>\n",
    "<p></p>\n",
    "به نام خدا\n",
    "</font>\n",
    "<br>\n",
    "<font color=#FF7500>\n",
    "دانشگاه صنعتی شریف - دانشکده مهندسی کامپیوتر\n",
    "</font>\n",
    "<br>\n",
    "<font color=blue>\n",
    "داده‌ساختارها و الگوریتم‌ها\n",
    "</font>\n",
    "<br>\n",
    "ترم دوم سال تحصیلی ۱۳۹۸-۱۳۹۷\n",
    "</div>\n",
    "<hr/>\n",
    "<font color=red size=6>\n",
    "<p></p>\n",
    "\n",
    "<div align=center>فصل پنجم، بخش اول:  ذخیره‌سازی و پیمایش درخت</div>\n",
    "</font>\n",
    "<div align=center>\n",
    "سروش عبادیان، امیر کفشدار گوهرشادی، ایمان جامی مقدم، محسن فردوسی و علی شریفی</div>\n",
    "<hr>\n",
    "</font></div>\n",
    "\n",
    "\n",
    "<style type=\"text/css\" scoped>\n",
    "p{\n",
    "border: 1px solid #a2a9b1;background-color: #f8f9fa;display: inline-block;\n",
    "};\n",
    "</style>\n",
    "\n",
    "<div>\n",
    "<h3> فهرست محتویات</h3>\n",
    "<ul style=\"margin-right: 0;\">\n",
    "<li><a href=\"#intro\"> مقدمه</a></li>\n",
    "<li><a href=\"#definition\"> تعاریف در درخت ها</a></li>\n",
    "<li><a href=\"#trees\"> ذخیره سازی درخت</a></li>\n",
    "<li><a href=\"#tree_traversal\">پیمایش درخت</a></li>\n",
    "</ul>\n",
    "</div>"
   ]
  },
  {
   "cell_type": "markdown",
   "metadata": {},
   "source": [
    "<div style=\"direction:rtl;line-height:300%;\"><font size=5>\n",
    "<font id=\"intro\" size=6>\n",
    "<h1> مقدمه</h1>\n",
    "</font>\n",
    "<font color=#595959 size=5>\n",
    "آرایه‌ها، لیست‌های پیوندی، صف‌ها و پشته‌ها داده‌ساختار‌هایی خطی هستند و تنها برای مشخص کردن ترتیبی از عناصر (که در خود ذخیره کرده‌اند) به کار می‌آیند. در کاربردهای فراوانی نیازمند ساختار‌های دیگری هستیم.\n",
    "درخت‌ها بیانگر ساختار‌هایی سلسله مراتبی هستند که در بسیاری از مسائل به آن‌ها نیاز داریم. به طور مثال یکی از این کاربرد‌ها ذخیره‌سازی ساختار پوشه‌ها در کامپیوتر است که از ساختاری سلسله مراتبی پیروی می‌کند. \n",
    "<img width=60% src=\"src/images/finder.png\">\n",
    "همچنین می‌توان درخت‌ها را در ساختار‌هایی کارآمد‌تر برای انجام عمل هایی خاص روی ساختار‌های خطی نیز به کار گرفت.\n",
    "</font></font></div>"
   ]
  },
  {
   "cell_type": "markdown",
   "metadata": {},
   "source": [
    "<div style=\"direction:rtl;line-height:300%;\"><font face=\"B Nazanin\" size=5>\n",
    "<font color=#ff6600 id=\"definition\">\n",
    "<h1> تعاریف در درخت ها</h1>\n",
    "</font>\n",
    "    <p></p>\n",
    "در زبان نظریه گراف ها درخت، گراف همبند بدون دور است و درخت ریشه‌دار درختی است که در آن یک رأس خاص به عنوان ریشه انتخاب شده است و ساختاری سلسله مراتبی به آن بخشیده است. موارد زیر را برای درخت‌های ریشه‌دار تعریف می‌کنیم:(اغلب اسامی به تقلید از درخت‌های تبارشناسی انتخاب شده‌اند.)  \n",
    "<ul>\n",
    "  <li>عمق یک رأس: فاصله‌ی رأس تا ریشه را عمق آن می‌نامیم.</li>\n",
    "  <li>ارتفاع درخت: ماکسیمم عمق در بین همه‌ی رأس‌ها را ارتفاع درخت می‌نامیم.</li>\n",
    "  <li>پدر و فرزند: وقتی دو رأس مجاور باشند، رأسی که به ریشه نزدیک‌تر است را پدر دیگری می‌نامیم و رأس دورتر را فرزند رأس نزدیک‌تر.</li>\n",
    "  <li>اجداد: اجداد یک رأس همه‌ی رئوسی هستند که روی مسیر آن رأس به ریشه قرار دارند. منظور از جد $i$ام یک رأس جدی است که فاصله‌اش تا آن رأس $i$ است.</li>\n",
    "  <li>نوادگان: نوادگان یک رأس همه‌ی رئوسی هستند که این رأس جدشان است. زیردرخت یک رأس مجموعه‌ی همه‌ی نوادگان آن رأس است.</li>\n",
    "  <li>برگ: رأسی که هیچ فرزندی نداشته باشد (این اصطلاح از درختان واقعی گرفته شده است).</li>\n",
    "</ul>\n",
    "</font></div>"
   ]
  },
  {
   "cell_type": "markdown",
   "metadata": {},
   "source": [
    "<div style=\"direction:rtl;line-height:300%;\"><font face=\"B Nazanin\" size=5>\n",
    "<font color=#ff6600 size=6 id=\"trees\">\n",
    "<h1>ذخیره سازی درخت</h1>\n",
    "</font>\n",
    "    <p></p>\n",
    "راه‌های گوناگونی برای ذخیره‌سازی یک درخت وجود دارد. ساده‌ترین راه برای ذخیره‌سازی یک درخت آن است که رأس‌های آن را شماره زده و شماره‌ی پدر هر رأس را در آن ذخیره کنیم. چون ریشه تنها رأس درخت است که پدر ندارد می‌توانیم قرارداد کنیم که پدر ریشه را $-1$ یا خودش در نظر بگیریم. ما در این متن از قرارداد دوم استفاده می‌کنیم.\n",
    "<p></p>\n",
    "ذخیره‌کردن پدرهای رئوس گرچه برای تعیین یکتای یک درخت کافی است، اما پیمایش آن را بسیار دشوار و زمان‌بر می‌کند. راهکار بهتر برای ذخیره‌سازی این است که برای هر رأس شماره‌ی پدرش و یک لیست از شماره‌های فرزندانش را ذخیره کنیم.\n",
    "<p></p>\n",
    "برای مثال یک ذخیره‌سازی از درخت زیر را در ادامه می‌آوریم. \n",
    "\n",
    "<img src=\"src/images/tree1.jpg\">\n",
    "\n",
    "رأس ۳ ریشه‌ی درخت فرض شده است. در کد زیر از روی جفت های پدر و فرزند، لیست فرزندان هر راس بدست آمده است \n",
    "\n",
    "\n",
    "</font></div>"
   ]
  },
  {
   "cell_type": "code",
   "execution_count": 1,
   "metadata": {},
   "outputs": [
    {
     "name": "stdout",
     "output_type": "stream",
     "text": [
      "children of 1 are: []\n",
      "children of 2 are: [8]\n",
      "children of 3 are: [4, 9]\n",
      "children of 4 are: [5, 6, 10]\n",
      "children of 5 are: []\n",
      "children of 6 are: [7]\n",
      "children of 7 are: []\n",
      "children of 8 are: [1]\n",
      "children of 9 are: [2]\n",
      "children of 10 are: []\n"
     ]
    }
   ],
   "source": [
    "vertices = [1, 2, 3, 4, 5, 6, 7, 8, 9, 10]\n",
    "parent = {\n",
    "    3: 3,\n",
    "    9: 3,\n",
    "    4: 3,\n",
    "    2: 9,\n",
    "    10: 4,\n",
    "    6: 4,\n",
    "    5: 4,\n",
    "    7: 6,\n",
    "    8: 2,\n",
    "    1: 8\n",
    "}\n",
    "\n",
    "# Calculations to create children lists of vertices\n",
    "children = dict()\n",
    "for vertex in vertices:\n",
    "    children[vertex] = list()\n",
    "for vertex in vertices:\n",
    "    if vertex != parent[vertex]:\n",
    "        children[parent[vertex]].append(vertex)\n",
    "\n",
    "for vertex in vertices:\n",
    "    print (\"children of %d are: %s\" % (vertex, str(children[vertex])))"
   ]
  },
  {
   "cell_type": "markdown",
   "metadata": {},
   "source": [
    "<div style=\"direction:rtl;line-height:300%;\"><font face=\"B Nazanin\" size=5>\n",
    "راه دیگر ذخیره‌سازی درخت استفاده از یک شیء برای نمایش هر رأس است.\n",
    "برای استفاده‌ی بهینه‌تر از حافظه می‌توان برای هر رأس تنها ۳ اشاره‌گر انتخاب کرد:\n",
    "<ul>\n",
    "\t<li>left_child  که به چپ‌ترین بچه‌ی یک رأس اشاره می‌کند</li>\n",
    "\t<li>right sibling   که به رأس بعدی در سمت راست خود اشاره می‌کند(در واقع به برادر سمت راست این راس) </li>\n",
    "\t<li>parent که به پدر خود اشاره می‌کند</li>\n",
    "</ul>\n",
    "    در شکل زیر این سه اشاره گر برای راس شماره 6 مشخص شده اند.\n",
    "<img src=\"src/images/tree3.png\" height=\"320\" width=\"320\">\n",
    "در قطعه کد زیر، پیاده‌سازی یک راس با استفاده از تعاریف فوق در قالب کلاس TreeNode آمده‌است.\n",
    "</font></div>"
   ]
  },
  {
   "cell_type": "code",
   "execution_count": 2,
   "metadata": {
    "collapsed": true
   },
   "outputs": [],
   "source": [
    "class TreeNode:\n",
    "    def __init__(self, label):\n",
    "        self.parent = None\n",
    "        self.left_child = None\n",
    "        self.right_sibling = None\n",
    "        self.label = label\n",
    "        \n",
    "    def __str__(self):\n",
    "        return \"TreeNode(%s)\" % str(self.label)"
   ]
  },
  {
   "cell_type": "markdown",
   "metadata": {},
   "source": [
    "<div style=\"direction:rtl;line-height:300%;\"><font face=\"B Nazanin\" size=5>\n",
    " در قطعه کد زیر، درختی با استفاده از رأس‌های بالا (کلاس TreeNode)، تعریف می‌کنیم. \n",
    "</font></div>"
   ]
  },
  {
   "cell_type": "code",
   "execution_count": 3,
   "metadata": {
    "collapsed": true
   },
   "outputs": [],
   "source": [
    "class Tree:\n",
    "    def __init__(self):\n",
    "        self.root = None\n",
    "\n",
    "    def assign_root(self, label):\n",
    "        assert self.root is None\n",
    "        self.root = TreeNode(label)\n",
    "\n",
    "    def is_empty(self):\n",
    "        return self.root is None\n",
    "\n",
    "    def add_new_node_1(self, parent, label):\n",
    "        new_node = TreeNode(label)\n",
    "        left_child = parent.left_child\n",
    "        parent.left_child = new_node\n",
    "        new_node.right_sibling = left_child\n",
    "        new_node.parent = parent\n",
    "        return new_node\n",
    "\n",
    "    def add_new_node_2(self, parent, label):\n",
    "        new_node = TreeNode(label)\n",
    "        new_node.parent = parent\n",
    "        if parent.left_child is None:\n",
    "            parent.left_child = new_node\n",
    "        else:\n",
    "            left_child = parent.left_child\n",
    "            while left_child.right_sibling is not None:\n",
    "                left_child = left_child.right_sibling\n",
    "            left_child.right_sibling = new_node\n",
    "        return new_node\n",
    "\n",
    "    def add_new_node(self, parent, label):\n",
    "        return self.add_new_node_2(parent, label)\n",
    "    \n",
    "    def find_in_subtree(self, label, node):\n",
    "        if node.label == label:\n",
    "            return node\n",
    "\n",
    "        child = node.left_child\n",
    "        while child is not None:\n",
    "            result = self.find_in_subtree(label, child)\n",
    "            if result is not None:\n",
    "                return result\n",
    "            child = child.right_sibling\n",
    "        return None\n",
    "\n",
    "    def find_by_label(self, label):\n",
    "        if self.is_empty():\n",
    "            return None\n",
    "        return self.find_in_subtree(label, self.root)\n",
    "\n",
    "    def add_new_node_by_label(self, parent_label, label):\n",
    "        self.add_new_node(self.find_by_label(parent_label), label)\n",
    "\n",
    "    def get_subtree_size(self, node):\n",
    "        if node is None:\n",
    "            return 0\n",
    "\n",
    "        count = 1\n",
    "        child = node.left_child\n",
    "        while child is not None:\n",
    "            count += self.get_subtree_size(child)\n",
    "            child = child.right_sibling\n",
    "\n",
    "        return count\n",
    "\n",
    "    def get_size(self):\n",
    "        if self.is_empty():\n",
    "            return 0\n",
    "        return self.get_subtree_size(self.root)"
   ]
  },
  {
   "cell_type": "markdown",
   "metadata": {},
   "source": [
    "<div style=\"direction:rtl;line-height:300%;\"><font face=\"B Nazanin\" size=5>\n",
    "حال در قطعه کد زیر ابتدا درختی که در شکل ابتدای این محتوا نمایش داده شده‌بود را می‌سازیم.\n",
    "<br>\n",
    "اگر بخواهیم رأسی را بر حسب label آن بیابیم از تابع find_by_label استفاده می‌کنیم.\n",
    "<br>\n",
    "اگر بخواهیم اندازه‌ی یک درخت را بیابیم کافی است از تابع get_size درخت استفاده کنیم.\n",
    "<br>\n",
    "<br>\n",
    "با توجه به قطعه کد بالا موارد زیر را بررسی کنید:\n",
    "<ul>\n",
    "    <li>همان طور که می‌بینید دو تابع برای اضافه کردن راس به درخت وجود دارد (add_new_node_1 و add_new_node_2).\n",
    "    فرق این دو پیاده‌سازی مختلف در چیست؟\n",
    "    </li>\n",
    "    <li>تابع find_in_subtree چگونه عمل می‌کند؟</li>\n",
    "    <li>چگونه می‌توان اندازه زیر درخت فرزند چپ ریشه را به دست آورد؟</li>\n",
    "</ul>\n",
    "<br>\n",
    "<br>\n",
    "</font></div>"
   ]
  },
  {
   "cell_type": "code",
   "execution_count": 7,
   "metadata": {},
   "outputs": [
    {
     "name": "stdout",
     "output_type": "stream",
     "text": [
      "TreeNode(2)\n",
      "10\n"
     ]
    }
   ],
   "source": [
    "tree = Tree()\n",
    "tree.assign_root(3)\n",
    "tree.add_new_node_by_label(3, 9)\n",
    "tree.add_new_node_by_label(9, 2)\n",
    "tree.add_new_node_by_label(3, 4)\n",
    "tree.add_new_node_by_label(4, 10)\n",
    "tree.add_new_node_by_label(4, 6)\n",
    "tree.add_new_node_by_label(4, 5)\n",
    "tree.add_new_node_by_label(2, 8)\n",
    "tree.add_new_node_by_label(6, 7)\n",
    "tree.add_new_node_by_label(8, 1)\n",
    "\n",
    "print(tree.find_by_label(2))\n",
    "print(tree.get_size())"
   ]
  },
  {
   "cell_type": "markdown",
   "metadata": {},
   "source": [
    "<div style=\"direction:rtl;line-height:300%;\"><font face=\"B Nazanin\" size=5>\n",
    "<font color=#ff6600 size=6 id=\"tree_traversal\">\n",
    "<h1>پیمایش درخت</h1>\n",
    "</font>\n",
    " <p></p>\n",
    "فرض کنید که یک درخت ریشه‌دار داریم و می خواهیم با حرکت رو یال‌های درخت، همه‌ی گره های آن را هرکدام یک‌بار ملاقات کنیم. به این کار پیمایش درخت می‌گویند.\n",
    "پیمایش درخت‌ها و ترتیب حاصل از نوع پیمایش در بسیاری از مسائل کاربرد دارند. در این‌جا به ۳ نوع پرکاربرد پیمایش درخت‌ها می‌پردازیم.\n",
    "<p></p>\n",
    "اولین نوع پیمایش، پیمایش پیش‌ترتیب یا \n",
    "$preorder$\n",
    "است که در آن ابتدا ریشه و پس از آن به شکل بازگشتی هر یک از زیر درخت‌هااز چپ به راست، پیمایش می‌شود.\n",
    "<br>\n",
    "حاصل پیمایش\n",
    "$preeorder$\n",
    "درخت آمده در شکل ابتدای محتوا، پس از اجرای کد زیر قابل مشاهده است.\n",
    "</font></div>"
   ]
  },
  {
   "cell_type": "code",
   "execution_count": 5,
   "metadata": {},
   "outputs": [
    {
     "name": "stdout",
     "output_type": "stream",
     "text": [
      "[3, 9, 2, 8, 1, 4, 10, 6, 7, 5]\n"
     ]
    }
   ],
   "source": [
    "def pre_order(tree, node):\n",
    "    order_list = list()\n",
    "    if node is None:\n",
    "        return order_list\n",
    "\n",
    "    order_list.append(node.label)\n",
    "    child = node.left_child\n",
    "    while child is not None:\n",
    "        order_list.extend(tree.pre_order(child))\n",
    "        child = child.right_sibling\n",
    "\n",
    "    return order_list\n",
    "\n",
    "Tree.pre_order = pre_order\n",
    "\n",
    "print(tree.pre_order(tree.root))"
   ]
  },
  {
   "cell_type": "markdown",
   "metadata": {},
   "source": [
    "<div style=\"direction:rtl;line-height:300%;\"><font face=\"B Nazanin\" size=5>\n",
    "<p></p>\n",
    "نوع دوم پیمایش، پیمایش پس‌ترتیب یا\n",
    "$postorder$\n",
    "است که در آن ابتدا زیر درخت فرزندان به ترتیب از چپ به راست به صورت بازگشتی پیمایش می‌شود و در نهایت ریشه درخت پیمایش می‌شود.\n",
    "<br>\n",
    "پیمایش\n",
    "$postorder$\n",
    "درخت آمده در شکل ابتدای محتوا، پس از اجرای کد زیر قابل مشاهده است.\n",
    "</font></div>"
   ]
  },
  {
   "cell_type": "code",
   "execution_count": 3,
   "metadata": {},
   "outputs": [
    {
     "ename": "NameError",
     "evalue": "name 'Tree' is not defined",
     "output_type": "error",
     "traceback": [
      "\u001b[1;31m---------------------------------------------------------------------------\u001b[0m",
      "\u001b[1;31mNameError\u001b[0m                                 Traceback (most recent call last)",
      "\u001b[1;32m<ipython-input-3-9a8552003a0a>\u001b[0m in \u001b[0;36m<module>\u001b[1;34m()\u001b[0m\n\u001b[0;32m     12\u001b[0m     \u001b[1;32mreturn\u001b[0m \u001b[0morder_list\u001b[0m\u001b[1;33m\u001b[0m\u001b[0m\n\u001b[0;32m     13\u001b[0m \u001b[1;33m\u001b[0m\u001b[0m\n\u001b[1;32m---> 14\u001b[1;33m \u001b[0mTree\u001b[0m\u001b[1;33m.\u001b[0m\u001b[0mpost_order\u001b[0m \u001b[1;33m=\u001b[0m \u001b[0mpost_order\u001b[0m\u001b[1;33m\u001b[0m\u001b[0m\n\u001b[0m\u001b[0;32m     15\u001b[0m \u001b[1;33m\u001b[0m\u001b[0m\n\u001b[0;32m     16\u001b[0m \u001b[0mprint\u001b[0m\u001b[1;33m(\u001b[0m\u001b[0mtree\u001b[0m\u001b[1;33m.\u001b[0m\u001b[0mpost_order\u001b[0m\u001b[1;33m(\u001b[0m\u001b[0mtree\u001b[0m\u001b[1;33m.\u001b[0m\u001b[0mroot\u001b[0m\u001b[1;33m)\u001b[0m\u001b[1;33m)\u001b[0m\u001b[1;33m\u001b[0m\u001b[0m\n",
      "\u001b[1;31mNameError\u001b[0m: name 'Tree' is not defined"
     ]
    }
   ],
   "source": [
    "def post_order(tree, node):\n",
    "    order_list = list()\n",
    "    if node is None:\n",
    "        return order_list\n",
    "\n",
    "    child = node.left_child\n",
    "    while child is not None:\n",
    "        order_list.extend(tree.post_order(child))\n",
    "        child = child.right_sibling\n",
    "    order_list.append(node.label)\n",
    "\n",
    "    return order_list\n",
    "\n",
    "Tree.post_order = post_order\n",
    "\n",
    "print(tree.post_order(tree.root))"
   ]
  },
  {
   "cell_type": "markdown",
   "metadata": {},
   "source": [
    "<div style=\"direction:rtl;line-height:300%;\"><font face=\"B Nazanin\" size=5>\n",
    "\n",
    "<p></p>\n",
    "سومین نوع پیمایش، پیمایش میان‌ترتیب یا \n",
    "$inorder$\n",
    "است که در آن ابتدا زیر درخت فرزند چپ، پس از آن ریشه و در نهایت زیر درخت بقیه فرزندان به ترتیب از چپ به راست به شکل بازگشتی پیمایش می‌شود.\n",
    "<br>\n",
    "پیمایش\n",
    "$inorder$\n",
    "درخت آمده در شکل ابتدای محتوا، پس از اجرای کد زیر قابل مشاهده است.\n",
    "</font></div>"
   ]
  },
  {
   "cell_type": "code",
   "execution_count": 8,
   "metadata": {},
   "outputs": [
    {
     "name": "stdout",
     "output_type": "stream",
     "text": [
      "[1, 8, 2, 9, 3, 10, 4, 7, 6, 5]\n"
     ]
    }
   ],
   "source": [
    "def in_order(tree, node):\n",
    "    order_list = list()\n",
    "    if node is None:\n",
    "        return order_list\n",
    "\n",
    "    child = node.left_child\n",
    "    order_list.extend(tree.in_order(child))\n",
    "    order_list.append(node.label)\n",
    "    while child is not None:\n",
    "        child = child.right_sibling\n",
    "        order_list.extend(tree.in_order(child))\n",
    "\n",
    "    return order_list\n",
    "\n",
    "\n",
    "Tree.in_order = in_order\n",
    "\n",
    "print(tree.in_order(tree.root))"
   ]
  },
  {
   "cell_type": "markdown",
   "metadata": {},
   "source": [
    "<div style=\"direction:rtl;line-height:300%;\"><font face=\"B Nazanin\" size=5>\n",
    "\n",
    "<p></p>\n",
    "<font size=6 color=000066>\n",
    "<div id=\"tree_traversal\">خودآزمایی ۱</div>\n",
    "</font>\n",
    "تابع \n",
    "$root\\_left\\_subtree\\_size$\n",
    "را طوری کامل کنید که با گرفتن لیست پیمایش شده‌ی\n",
    "$preorder$\n",
    "و\n",
    "$inorder$\n",
    "یک گراف، اندازه‌ی زیر درخت فرزند چپ ریشه را برگرداند.\n",
    "</font>\n",
    "</font></div>"
   ]
  },
  {
   "cell_type": "code",
   "execution_count": 2,
   "metadata": {},
   "outputs": [
    {
     "name": "stdout",
     "output_type": "stream",
     "text": [
      "Your code get wrong answer in 10 test(s) from 10 test(s).\n"
     ]
    }
   ],
   "source": [
    "from src.tests.tester import tester\n",
    "\n",
    "def root_left_subtree_size(preorder_list, inorder_list):\n",
    "    return 0\n",
    "    #return number_of_node_in_left_subtree_of_root\n",
    "\n",
    "\n",
    "tester(\"root_left_subtree_size\", root_left_subtree_size)\n",
    "\n",
    "#example:\n",
    "#function_call: root_left_subtree_size([3, 9, 2, 8, 1, 4, 10, 6, 7, 5], [1, 8, 2, 9, 3, 10, 4, 7, 6, 5])\n",
    "#return value: 4"
   ]
  },
  {
   "cell_type": "markdown",
   "metadata": {},
   "source": [
    "<div style=\"direction:rtl;line-height:300%;\"><font face=\"B Nazanin\" size=5>\n",
    "<p></p>\n",
    "<font size=6 color=000066>\n",
    "<div id=\"tree_traversal\">خودآزمایی ۲</div>\n",
    "</font>\n",
    "تابع \n",
    "$left\\_subtree\\_size$\n",
    "را طوری کامل کنید که با گرفتن لیست پیمایش شده‌ی\n",
    "$preorder$\n",
    "و\n",
    "$inorder$\n",
    "یک گراف و همچنین لیبل یک راس آن، اندازه‌ی زیر درخت فرزند چپ راسِ با آن لیبل را برگرداند.\n",
    "</font>\n",
    "</font></div>"
   ]
  },
  {
   "cell_type": "code",
   "execution_count": 5,
   "metadata": {},
   "outputs": [
    {
     "name": "stdout",
     "output_type": "stream",
     "text": [
      "Your code get wrong answer in 6 test(s) from 10 test(s).\n"
     ]
    }
   ],
   "source": [
    "def left_subtree_size(preorder_list, inorder_list, node_label):\n",
    "    return 0\n",
    "    #return number_of_node_in_left_subtree_of_root\n",
    "\n",
    "\n",
    "tester(\"left_subtree_size\", left_subtree_size)\n",
    "#example:\n",
    "#function_call: left_subtree_size([3, 9, 2, 8, 1, 4, 10, 6, 7, 5], [1, 8, 2, 9, 3, 10, 4, 7, 6, 5], 2)\n",
    "#return value: 2"
   ]
  },
  {
   "cell_type": "markdown",
   "metadata": {},
   "source": [
    "<div style=\"direction:rtl;line-height:300%;\"><font face=\"B Nazanin\" size=5>\n",
    "<p></p>\n",
    "<font size=6 color=000066>\n",
    "<div id=\"tree_traversal\">خودآزمایی ۳</div>\n",
    "</font>\n",
    "تابع \n",
    "$change\\_order$\n",
    "را طوری کامل کنید که با گرفتن لیست پیمایش شده‌ی\n",
    "$preorder$\n",
    "و\n",
    "$inorder$\n",
    "یک گراف، لیست پیمایش \n",
    "$postorder$\n",
    "آن را برگرداند.\n",
    "<br>\n",
    "در این سوال فرض شده است که هر راس درخت حداکثر دو فرزند دارد! (چرا این فرض برای حل سوال لازم است؟)\n",
    "**توجه کنید که ترتیب \n",
    "$postorder$\n",
    "مثال آورده شده در کد زیر با ترتیب \n",
    "$postorder$\n",
    "ای که برای شکل بالا به دست آوردیم متفاوت شد. چون در آن درجه‌ی بعضی رئوس بیشتر از ۲ است.\n",
    "</font>\n",
    "</font></div>"
   ]
  },
  {
   "cell_type": "code",
   "execution_count": 4,
   "metadata": {},
   "outputs": [
    {
     "name": "stdout",
     "output_type": "stream",
     "text": [
      "Your code get wrong answer in 10 test(s) from 10 test(s).\n"
     ]
    }
   ],
   "source": [
    "def change_order(preorder_list, inorder_list):\n",
    "    return []\n",
    "    #return number_of_node_in_left_subtree_of_root\n",
    "\n",
    "\n",
    "tester(\"change_order\", change_order)\n",
    "#example:\n",
    "#function_call: left_subtree_size([3, 9, 2, 8, 1, 4, 10, 6, 7, 5], [1, 8, 2, 9, 3, 10, 4, 7, 6, 5], 2)\n",
    "#return value: [1, 8, 2, 9, 10, 7, 5, 6, 4, 3]"
   ]
  },
  {
   "cell_type": "code",
   "execution_count": null,
   "metadata": {
    "collapsed": true
   },
   "outputs": [],
   "source": []
  }
 ],
 "metadata": {
  "celltoolbar": "Slideshow",
  "kernelspec": {
   "display_name": "Python 3",
   "language": "python",
   "name": "python3"
  },
  "language_info": {
   "codemirror_mode": {
    "name": "ipython",
    "version": 3
   },
   "file_extension": ".py",
   "mimetype": "text/x-python",
   "name": "python",
   "nbconvert_exporter": "python",
   "pygments_lexer": "ipython3",
   "version": "3.7.1"
  }
 },
 "nbformat": 4,
 "nbformat_minor": 1
}
