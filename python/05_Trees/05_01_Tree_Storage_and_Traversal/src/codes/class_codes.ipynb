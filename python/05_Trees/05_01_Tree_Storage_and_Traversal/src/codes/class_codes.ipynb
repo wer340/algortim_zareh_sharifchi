{
 "cells": [
  {
   "cell_type": "code",
   "execution_count": 1,
   "metadata": {
    "collapsed": true,
    "deletable": true,
    "editable": true
   },
   "outputs": [],
   "source": [
    "class Node:\n",
    "    def __init__(self, value, parent):\n",
    "        self.value = value\n",
    "        self.parent = parent\n",
    "        self.left = None\n",
    "        self.right = None"
   ]
  },
  {
   "cell_type": "code",
   "execution_count": 7,
   "metadata": {
    "collapsed": true,
    "deletable": true,
    "editable": true
   },
   "outputs": [],
   "source": [
    "def print_inorder(node):\n",
    "    if node is None:\n",
    "        return\n",
    "    print_inorder(node.left)\n",
    "    print(node.value)\n",
    "    print_inorder(node.right)"
   ]
  },
  {
   "cell_type": "code",
   "execution_count": 17,
   "metadata": {
    "collapsed": true,
    "deletable": true,
    "editable": true
   },
   "outputs": [],
   "source": [
    "def print_preorder(node):\n",
    "    if node is None:\n",
    "        return\n",
    "    print(node.value)\n",
    "    print_preorder(node.left)\n",
    "    print_preorder(node.right)\n",
    "    \n",
    "def print_postorder(node):\n",
    "    if node is None:\n",
    "        return\n",
    "    print_postorder(node.left)\n",
    "    print_postorder(node.right)\n",
    "    print(node.value)\n",
    "    \n",
    "def search(node, value):\n",
    "    if node == None:\n",
    "        return False\n",
    "    if node.value == value:\n",
    "        return True\n",
    "    if value < node.value:\n",
    "        return search(node.left, value)\n",
    "    return search(node.right, value)\n",
    "\n",
    "def insert(node, value):\n",
    "    if value <= node.value:\n",
    "        if node.left is None:\n",
    "            child = Node(value, node)\n",
    "            node.left = child\n",
    "            return\n",
    "        insert(node.left, value)\n",
    "    else:\n",
    "        if node.right is None:\n",
    "            child = Node(value, node)\n",
    "            node.right = child\n",
    "            return\n",
    "        insert(node.right, value)"
   ]
  },
  {
   "cell_type": "code",
   "execution_count": 19,
   "metadata": {
    "collapsed": true,
    "deletable": true,
    "editable": true
   },
   "outputs": [],
   "source": [
    "root = Node(4, None)\n",
    "insert(root, 5)\n",
    "insert(root, 3)\n",
    "insert(root, 8)\n",
    "insert(root, 1)\n",
    "insert(root, 6)\n",
    "insert(root, 4.5)"
   ]
  },
  {
   "cell_type": "code",
   "execution_count": 22,
   "metadata": {
    "collapsed": false,
    "deletable": true,
    "editable": true,
    "scrolled": true
   },
   "outputs": [
    {
     "name": "stdout",
     "output_type": "stream",
     "text": [
      "1\n",
      "3\n",
      "4.5\n",
      "6\n",
      "8\n",
      "5\n",
      "4\n"
     ]
    }
   ],
   "source": [
    "print_postorder(root)"
   ]
  },
  {
   "cell_type": "code",
   "execution_count": 27,
   "metadata": {
    "collapsed": false,
    "deletable": true,
    "editable": true
   },
   "outputs": [
    {
     "data": {
      "text/plain": [
       "True"
      ]
     },
     "execution_count": 27,
     "metadata": {},
     "output_type": "execute_result"
    }
   ],
   "source": [
    "search(root, 3)"
   ]
  },
  {
   "cell_type": "code",
   "execution_count": 16,
   "metadata": {
    "collapsed": false,
    "deletable": true,
    "editable": true
   },
   "outputs": [
    {
     "name": "stdout",
     "output_type": "stream",
     "text": [
      "False\n",
      "True\n",
      "True\n",
      "True\n",
      "True\n",
      "False\n",
      "False\n",
      "False\n",
      "False\n",
      "False\n"
     ]
    }
   ],
   "source": [
    "for i in range(10):\n",
    "    print(search(root, i))"
   ]
  },
  {
   "cell_type": "code",
   "execution_count": 8,
   "metadata": {
    "collapsed": false,
    "deletable": true,
    "editable": true
   },
   "outputs": [
    {
     "name": "stdout",
     "output_type": "stream",
     "text": [
      "2\n",
      "1\n",
      "4\n",
      "3\n"
     ]
    }
   ],
   "source": [
    "print_inorder(root)"
   ]
  },
  {
   "cell_type": "code",
   "execution_count": 10,
   "metadata": {
    "collapsed": false,
    "deletable": true,
    "editable": true
   },
   "outputs": [
    {
     "name": "stdout",
     "output_type": "stream",
     "text": [
      "1\n",
      "2\n",
      "3\n",
      "4\n"
     ]
    }
   ],
   "source": [
    "print_preorder(root)"
   ]
  },
  {
   "cell_type": "code",
   "execution_count": 11,
   "metadata": {
    "collapsed": false,
    "deletable": true,
    "editable": true
   },
   "outputs": [
    {
     "name": "stdout",
     "output_type": "stream",
     "text": [
      "2\n",
      "4\n",
      "3\n",
      "1\n"
     ]
    }
   ],
   "source": [
    "print_postorder(root)"
   ]
  },
  {
   "cell_type": "code",
   "execution_count": 6,
   "metadata": {
    "collapsed": false,
    "deletable": true,
    "editable": true
   },
   "outputs": [
    {
     "name": "stdout",
     "output_type": "stream",
     "text": [
      "2\n",
      "3\n"
     ]
    }
   ],
   "source": [
    "\n",
    "\n",
    "\n",
    "\n",
    "root = Node(1, None)\n",
    "node2 = Node(2, root)\n",
    "root.left = node2\n",
    "node3 = Node(3, root)\n",
    "root.right = node3\n",
    "node4 = Node(4, node3)\n",
    "node3.left = node4\n",
    "\n",
    "print(root.left.value)\n",
    "print(root.right.value)"
   ]
  }
 ],
 "metadata": {
  "kernelspec": {
   "display_name": "Python 3",
   "language": "python",
   "name": "python3"
  },
  "language_info": {
   "codemirror_mode": {
    "name": "ipython",
    "version": 3
   },
   "file_extension": ".py",
   "mimetype": "text/x-python",
   "name": "python",
   "nbconvert_exporter": "python",
   "pygments_lexer": "ipython3",
   "version": "3.5.2"
  }
 },
 "nbformat": 4,
 "nbformat_minor": 0
}
