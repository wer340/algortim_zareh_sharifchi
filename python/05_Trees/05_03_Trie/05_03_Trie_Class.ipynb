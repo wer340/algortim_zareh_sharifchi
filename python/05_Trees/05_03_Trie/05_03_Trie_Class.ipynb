{
 "cells": [
  {
   "cell_type": "markdown",
   "metadata": {},
   "source": [
    "<div style=\"direction:rtl;line-height:300%;\"><font face=\"B Nazanin\" size=5>\n",
    "<div style=\"direction:rtl;line-height:300%;\"><font face=\"B Nazanin\" size=5>\n",
    "<div align=center>\n",
    "<font face=\"IranNastaliq\" size=30>\n",
    "<p></p>\n",
    "به نام خدا\n",
    "</font>\n",
    "<br>\n",
    "<font color=#FF7500>\n",
    "دانشگاه صنعتی شریف - دانشکده مهندسی کامپیوتر\n",
    "</font>\n",
    "<br>\n",
    "<font color=blue>\n",
    "داده‌ساختارها و الگوریتم‌ها\n",
    "</font>\n",
    "<br>\n",
    "ترم دوم سال تحصیلی ۱۳۹۷-۱۳۹۶\n",
    "</div>\n",
    "<hr/>\n",
    "<font color=red size=6>\n",
    "<p></p>\n",
    "\n",
    "<div align=center>فصل پنجم - بخش سوم:  Trie</div>\n",
    "</font>\n",
    "<div align=center>\n",
    "رضا سلطانی، امیرکیوان محتشمی</div>\n",
    "<hr>\n",
    "</font></div>\n",
    "\n",
    "<p></p>\n",
    "سعی کنید مسأله‌ی زیر را با سریع‌ترین الگوریتم ممکن حل کنید.\n",
    "<p></p>\n",
    "<font color=#FF7500>\n",
    "مساله \n",
    "</font>\n",
    "<br>\n",
    "فرض کنید می‌خواهیم یک دیکشنری داشته باشیم که در سریعترین زمان ممکن با وارد کردن کلمه توسط کاربر نتیجه جست و جو را برای کاربر نشان بدهد. تعداد کلمات ذخیره شده در دیکشنری بسیار زیاد است و زمان جواب دادن برای هر سوال برایمان بسیار حیاتی است. \n",
    "<p></p>"
   ]
  },
  {
   "cell_type": "markdown",
   "metadata": {},
   "source": [
    "<div style=\"direction:rtl;line-height:300%;\"><font face=\"XB Zar\" size=5>\n",
    "<p></p>\n",
    "اگر مجموع طول رشته‌های ذخیره شده در دیکشنری $l_1$ و مجموع طول رشته‌های درخواست شده توسط کاربران $l_2$ باشد، طراحی الگوریتمی از $O(l_1l_2)$ راحت است. اما می‌توان این مسئله را با پیچیدگی زمانی بسیار بهتر حل کرد.\n",
    "<p></p>\n"
   ]
  },
  {
   "cell_type": "markdown",
   "metadata": {},
   "source": [
    "<div style=\"direction:rtl;line-height:300%;\"><font face=\"B Nazanin\" size=5>\n",
    "<font size=6>\n",
    "<p></p>\n",
    "بریم سر اصل مطلب!\n",
    "<p></p>\n",
    "</font>\n",
    "<p></p>\n",
    "داده‌ساختار درخت پیشوندی یا Trie، درختی ریشه‌دار است  که در ابتدا فقط یک راس دارد که نشان‌گر رشته‌ی تهی است و از آن به عنوان داده‌ساختاری برای ذخیره‌ی رشته‌ها استفاده می‌شود.\n",
    "دو عمل افزودن یک رشته(Insert) و بررسی وجود یک رشته(Find)به شکل زیر در این داده‌ساختار انجام می‌شود.\n",
    "<p></p>\n",
    "\n"
   ]
  },
  {
   "cell_type": "markdown",
   "metadata": {},
   "source": [
    " <div style=\"direction:rtl;line-height:300%;\"><font face=\"B Nazanin\" size=5>\n",
    "<font size=6>\n",
    "<p></p>\n",
    "<font color=#FF7500>\n",
    "<div>\n",
    "Insert\n",
    "</div>\n",
    "</font>\n",
    "</font>\n",
    "<p></p>\n",
    "فرض کنید می‌خواهیم رشته‌ی S را به داده‌ساختار اضافه کنیم. از ریشه‌ی درخت شروع می‌کنیم؛ اگر یالی از آن به یکی از فرزندانش وجود داشت که روی آن یال، حرف اول رشته‌ی‌ S نوشته شده بود به آن فرزند می‌رویم. در غیر این صورت یک راس جدید ساخته، آن را با یک یال به ریشه متصل می‌کنیم و روی این یال جدید حرف اول S را مینویسیم و سپس به راس جدید می‌رویم. در هر دو حالت، حرف اول S را در نظر نگرفته و همین عملیات را انجام می‌دهیم انگار که بخواهیم رشته‌ی شامل حروف دوم تا آخر S را در یک Trie به ریشه‌ی راسی که به آن رفته‌ایم اضافه کنیم. این‌کار را تا زمانی که S خالی شود ادامه می‌دهیم. در صورتی که S خالی باشد، صرفا راس فعلی را علامت می‌زنیم. از این علامت در قسمت Find استفاده خواهیم کرد. \n",
    "<p></p>\n",
    "فرض کنید بخواهیم رشته‌های b،‌ ab، aa، aaba و aab را به‌ترتیب در داده‌ساختار اضافه کنیم. شکل زیر مراحل این‌کار را نشان می‌دهد. رأس فعلی با رنگ سبز و رئوس علامت زده شده با رنگ آبی نشان داده شده‌اند.\n",
    "<p></p>"
   ]
  },
  {
   "cell_type": "markdown",
   "metadata": {},
   "source": [
    "<img src=\"src/images/DS_94_06_insert.gif\" />"
   ]
  },
  {
   "cell_type": "code",
   "execution_count": 17,
   "metadata": {
    "collapsed": true
   },
   "outputs": [],
   "source": [
    "class Node:\n",
    "    def __init__(self):\n",
    "        self.mark = False\n",
    "        self.edges = [None] * 26 # A list of Edges exiting from this node"
   ]
  },
  {
   "cell_type": "code",
   "execution_count": 24,
   "metadata": {
    "collapsed": true
   },
   "outputs": [],
   "source": [
    "def trie_insert(node, string, idx = 0): \n",
    "    if idx == len(string): \n",
    "        node.mark = True # marking the node\n",
    "        return \n",
    "    e = ord(string[idx])-ord('a')\n",
    "    if node.edges[e] is None:\n",
    "        node.edges[e] = Node()\n",
    "    trie_insert(node.edges[e], string, idx+1)\n",
    "\n",
    "def trie_search(node, string, idx = 0):\n",
    "    if idx == len(string):\n",
    "        return node.mark\n",
    "    e = ord(string[idx])-ord('a')\n",
    "    if node.edges[e] is None:\n",
    "        return False\n",
    "    return trie_search(node.edges[e], string, idx+1)\n",
    "\n",
    "def trie_delete(node, string, idx = 0):\n",
    "    if idx == len(string):\n",
    "        if node.mark is False:\n",
    "            raise Exception(\"Item not found\")\n",
    "        node.mark = False\n",
    "        return\n",
    "    e = ord(string[idx])-ord('a')\n",
    "    if node.edges[e] is None:\n",
    "        raise Exception(\"Item not found\")\n",
    "    trie_delete(node.edges[e], string, idx+1)"
   ]
  },
  {
   "cell_type": "code",
   "execution_count": 26,
   "metadata": {},
   "outputs": [
    {
     "name": "stdout",
     "output_type": "stream",
     "text": [
      "True\n",
      "False\n",
      "True\n",
      "False\n"
     ]
    },
    {
     "ename": "Exception",
     "evalue": "Item not found",
     "output_type": "error",
     "traceback": [
      "\u001b[0;31m---------------------------------------------------------------------------\u001b[0m",
      "\u001b[0;31mException\u001b[0m                                 Traceback (most recent call last)",
      "\u001b[0;32m<ipython-input-26-902de970fe73>\u001b[0m in \u001b[0;36m<module>\u001b[0;34m()\u001b[0m\n\u001b[1;32m      8\u001b[0m \u001b[0mtrie_delete\u001b[0m\u001b[0;34m(\u001b[0m\u001b[0mroot\u001b[0m\u001b[0;34m,\u001b[0m \u001b[0;34m\"hello\"\u001b[0m\u001b[0;34m)\u001b[0m\u001b[0;34m\u001b[0m\u001b[0m\n\u001b[1;32m      9\u001b[0m \u001b[0;32mprint\u001b[0m\u001b[0;34m(\u001b[0m\u001b[0mtrie_search\u001b[0m\u001b[0;34m(\u001b[0m\u001b[0mroot\u001b[0m\u001b[0;34m,\u001b[0m \u001b[0;34m\"hello\"\u001b[0m\u001b[0;34m)\u001b[0m\u001b[0;34m)\u001b[0m\u001b[0;34m\u001b[0m\u001b[0m\n\u001b[0;32m---> 10\u001b[0;31m \u001b[0mtrie_delete\u001b[0m\u001b[0;34m(\u001b[0m\u001b[0mroot\u001b[0m\u001b[0;34m,\u001b[0m \u001b[0;34m\"hello\"\u001b[0m\u001b[0;34m)\u001b[0m\u001b[0;34m\u001b[0m\u001b[0m\n\u001b[0m",
      "\u001b[0;32m<ipython-input-24-2005c1a67cc1>\u001b[0m in \u001b[0;36mtrie_delete\u001b[0;34m(node, string, idx)\u001b[0m\n\u001b[1;32m     25\u001b[0m     \u001b[0;32mif\u001b[0m \u001b[0mnode\u001b[0m\u001b[0;34m.\u001b[0m\u001b[0medges\u001b[0m\u001b[0;34m[\u001b[0m\u001b[0me\u001b[0m\u001b[0;34m]\u001b[0m \u001b[0;32mis\u001b[0m \u001b[0mNone\u001b[0m\u001b[0;34m:\u001b[0m\u001b[0;34m\u001b[0m\u001b[0m\n\u001b[1;32m     26\u001b[0m         \u001b[0;32mraise\u001b[0m \u001b[0mException\u001b[0m\u001b[0;34m(\u001b[0m\u001b[0;34m\"Item not found\"\u001b[0m\u001b[0;34m)\u001b[0m\u001b[0;34m\u001b[0m\u001b[0m\n\u001b[0;32m---> 27\u001b[0;31m     \u001b[0mtrie_delete\u001b[0m\u001b[0;34m(\u001b[0m\u001b[0mnode\u001b[0m\u001b[0;34m.\u001b[0m\u001b[0medges\u001b[0m\u001b[0;34m[\u001b[0m\u001b[0me\u001b[0m\u001b[0;34m]\u001b[0m\u001b[0;34m,\u001b[0m \u001b[0mstring\u001b[0m\u001b[0;34m,\u001b[0m \u001b[0midx\u001b[0m\u001b[0;34m+\u001b[0m\u001b[0;36m1\u001b[0m\u001b[0;34m)\u001b[0m\u001b[0;34m\u001b[0m\u001b[0m\n\u001b[0m",
      "\u001b[0;32m<ipython-input-24-2005c1a67cc1>\u001b[0m in \u001b[0;36mtrie_delete\u001b[0;34m(node, string, idx)\u001b[0m\n\u001b[1;32m     25\u001b[0m     \u001b[0;32mif\u001b[0m \u001b[0mnode\u001b[0m\u001b[0;34m.\u001b[0m\u001b[0medges\u001b[0m\u001b[0;34m[\u001b[0m\u001b[0me\u001b[0m\u001b[0;34m]\u001b[0m \u001b[0;32mis\u001b[0m \u001b[0mNone\u001b[0m\u001b[0;34m:\u001b[0m\u001b[0;34m\u001b[0m\u001b[0m\n\u001b[1;32m     26\u001b[0m         \u001b[0;32mraise\u001b[0m \u001b[0mException\u001b[0m\u001b[0;34m(\u001b[0m\u001b[0;34m\"Item not found\"\u001b[0m\u001b[0;34m)\u001b[0m\u001b[0;34m\u001b[0m\u001b[0m\n\u001b[0;32m---> 27\u001b[0;31m     \u001b[0mtrie_delete\u001b[0m\u001b[0;34m(\u001b[0m\u001b[0mnode\u001b[0m\u001b[0;34m.\u001b[0m\u001b[0medges\u001b[0m\u001b[0;34m[\u001b[0m\u001b[0me\u001b[0m\u001b[0;34m]\u001b[0m\u001b[0;34m,\u001b[0m \u001b[0mstring\u001b[0m\u001b[0;34m,\u001b[0m \u001b[0midx\u001b[0m\u001b[0;34m+\u001b[0m\u001b[0;36m1\u001b[0m\u001b[0;34m)\u001b[0m\u001b[0;34m\u001b[0m\u001b[0m\n\u001b[0m",
      "\u001b[0;32m<ipython-input-24-2005c1a67cc1>\u001b[0m in \u001b[0;36mtrie_delete\u001b[0;34m(node, string, idx)\u001b[0m\n\u001b[1;32m     25\u001b[0m     \u001b[0;32mif\u001b[0m \u001b[0mnode\u001b[0m\u001b[0;34m.\u001b[0m\u001b[0medges\u001b[0m\u001b[0;34m[\u001b[0m\u001b[0me\u001b[0m\u001b[0;34m]\u001b[0m \u001b[0;32mis\u001b[0m \u001b[0mNone\u001b[0m\u001b[0;34m:\u001b[0m\u001b[0;34m\u001b[0m\u001b[0m\n\u001b[1;32m     26\u001b[0m         \u001b[0;32mraise\u001b[0m \u001b[0mException\u001b[0m\u001b[0;34m(\u001b[0m\u001b[0;34m\"Item not found\"\u001b[0m\u001b[0;34m)\u001b[0m\u001b[0;34m\u001b[0m\u001b[0m\n\u001b[0;32m---> 27\u001b[0;31m     \u001b[0mtrie_delete\u001b[0m\u001b[0;34m(\u001b[0m\u001b[0mnode\u001b[0m\u001b[0;34m.\u001b[0m\u001b[0medges\u001b[0m\u001b[0;34m[\u001b[0m\u001b[0me\u001b[0m\u001b[0;34m]\u001b[0m\u001b[0;34m,\u001b[0m \u001b[0mstring\u001b[0m\u001b[0;34m,\u001b[0m \u001b[0midx\u001b[0m\u001b[0;34m+\u001b[0m\u001b[0;36m1\u001b[0m\u001b[0;34m)\u001b[0m\u001b[0;34m\u001b[0m\u001b[0m\n\u001b[0m",
      "\u001b[0;32m<ipython-input-24-2005c1a67cc1>\u001b[0m in \u001b[0;36mtrie_delete\u001b[0;34m(node, string, idx)\u001b[0m\n\u001b[1;32m     25\u001b[0m     \u001b[0;32mif\u001b[0m \u001b[0mnode\u001b[0m\u001b[0;34m.\u001b[0m\u001b[0medges\u001b[0m\u001b[0;34m[\u001b[0m\u001b[0me\u001b[0m\u001b[0;34m]\u001b[0m \u001b[0;32mis\u001b[0m \u001b[0mNone\u001b[0m\u001b[0;34m:\u001b[0m\u001b[0;34m\u001b[0m\u001b[0m\n\u001b[1;32m     26\u001b[0m         \u001b[0;32mraise\u001b[0m \u001b[0mException\u001b[0m\u001b[0;34m(\u001b[0m\u001b[0;34m\"Item not found\"\u001b[0m\u001b[0;34m)\u001b[0m\u001b[0;34m\u001b[0m\u001b[0m\n\u001b[0;32m---> 27\u001b[0;31m     \u001b[0mtrie_delete\u001b[0m\u001b[0;34m(\u001b[0m\u001b[0mnode\u001b[0m\u001b[0;34m.\u001b[0m\u001b[0medges\u001b[0m\u001b[0;34m[\u001b[0m\u001b[0me\u001b[0m\u001b[0;34m]\u001b[0m\u001b[0;34m,\u001b[0m \u001b[0mstring\u001b[0m\u001b[0;34m,\u001b[0m \u001b[0midx\u001b[0m\u001b[0;34m+\u001b[0m\u001b[0;36m1\u001b[0m\u001b[0;34m)\u001b[0m\u001b[0;34m\u001b[0m\u001b[0m\n\u001b[0m",
      "\u001b[0;32m<ipython-input-24-2005c1a67cc1>\u001b[0m in \u001b[0;36mtrie_delete\u001b[0;34m(node, string, idx)\u001b[0m\n\u001b[1;32m     25\u001b[0m     \u001b[0;32mif\u001b[0m \u001b[0mnode\u001b[0m\u001b[0;34m.\u001b[0m\u001b[0medges\u001b[0m\u001b[0;34m[\u001b[0m\u001b[0me\u001b[0m\u001b[0;34m]\u001b[0m \u001b[0;32mis\u001b[0m \u001b[0mNone\u001b[0m\u001b[0;34m:\u001b[0m\u001b[0;34m\u001b[0m\u001b[0m\n\u001b[1;32m     26\u001b[0m         \u001b[0;32mraise\u001b[0m \u001b[0mException\u001b[0m\u001b[0;34m(\u001b[0m\u001b[0;34m\"Item not found\"\u001b[0m\u001b[0;34m)\u001b[0m\u001b[0;34m\u001b[0m\u001b[0m\n\u001b[0;32m---> 27\u001b[0;31m     \u001b[0mtrie_delete\u001b[0m\u001b[0;34m(\u001b[0m\u001b[0mnode\u001b[0m\u001b[0;34m.\u001b[0m\u001b[0medges\u001b[0m\u001b[0;34m[\u001b[0m\u001b[0me\u001b[0m\u001b[0;34m]\u001b[0m\u001b[0;34m,\u001b[0m \u001b[0mstring\u001b[0m\u001b[0;34m,\u001b[0m \u001b[0midx\u001b[0m\u001b[0;34m+\u001b[0m\u001b[0;36m1\u001b[0m\u001b[0;34m)\u001b[0m\u001b[0;34m\u001b[0m\u001b[0m\n\u001b[0m",
      "\u001b[0;32m<ipython-input-24-2005c1a67cc1>\u001b[0m in \u001b[0;36mtrie_delete\u001b[0;34m(node, string, idx)\u001b[0m\n\u001b[1;32m     19\u001b[0m     \u001b[0;32mif\u001b[0m \u001b[0midx\u001b[0m \u001b[0;34m==\u001b[0m \u001b[0mlen\u001b[0m\u001b[0;34m(\u001b[0m\u001b[0mstring\u001b[0m\u001b[0;34m)\u001b[0m\u001b[0;34m:\u001b[0m\u001b[0;34m\u001b[0m\u001b[0m\n\u001b[1;32m     20\u001b[0m         \u001b[0;32mif\u001b[0m \u001b[0mnode\u001b[0m\u001b[0;34m.\u001b[0m\u001b[0mmark\u001b[0m \u001b[0;32mis\u001b[0m \u001b[0mFalse\u001b[0m\u001b[0;34m:\u001b[0m\u001b[0;34m\u001b[0m\u001b[0m\n\u001b[0;32m---> 21\u001b[0;31m             \u001b[0;32mraise\u001b[0m \u001b[0mException\u001b[0m\u001b[0;34m(\u001b[0m\u001b[0;34m\"Item not found\"\u001b[0m\u001b[0;34m)\u001b[0m\u001b[0;34m\u001b[0m\u001b[0m\n\u001b[0m\u001b[1;32m     22\u001b[0m         \u001b[0mnode\u001b[0m\u001b[0;34m.\u001b[0m\u001b[0mmark\u001b[0m \u001b[0;34m=\u001b[0m \u001b[0mFalse\u001b[0m\u001b[0;34m\u001b[0m\u001b[0m\n\u001b[1;32m     23\u001b[0m         \u001b[0;32mreturn\u001b[0m\u001b[0;34m\u001b[0m\u001b[0m\n",
      "\u001b[0;31mException\u001b[0m: Item not found"
     ]
    }
   ],
   "source": [
    "root = Node()\n",
    "trie_insert(root, \"hello\")\n",
    "trie_insert(root, \"how\")\n",
    "trie_insert(root, \"what\")\n",
    "print(trie_search(root, \"how\"))\n",
    "print(trie_search(root, \"hell\"))\n",
    "print(trie_search(root, \"hello\"))\n",
    "trie_delete(root, \"hello\")\n",
    "print(trie_search(root, \"hello\"))\n",
    "trie_delete(root, \"hello\")"
   ]
  },
  {
   "cell_type": "markdown",
   "metadata": {},
   "source": [
    "<div style=\"direction:rtl;line-height:300%;\"><font face=\"B Nazanin\" size=5>\n",
    "<font size=6>\n",
    "<p></p>\n",
    "<font color=#FF7500>\n",
    "<div>\n",
    "Find\n",
    "</div>\n",
    "</font>\n",
    "</font>\n",
    "<p></p>\n",
    "مانند عملیات Insert عمل می‌کنیم با این تفاوت که در صورتی که یال مورد نظر پیدا نشد، به جای ساختن راس جدید عدم وجود رشته در داده‌ساختار را گزارش می‌دهیم. در صورتی که به راسی برسیم و S تهی شود، اگر آن راس علامت خورده بود، یعنی رشته‌ی ما در داده‌ساختار وجود دارد(چرا؟) و در غیر این صورت، رشته در داده‌ساختار وجود ندارد.\n",
    "<p></p>\n",
    "شکل زیر مراحل پیدا کردن برخی از رشته‌ها را در داده‌ساختاری که در قسمت مثال Insert ساختیم نشان می‌دهد.\n",
    "<p></p>"
   ]
  },
  {
   "cell_type": "markdown",
   "metadata": {},
   "source": [
    "<img src=\"src/images/DS_94_06_find.gif\" />"
   ]
  },
  {
   "cell_type": "code",
   "execution_count": 3,
   "metadata": {
    "collapsed": true
   },
   "outputs": [],
   "source": [
    "def trie_find(node, string, idx = 0):\n",
    "        if idx == len(string):\n",
    "            return node.mark\n",
    "        found = False\n",
    "        for edge in node.edges:\n",
    "            if edge.label == string[idx]:\n",
    "                found = True\n",
    "                return trie_find(edge.end, string, idx + 1)\n",
    "        if not found:\n",
    "            return False"
   ]
  },
  {
   "cell_type": "code",
   "execution_count": 4,
   "metadata": {},
   "outputs": [
    {
     "name": "stdout",
     "output_type": "stream",
     "text": [
      "True\n",
      "False\n",
      "False\n",
      "False\n",
      "True\n",
      "True\n",
      "True\n",
      "False\n"
     ]
    }
   ],
   "source": [
    "class Trie:\n",
    "    \n",
    "    def __init__(self):\n",
    "        self.root = Node()\n",
    "        \n",
    "    def insert(self, string):\n",
    "        trie_insert(self.root, string, 0)\n",
    "    \n",
    "    def find(self, string):\n",
    "        return trie_find(self.root, string, 0)\n",
    "    \n",
    "trie = Trie()\n",
    "shahrzad_strings = ['b', 'ab', 'aa', 'aaba', 'aab']\n",
    "farhad_strings = ['aaba', 'aac', 'c', 'a', 'aab', 'ab', 'b', 'ba']\n",
    "\n",
    "for string in shahrzad_strings:\n",
    "    trie.insert(string)\n",
    "    \n",
    "for string in farhad_strings:\n",
    "    print trie.find(string)"
   ]
  },
  {
   "cell_type": "markdown",
   "metadata": {},
   "source": [
    "<div style=\"direction:rtl;line-height:300%;\"><font face=\"B Nazanin\" size=5>\n",
    "<font size=6>\n",
    "<p></p>\n",
    "<font color=#FF7500>\n",
    "<div>\n",
    "چند سوال\n",
    "</div>\n",
    "</font>\n",
    "</font>\n",
    "<p></p>\n",
    "۱- پیچیدگی زمانی هر یک از عملیات‌های Insert و Find چقدر است؟ \n",
    "<br />\n",
    "۲- تعداد یال‌ها و تعداد رئوس Trie چقدر است؟ پیچیدگی حافظه‌ی مصرف شده چقدر است؟\n",
    "<br />۴-$v$ از یک لیست به طول $26$ استفاده کنیم. اگر در $i$ امین خانه از این لیست شماره‌ی راس $x$ نوشته شده باشد یالی از $v$ به $x$ وجود دارد که روی آن حرف $i$ م الفبای انگلیسی نوشته شده است. در این صورت چه تفاوتی در زمان اجرا و حافظه‌ی داده‌ساختار ایجاد می‌شود؟"
   ]
  },
  {
   "cell_type": "markdown",
   "metadata": {},
   "source": [
    "<div style=\"direction:rtl;line-height:300%;\"><font face=\"B Nazanin\" size=5>\n",
    "<font size=6>\n",
    "<p></p>\n",
    "<font color=#FF7500>\n",
    "<div>\n",
    "مثالی دیگر\n",
    "</div>\n",
    "</font>\n",
    "</font>\n",
    "<p></p>\n",
    "فرض کنید دیکشنری می‌خواهد علاوه بر جواب دادن به سوال پرس‌و‌جو برای کاربر به کاربر جواب بدهد که آیا رشته وارد شده در دیکشنری آیا پیشوند کلمه ای در دیکشنری است یا نه؟"
   ]
  },
  {
   "cell_type": "markdown",
   "metadata": {},
   "source": [
    "<div style=\"direction:rtl;line-height:300%;\"><font face=\"B Nazanin\" size=5>\n",
    "<font size=6>\n",
    "<p></p>\n",
    "<font color=#FF7500>\n",
    "<div>\n",
    "پاسخی دیگر(!)\n",
    "</div>\n",
    "</font>\n",
    "</font>\n",
    "<p></p>\n",
    "در حل بسیاری از مسائل که با استفاده از داده‌ساختار Trie حل می‌شوند لازم است مقداری عملیات‌ها را تغییر دهیم تا با خواسته‌ی ما سازگار شوند. برای مثال با تغییری اندک در راه‌حل مسأله‌ی قبل(که پیاده‌سازی استاندارد این داده‌ساختار بود) می‌توانیم این مسأله را حل کنیم.\n",
    "<br>\n",
    "در تابع insert، فقط زمانی راس را علامت می‌زدیم که رشته تهی باشد و به عبارت دیگر به آخرین راس رسیده باشیم. برای حل این مساله تنها کافی است تمامی رئوس مسیر را علامت بزنیم.\n",
    "<p></p>\n"
   ]
  },
  {
   "cell_type": "code",
   "execution_count": 5,
   "metadata": {},
   "outputs": [
    {
     "name": "stdout",
     "output_type": "stream",
     "text": [
      "True\n",
      "False\n",
      "False\n",
      "True\n",
      "True\n",
      "True\n",
      "True\n",
      "False\n"
     ]
    }
   ],
   "source": [
    "def trie_insert_mark_all(node, string, idx):      \n",
    "    node.mark = True\n",
    "    if idx == len(string): \n",
    "        return \n",
    "    found = False\n",
    "    for edge in node.edges:\n",
    "        if edge.label == string[idx]:\n",
    "            found = True\n",
    "            trie_insert_mark_all(edge.end, string, idx + 1) # increasing idx to proceed to the next character\n",
    "    if not found:\n",
    "        new_node = Node()\n",
    "        node.edges.append(Edge(node, new_node, string[idx]))\n",
    "        trie_insert_mark_all(new_node, string, idx + 1) # increasing idx to proceed to the next character\n",
    "\n",
    "Trie.insert = lambda self, string: trie_insert_mark_all(self.root, string, 0) # Replacing the insert method\n",
    "\n",
    "trie = Trie()\n",
    "shahrzad_strings = ['b', 'ab', 'aa', 'aaba', 'aab']\n",
    "farhad_strings = ['aaba', 'aac', 'c', 'a', 'aab', 'ab', 'b', 'ba']\n",
    "\n",
    "for string in shahrzad_strings:\n",
    "    trie.insert(string)\n",
    "    \n",
    "for string in farhad_strings:\n",
    "    print trie.find(string)"
   ]
  },
  {
   "cell_type": "markdown",
   "metadata": {},
   "source": [
    "<div style=\"direction:rtl;line-height:300%;\"><font face=\"B Nazanin\" size=5>\n",
    "<font size=6>\n",
    "<p></p>\n",
    "<font color=#FF7500>\n",
    "<div>\n",
    "مثالی دیگر\n",
    "</div>\n",
    "</font>\n",
    "</font>\n",
    "<p></p>\n",
    "فرض کنید یک آرایه داریم که هر عنصر آن یک عدد حداکثر ۳۰ بیتی است. می خواهیم به ازای هر عدد، عددی دیگر در آرایه پیدا کنیم که xor آن با عدد مورد نظر ماکسیمم شود."
   ]
  },
  {
   "cell_type": "markdown",
   "metadata": {},
   "source": [
    "<div style=\"direction:rtl;line-height:300%;\"><font face=\"B Nazanin\" size=5>\n",
    "<font size=6>\n",
    "<p></p>\n",
    "<font color=#FF7500>\n",
    "<div>\n",
    "پاسخ\n",
    "</div>\n",
    "</font>\n",
    "</font>\n",
    "<p></p>\n",
    "ابتدا تمام اعداد را با اضافه کردن صفر به سمت چپ آن دقیقا ۳۰ بیتی می کنیم. سپس تمام اعداد را از سمت بیت پر ارزش یعنی سمت چپ درون داده ساختار Trie اضافه می کنیم. حال به ازای عددی مانند x که به دنبال عددی با ماکسیمم فاصله با آن هستیم، در داده ساختارمان به دنبال نقیض آن می گردیم به این صورت که ابتدا پر ارزش ترین رقم را نگاه می کنیم، اگر صفر بود سعی می کنیم در Trie بر روی یال یک حرکت کنیم و اگر یک بود بر روی یال صفر حرکت کنیم و اگر فقط یک یال از آن خارج شده بود بر روی آن حرکت می کنیم. این روند را تا آخرین رقم ادامه می دهیم تا عددی که ماکسیمم فاصله را دارد پیدا کنیم.\n",
    "<br/>\n",
    "پرسش: چرا عددی که از روش بالا به دست می آید ماکسیمم xor را با عدد مورد نظر می سازد؟\n",
    "<br/>\n",
    "پرسش: زمان اجرای الگوریتم را تحلیل کنید."
   ]
  },
  {
   "cell_type": "code",
   "execution_count": null,
   "metadata": {
    "collapsed": true
   },
   "outputs": [],
   "source": []
  }
 ],
 "metadata": {
  "kernelspec": {
   "display_name": "Python 3",
   "language": "python",
   "name": "python3"
  },
  "language_info": {
   "codemirror_mode": {
    "name": "ipython",
    "version": 2
   },
   "file_extension": ".py",
   "mimetype": "text/x-python",
   "name": "python",
   "nbconvert_exporter": "python",
   "pygments_lexer": "ipython2",
   "version": "2.7.10"
  }
 },
 "nbformat": 4,
 "nbformat_minor": 1
}
