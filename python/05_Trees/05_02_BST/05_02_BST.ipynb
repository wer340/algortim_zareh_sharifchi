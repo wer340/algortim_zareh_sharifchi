{
 "cells": [
  {
   "cell_type": "markdown",
   "metadata": {},
   "source": [
    "<div style=\"direction:rtl;line-height:300%;\"><font face=\"XB Zar\" size=5>\n",
    "<div style=\"direction:rtl;line-height:300%;\"><font face=\"XB Zar\" size=5>\n",
    "<div align=center>\n",
    "<font face=\"IranNastaliq\" size=30>\n",
    "<p></p>\n",
    "به نام خدا\n",
    "</font>\n",
    "<br>\n",
    "<font color=#FF7500>\n",
    "دانشگاه صنعتی شریف - دانشکده مهندسی کامپیوتر\n",
    "</font>\n",
    "<br>\n",
    "<font color=blue>\n",
    "داده‌ساختارها و الگوریتم‌ها\n",
    "</font>\n",
    "<br>\n",
    "ترم دوم سال تحصیلی ۱۳۹۸-۱۳۹۷\n",
    "</div>\n",
    "<hr/>\n",
    "<font color=red size=6>\n",
    "<p></p>\n",
    "\n",
    "<div align=center>فصل پنجم، بخش دوم: درخت دودویی جست‌وجو</div>\n",
    "</font>\n",
    "<div align=center>\n",
    "آرش پوردامغانی، یاشار دبیران، فاطمه علی‌پور و علی شریفی</div>\n",
    "<hr>\n",
    "</font></div>\n",
    "<div>\n",
    "<h3> فهرست محتویات</h3>\n",
    "<ul style=\"margin-right: 0;\">\n",
    "<div>\n",
    "<h3> فهرست محتویات</h3>\n",
    "<ul style=\"margin-right: 0;\">\n",
    "<li><a href=\"#intro\">مقدمه</a></li>\n",
    "<li><a href=\"#search\">جستجو</a></li>\n",
    "<li><a href=\"#insert\">درج</a></li>\n",
    "<li><a href=\"#delete\">حذف</a></li>\n",
    "<li><a href=\"#height\">میانگین ارتفاع درخت جست‌وجو</a></li>\n",
    "<li><a href=\"#lca\">پایین‌ترین جد مشترک</a></li>\n",
    "</ul>\n",
    "</div>\n",
    "</ul>\n",
    "</div>"
   ]
  },
  {
   "cell_type": "markdown",
   "metadata": {},
   "source": [
    "<div style=\"direction:rtl;line-height:300%;\"><font face=\"B Nazanin\" size=5>\n",
    "<font id=\"intro\" size=5><h1>\n",
    "مقدمه\n",
    "</h1>\n",
    "<p></p>\n",
    "</font>\n",
    "<font color=#595959 size=5>\n",
    "درخت دودویی جست‌وجو ( به انگلیسی: Binary Search Tree یا به اختصار د.د.ج) درختی ریشه‌دار و دودویی است که به ازای هر راس مانند v، مقادیر تمامی راس های زیر درخت بچه‌ی سمت چپ آن از مقدار راس v کوچک‌تر و مقادیر تمامی راس‌های زیردرخت بچه‌ی سمت راستش از v بزرگ‌تر است.  \n",
    "<br>\n",
    "<img src=\"src/images/2.jpg\" style=\"float:center; width:40%\">\n",
    "<br>\n",
    "<p></p>\n",
    "هر راس درون د.د.ج  دارای یک برچسب، اشاره‌گر به بچه چپ، اشاره‌گر به بچه راست و اشاره‌گر به پدرش است.\n",
    "<br>\n",
    "به غیر از راس ریشه، بقیه راس‌ها حتما پدر خواهند داشت.\n",
    "</font>"
   ]
  },
  {
   "cell_type": "code",
   "execution_count": 2,
   "metadata": {
    "collapsed": true
   },
   "outputs": [],
   "source": [
    "class Node:\n",
    "    def __init__(self, label, parent):\n",
    "        self.label = label\n",
    "        self.parent = parent\n",
    "        self.leftChild = None\n",
    "        self.rightChild = None\n",
    "        \n",
    "    def __str__(self): # Returns the path from root to node\n",
    "        if self.parent:\n",
    "            return str(self.parent) + \" \" + str(self.label)\n",
    "        else:\n",
    "            return str(self.label)"
   ]
  },
  {
   "cell_type": "markdown",
   "metadata": {},
   "source": [
    "<div style=\"direction:rtl;line-height:300%;\"><font face=\"B Nazanin\" size=5>\n",
    "برای کار با این ساختمان داده، ۳ عمل متصور هستیم:\n",
    "<ul>\n",
    "    <li> جستجو </li>\n",
    "    <li> درج </li>\n",
    "    <li> حذف </li>\n",
    "</ul>\n",
    "(می‌توانید در <a href=\"https://visualgo.net/bst\">این ‌جا</a> عملیات‌های گفته شده را به صورت تعاملی مشاهده کنید.)\n",
    "<p></p>\n",
    "<br>\n",
    "<div style=\"direction:rtl;line-height:300%;\"><font face=\"B Nazanin\" size=5>\n",
    "<font color=#ff6600 size=6>\n",
    "<div id=\"search\"><h1>\n",
    "جستجو\n",
    "</h1></div>\n",
    "</font>\n",
    "<p></p>\n",
    "    <div style=\"direction:rtl\">\n",
    "    برای جست‌وجو یک عنصر در د.د.ج، با شروع از ریشه، به ازای هر راسی که درون آن هستیم، مقداری که می‌خواهیم پیدا کنیم را با مقدار راس فعلی مقایسه می‌کنیم. در صورت مساوی بودن، عنصر مورد نظر را پیدا کرده‌ایم اما در غیر این صورت بسته به بزرگ‌تر یا کوچک‌تر بودن مقدار عنصر مورد نظر ما از برچسب راسی که داخلش هستیم، جست‌وجو را در زیردرخت سمت راست یا چپ این راس ادامه می‌دهیم.\n",
    "    </div>\n",
    "<br>\n",
    "<img src=\"src/images/find-animation.gif\" style=\"float:center; width:50%\">"
   ]
  },
  {
   "cell_type": "code",
   "execution_count": 3,
   "metadata": {
    "collapsed": true
   },
   "outputs": [],
   "source": [
    "def search(node, label):\n",
    "    if node is None or node.label == label:\n",
    "        return node\n",
    "    elif node.label > label:\n",
    "        return search(node.leftChild, label)\n",
    "    else:\n",
    "        return search(node.rightChild, label)"
   ]
  },
  {
   "cell_type": "markdown",
   "metadata": {},
   "source": [
    "<div style=\"direction:rtl;line-height:300%;\"><font face=\"B Nazanin\" size=5>\n",
    "در صورتی که جست‌وجو موفقیت آمیز باشد، تابع به ما راس با مقدار مورد نظر را برمی‌گرداند اما در صورتی که جست‌وجو موفقیت آمیز نباشد، None برگردانده می‌شود.\n",
    "<p></p>\n",
    "<br>\n",
    "اگر از ریشه شروع کنیم و به سمت بچه‌ی چپ هر راس حرکت کنیم تا به راسی مانند v برسیم که بچه‌ی چپ نداشته باشد، راس v مقدار <b>کمینه</b> را در بین راس‌های د.د.ج خواهد داشت.\n",
    "<br>\n",
    "به طور مشابه اگر به جای حرکت به سمت بچه‌ی چپ، به سمت بچه‌ی راست حرکت کنیم راس <b>بیشینه</b> را خواهیم‌داشت."
   ]
  },
  {
   "cell_type": "code",
   "execution_count": 4,
   "metadata": {
    "collapsed": true
   },
   "outputs": [],
   "source": [
    "def findMin(node):\n",
    "    if node.leftChild is None:\n",
    "        return node\n",
    "    else:\n",
    "        return findMin(node.leftChild)\n",
    "    \n",
    "\n",
    "def findMax(node):\n",
    "    if node.rightChild is None:\n",
    "        return node\n",
    "    else:\n",
    "        return findMax(node.rightChild)"
   ]
  },
  {
   "cell_type": "markdown",
   "metadata": {},
   "source": [
    "<p></p>\n",
    "<br>\n",
    "<div style=\"direction:rtl;line-height:300%;\"><font face=\"B Nazanin\" size=5>\n",
    "<font color=#ff6600 size=6>\n",
    "<div id=\"insert\"><h1>\n",
    "درج\n",
    "</h1></div>\n",
    "</font>\n",
    "<p></p>\n",
    "\n",
    "<hr>\n",
    "برای درج یک عنصر، رویه بازگشتی زیر را در نظر می‌گیریم:\n",
    "<br>\n",
    "با شروع از ریشه، راس v که در حال حاضر در آن هستیم را در نظر می‌گیریم. مقداری که می‌خواهیم درج کنیم را با برچسب راس v مقایسه می‌کنیم. اگر از برچسب راس v کوچک‌تر بود، پس جایش در زیردرخت سمت چپ v است و اگر مقدارش از برچسب راس v بزرگ‌تر بود، جایش در زیردرخت سمت راست v است. بسته به این مقایسه، به یکی از بچه‌های چپ و راست v می‌رویم و کار را ادامه می‌دهیم. این کار وقتی پایان می‌یابد که v مساوی None شود. به طور مثال فرض کنید باید به زیردرخت بچه سمت راست v برویم ولی v بچه‌ی سمت راست ندارد، در این صورت یک راس با مقدار مورد نظرمان ایجاد می‌کنیم و آن را بچه‌ی سمت راست v قرار می‌دهیم.\n",
    "<br>\n",
    "<img src=\"src/images/insertion-animation.gif\" style=\"float:center; width:50%\">"
   ]
  },
  {
   "cell_type": "code",
   "execution_count": 5,
   "metadata": {
    "collapsed": true
   },
   "outputs": [],
   "source": [
    "def insert(node, value):\n",
    "    if (value < node.label):\n",
    "        if (node.leftChild != None):\n",
    "            insert(node.leftChild, value)\n",
    "        else:\n",
    "            node.leftChild = Node(value, node)\n",
    "    else:\n",
    "        if (node.rightChild != None):\n",
    "            insert(node.rightChild, value)\n",
    "        else:\n",
    "            node.rightChild = Node(value, node)"
   ]
  },
  {
   "cell_type": "markdown",
   "metadata": {},
   "source": [
    "<div style=\"direction:rtl;line-height:300%;\"><font face=\"B Nazanin\" size=5>\n",
    "<p></p>\n",
    "نکته: اگر د.د.ج را به صورت میان‌ترتیب پیمایش کنیم، اعداد را به صورت مرتب شده بدست می‌آوریم. چرا؟"
   ]
  },
  {
   "cell_type": "code",
   "execution_count": 6,
   "metadata": {},
   "outputs": [
    {
     "name": "stdout",
     "output_type": "stream",
     "text": [
      "InOrder print of the tree:\n",
      "1\n",
      "2\n",
      "3\n",
      "4\n",
      "5\n",
      "6\n",
      "7\n",
      "8\n",
      "9\n",
      "10\n",
      "('Searching value 8 in tree:', '5 9 8')\n",
      "('Path to the min node in tree:', <__main__.Node instance at 0x10bc78b48>)\n",
      "('Path to the max node in tree:', <__main__.Node instance at 0x10bc78488>)\n"
     ]
    }
   ],
   "source": [
    "def inOrderPrint(node):\n",
    "    if node is None:\n",
    "        return\n",
    "    inOrderPrint(node.leftChild)\n",
    "    print(node.label)\n",
    "    inOrderPrint(node.rightChild)\n",
    "root = Node(5, None)\n",
    "insert(root, 9)\n",
    "insert(root, 10)\n",
    "insert(root, 3)\n",
    "insert(root, 8)\n",
    "insert(root, 7)\n",
    "insert(root, 2)\n",
    "insert(root, 1)\n",
    "insert(root, 4)\n",
    "insert(root, 6)\n",
    "print(\"InOrder print of the tree:\")\n",
    "inOrderPrint(root)\n",
    "print (\"Searching value 8 in tree:\", str(search(root, 8)))\n",
    "print (\"Path to the min node in tree:\", findMin(root))\n",
    "print (\"Path to the max node in tree:\", findMax(root))"
   ]
  },
  {
   "cell_type": "markdown",
   "metadata": {},
   "source": [
    "<p></p>\n",
    "<br>\n",
    "<div style=\"direction:rtl;line-height:300%;\"><font face=\"B Nazanin\" size=5>\n",
    "<font color=#ff6600 size=6>\n",
    "<div id=\"delete\">\n",
    "حذف\n",
    "</div>\n",
    "</font>\n",
    "<p></p>\n",
    "\n",
    "برای حذف یک مقدار از درخت، ابتدا راس v دارای این مقدار را پیدا می‌کنیم. در این مرحله ۳ حالت پیش می‌آید:\n",
    "<ul>\n",
    "    <li> راس v بچه نداشته باشد: آن را حذف می‌کنیم. </li>\n",
    "    <li> راس v یک بچه داشته باشد: v را حذف می‌کنیم و بچه‌اش را جایش قرار می‌دهیم. </li>\n",
    "    <li> راس v دو بچه داشته باشد: در این صورت راس مینیمم در زیر درخت سمت راست v یا راس ماکزیمم در زیردرخت سمت چپ v را، به نام u را پیدا می‌کنیم. دقت کنید هرکدام از این راس‌ها را که به جای v قرار دهیم و v را حذف کنیم، هنوز شرط لازم برای د.د.ج بودن درخت برقرار است. برچسب راس u را در v قرار می‌دهیم و u را حذف می‌کنیم. از آنجا که u راس مینیمم یا ماکزیمم یک زیردرخت است، حداکثر یک بچه خواهد داشت و می‌شود طبق ۲ حالت اول این راس را حذف کرد. </li>\n",
    "</ul>\n",
    "<br></font>\n",
    "<img src=\"src/images/delete.png\" style=\"float:center;\">"
   ]
  },
  {
   "cell_type": "code",
   "execution_count": 7,
   "metadata": {
    "collapsed": true
   },
   "outputs": [],
   "source": [
    "def replaceNodeInParent(oldNode, newNode):\n",
    "    if root == oldNode:\n",
    "        root = newNode\n",
    "    if oldNode.parent: #oldNode is not root\n",
    "        if oldNode == oldNode.parent.leftChild:\n",
    "            oldNode.parent.leftChild = newNode\n",
    "        else:\n",
    "            oldNode.parent.rightChild = newNode\n",
    "    \n",
    "    if newNode:\n",
    "        newNode.parent = oldNode.parent\n",
    "        \n",
    "        \n",
    "def delete(node, value):\n",
    "    if node is None:\n",
    "        return\n",
    "    \n",
    "    if node.label < value:\n",
    "        delete(node.rightChild, value)\n",
    "    elif node.label > value:\n",
    "        delete(node.leftChild, value)\n",
    "    else: # node to be deleted is found\n",
    "        if node.leftChild and node.rightChild: #has 2 children\n",
    "            newNode = findMin(node.rightChild)\n",
    "            node.label = newNode.label\n",
    "            delete(newNode, newNode.label) #delete the new node\n",
    "        elif node.leftChild:\n",
    "            replaceNodeInParent(node, node.leftChild)\n",
    "        else:\n",
    "            replaceNodeInParent(node, node.rightChild)\n",
    "            # This works when node.rightChild is also None"
   ]
  },
  {
   "cell_type": "code",
   "execution_count": 7,
   "metadata": {},
   "outputs": [
    {
     "name": "stdout",
     "output_type": "stream",
     "text": [
      "1\n",
      "2\n",
      "3\n",
      "1\n",
      "3\n"
     ]
    }
   ],
   "source": [
    "root = Node(2, None)\n",
    "insert(root, 1)\n",
    "insert(root, 3)\n",
    "inOrderPrint(root)\n",
    "delete(root, 2)\n",
    "inOrderPrint(root)"
   ]
  },
  {
   "cell_type": "markdown",
   "metadata": {},
   "source": [
    "<p></p>\n",
    "<br>\n",
    "<div style=\"direction:rtl;line-height:300%;\"><font face=\"B Nazanin\" size=5>\n",
    "<font color=#FF7500 size=6>\n",
    "<div id=\"height\"><h1>\n",
    "میانگین ارتفاع درخت جست‌وجو\n",
    "</h1></div>\n",
    "</font>\n",
    "<p></p>\n",
    "\n",
    "<hr>\n",
    "در این جا به دادن شهود کلی بسنده می‌کنیم. (اثبات ریاضی دقیق آن را می‌توانید در کتاب دکتر قدسی مشاهده فرمایید.)\n",
    "<br>\n",
    "بدین منظور، تمامی جایگشت هایی ممکن را که می‌خواهیم در د.د.ج درج کنیم را در نظر می‌گیرم. توجه کنید عملیات درج هر جایگشتی هنگامی که به ترتیب و از ابتدای آن صورت بگیرد به دقیقا یک د.د.ج یکتا می‌انجامد، به عنوان مثال شکل زیر تمامی د.د.ج‌های حاصل از درج اعداد ۱ تا ۴ را نشان می‌دهد: \n",
    "<img src=\"src/images/A03.jpg\" style=\"float:center; width:50%\">\n",
    "همان طور که مشاهده می‌کنید، هر چه قدر د.د.ج متعادل‌تر باشد، تعداد بیشتری جایگشت با آن متناظر خواهند بود، این نکته کلیدی را به صورت زیر در حالت کلی بیان می‌کنیم:\n",
    "<br>\n",
    "تعداد جایگشت‌های متناظر با د.د.ج t را با p<sub>t</sub> نشان می‌دهیم، و همچنین زیر درخت سمت راست آن را با t<sub>r</sub> و زیردرخت سمت چپ آن را با t<sub>l</sub> نشان می‌دهیم، به شکل زیر توجه کنید:\n",
    "<img src=\"src/images/A1.jpg\" style=\"float:center; width:70%\">\n",
    "تعداد جایگشت‌هایی که با این در خت متناظر می‌شوند را می‌توان از فرمول زیر به دست آورد:\n",
    "<img src=\"src/images/A23.jpg\" style=\"float:center; width:40%\">\n",
    "حال در این فرمول،می‌توان نشان داد که هنگامی که |t<sub>l</sub>| و |t<sub>r</sub>| به هم نزدیک باشند، یعنی د.د.ج متعادل باشد، جزء انتخاب آن بسیار بسیار بزرگ تر از حالتی خواهد بود که این دو از هم فاصله داشته باشند. بنابراین هر چه درخت متعادل‌تر باشد، تعداد جایشگت بیشتری با آن متناظر خواهد شد.\n",
    "<br>\n",
    "پس به صورت شهودی در حالت میانگین، با یک درخت متعادل، که  مرتبه پیچیدگی ارتفاع آن از lgnاست مواجه خواهیم شد\n",
    "<br>\n",
    "در نمودار زیر هم که حاصل محاسبه میانیگن ارتفاع درخت برای حالت های مختلف است می‌توانید ببینید که این مقدار عددی بین ۳*lgn و ۲*lgn است!"
   ]
  },
  {
   "cell_type": "code",
   "execution_count": 8,
   "metadata": {},
   "outputs": [
    {
     "data": {
      "image/png": "[encoded data removed]",
      "text/plain": [
       "<matplotlib.figure.Figure at 0x10bd93890>"
      ]
     },
     "metadata": {},
     "output_type": "display_data"
    }
   ],
   "source": [
    "%matplotlib inline\n",
    "from matplotlib.pyplot import *\n",
    "import random\n",
    "\n",
    "def find_Height(node, height):\n",
    "    if(node  == None):\n",
    "        return height\n",
    "    return max(find_Height(node.leftChild,height+1.0),find_Height(node.rightChild,height+1.0))\n",
    "    \n",
    "\n",
    "def get_avg_height(a):\n",
    "    max_Sample_Size = 160\n",
    "    avg = 0.0;\n",
    "    for i in range(max_Sample_Size):\n",
    "        numbers = [[random.randrange(16000) for k in range(j)] for j in range(a)]\n",
    "        root = Node(numbers[0],None)\n",
    "        for j in range(1,len(numbers)):\n",
    "            insert(root,numbers[j])\n",
    "        avg = avg + find_Height(root,0.0)\n",
    "    return avg/float(max_Sample_Size)\n",
    "\n",
    "import math \n",
    "\n",
    "def plot2(N):\n",
    "    figure(figsize=(15, 10))\n",
    "    xlabel(\"Number of Nodes\")\n",
    "    ylabel(\"Height of BST\")\n",
    "    y = [get_avg_height(a) for a in N]\n",
    "    plot(N, y, 'r', label='Height of BST',linewidth=5)\n",
    "    y = [3*math.log(a,2) for a in N]\n",
    "    plot(N, y, 'b', label='3*lg(n)',linewidth=5)\n",
    "    y = [2*math.log(a,2) for a in N]\n",
    "    plot(N, y, 'g', label='2*lg(n)',linewidth=5)\n",
    "    legend(loc=2)\n",
    "N = np.power(1.6,range(1,16)).astype(int)\n",
    "plot2(N)"
   ]
  },
  {
   "cell_type": "markdown",
   "metadata": {
    "collapsed": true
   },
   "source": [
    "<p></p>\n",
    "<br>\n",
    "<div style=\"direction:rtl;line-height:300%;\"><font face=\"B Nazanin\" size=5>\n",
    "<font color=#ff6600 size=6>\n",
    "<p></p>\n",
    "<div id=\"lca\"><h1>\n",
    "پایین‌ترین جد مشترک\n",
    "</h1></div>\n",
    "</font>\n",
    "<p></p>\n",
    "در یک درخت ریشه‌دار پایین ترین جد مشترک\n",
    "(LCA)\n",
    "دو گره را دور‌ترین راس از ریشه تعریف می‌کنیم که جد هر دو گره باشد.\n",
    "<img src=\"src/images/lca.png\" style=\"float:center; width:70%\">\n",
    "<br>\n",
    "در اینجا به بررسی الگوریتم حل این مسئله برای یک د.د.ج می‌پردازیم.\n",
    "<hr>\n",
    "همان‌طور که می‌دانیم تمامی گره‌ها در د.د.ج منحصر به فرد هستند.\n",
    "گره‌های سمت راست ریشه از آن بزرگ‌تر و گره‌های سمت چپ آن از آن کوچک‌تر هستند و این موضوع به حالت بازگشتی برای همه گره‌ها برقرار است.\n",
    "<br>\n",
    "الگوریتم حل:\n",
    "<br>\n",
    "از ریشه شروع کرده و مقدار آن را با دو عدد داده شده مقایسه می‌کنیم.\n",
    "اگر از هردو آن ها کوچکتر بود به سراغ بچه سمت راست آن می‌رویم و اگر از هردوی آن‌ها بزرگتر بود به سراغ بچه سمت چپ آن می‌رویم.\n",
    "این الگوریتم بازگشتی را آنقدر ادامه می‌دهیم تا به گره‌ای برسیم که مقدار آن بین دو عدد داده شده مسئله باشد.\n",
    "\n",
    "\n",
    "\n",
    "\n",
    "\n",
    "\n"
   ]
  },
  {
   "cell_type": "code",
   "execution_count": 9,
   "metadata": {
    "collapsed": true
   },
   "outputs": [],
   "source": [
    "def lca(root, x, y):\n",
    "    if root.label > x and root.label > y:\n",
    "        lca(root.leftChild, x, y)\n",
    "    elif root.label < x and root.label < y:\n",
    "        lca(root.rightChild, x, y)\n",
    "    else:\n",
    "        print(root.label)"
   ]
  },
  {
   "cell_type": "code",
   "execution_count": 10,
   "metadata": {},
   "outputs": [
    {
     "name": "stdout",
     "output_type": "stream",
     "text": [
      "30\n"
     ]
    }
   ],
   "source": [
    "root = None\n",
    "root = Node(10, None)\n",
    "insert(root, -10)\n",
    "insert(root, 30)\n",
    "insert(root, 60)\n",
    "insert(root, 25)\n",
    "insert(root, 72)\n",
    "insert(root, 29)\n",
    "insert(root, 8)\n",
    "insert(root, 6)\n",
    "insert(root, 9)\n",
    "lca(root, 29, 72)"
   ]
  }
 ],
 "metadata": {
  "kernelspec": {
   "display_name": "Python 3",
   "language": "python",
   "name": "python3"
  },
  "language_info": {
   "codemirror_mode": {
    "name": "ipython",
    "version": 3
   },
   "file_extension": ".py",
   "mimetype": "text/x-python",
   "name": "python",
   "nbconvert_exporter": "python",
   "pygments_lexer": "ipython3",
   "version": "3.7.1"
  }
 },
 "nbformat": 4,
 "nbformat_minor": 1
}
