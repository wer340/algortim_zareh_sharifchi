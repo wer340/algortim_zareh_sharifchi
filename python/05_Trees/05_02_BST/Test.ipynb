{
 "cells": [
  {
   "cell_type": "code",
   "execution_count": 10,
   "metadata": {
    "collapsed": false,
    "deletable": true,
    "editable": true
   },
   "outputs": [],
   "source": [
    "class Node:\n",
    "    def __init__(self, label):\n",
    "        self.left = None\n",
    "        self.right = None\n",
    "        self.label = label\n",
    "    \n",
    "    def insert(self, label):\n",
    "        if self.label > label:\n",
    "            if self.left is None:\n",
    "                self.left = Node(label)\n",
    "            else:\n",
    "                self.left.insert(label)\n",
    "        else:\n",
    "            if self.right is None:\n",
    "                self.right = Node(label)\n",
    "            else:\n",
    "                self.right.insert(label)  \n",
    "                \n",
    "def search(node, label):\n",
    "    if node is None: \n",
    "        return False\n",
    "    if node.label == label: \n",
    "        return True\n",
    "    if node.label > label:\n",
    "        return search(node.left, label)\n",
    "    return search(node.right, label)\n",
    "        "
   ]
  },
  {
   "cell_type": "code",
   "execution_count": 18,
   "metadata": {
    "collapsed": false,
    "deletable": true,
    "editable": true
   },
   "outputs": [
    {
     "name": "stdout",
     "output_type": "stream",
     "text": [
      "True\n",
      "True\n",
      "False\n",
      "True\n",
      "False\n"
     ]
    }
   ],
   "source": [
    "root = Node(15)\n",
    "values = [8, -37, 5, 13, 19, 45, 2, 6, -9, 14, 18, 25, 40, 60]\n",
    "for i in values:\n",
    "    root.insert(i)\n",
    "    \n",
    "print(search(root, 8))\n",
    "print(search(root, 25))\n",
    "print(search(root, 26))\n",
    "root.insert(26)\n",
    "print(search(root, -9))\n",
    "print(search(root, -10))\n",
    "\n",
    "\n"
   ]
  }
 ],
 "metadata": {
  "kernelspec": {
   "display_name": "Python 3",
   "language": "python",
   "name": "python3"
  },
  "language_info": {
   "codemirror_mode": {
    "name": "ipython",
    "version": 3
   },
   "file_extension": ".py",
   "mimetype": "text/x-python",
   "name": "python",
   "nbconvert_exporter": "python",
   "pygments_lexer": "ipython3",
   "version": "3.5.2"
  }
 },
 "nbformat": 4,
 "nbformat_minor": 0
}
