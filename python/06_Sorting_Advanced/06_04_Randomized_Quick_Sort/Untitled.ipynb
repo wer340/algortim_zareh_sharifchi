{
 "cells": [
  {
   "cell_type": "code",
   "execution_count": 33,
   "metadata": {},
   "outputs": [],
   "source": [
    "import random\n",
    "def QSort(A, start, end):\n",
    "    global counter1\n",
    "    if end - start < 1:\n",
    "        return\n",
    "    \n",
    "    # Selecting pivot\n",
    "    m = random.randint(start, end)\n",
    "    A[start],A[m] = A[m], A[start]\n",
    "    pivot = A[start]\n",
    "    \n",
    "    # Partition\n",
    "    p1 = start + 1\n",
    "    p2 = end\n",
    "    while p1 <= p2:\n",
    "        while p1 <= p2 and A[p1] <= pivot:\n",
    "            p1 += 1\n",
    "        while p2 >= p1 and A[p2] >= pivot:\n",
    "            p2 -= 1\n",
    "        if p1 < p2:\n",
    "            A[p1], A[p2] = A[p2], A[p1]\n",
    "            counter1 += 1\n",
    "    A[p2], A[start] = A[start], A[p2]\n",
    "    counter1 += 1\n",
    "    QSort(A, start, p2 - 1)\n",
    "    QSort(A, p2 + 1, end)"
   ]
  },
  {
   "cell_type": "code",
   "execution_count": 45,
   "metadata": {},
   "outputs": [],
   "source": [
    "A = []\n",
    "for i in range(100):\n",
    "    A.append(random.randint(0, 100000))\n",
    "counter1 = 0\n",
    "counter2 = 0"
   ]
  },
  {
   "cell_type": "code",
   "execution_count": 46,
   "metadata": {},
   "outputs": [
    {
     "name": "stdout",
     "output_type": "stream",
     "text": [
      "[68913, 11450, 10810, 77581, 66039, 82352, 92372, 95267, 20355, 30457, 59400, 51515, 33672, 31912, 53180, 71060, 3436, 95955, 32089, 12467, 94396, 93831, 19880, 73092, 41616, 49157, 73788, 76597, 50106, 12838, 51364, 83593, 61998, 35564, 63489, 83894, 47294, 70475, 56572, 65580, 85368, 43898, 67574, 79769, 14968, 14904, 15650, 22546, 94645, 58078, 75183, 1878, 99310, 23448, 54285, 5855, 23952, 59453, 48955, 59633, 10672, 67682, 43636, 80096, 91754, 41565, 56948, 43412, 26042, 67841, 20795, 4942, 87100, 90390, 78480, 8290, 77013, 88904, 39645, 68621, 61199, 36398, 89013, 42014, 37151, 99705, 14908, 82684, 99168, 59175, 58700, 19964, 35130, 63077, 13279, 54119, 24695, 80257, 84622, 62749]\n",
      "first implementation:161\n",
      "second implementation:552\n"
     ]
    }
   ],
   "source": [
    "print(A)\n",
    "B = A.copy()\n",
    "QSort(A, 0, len(A) - 1)\n",
    "QSort2(B, 0, len(B))\n",
    "#print(A)\n",
    "#print(B)\n",
    "print(\"first implementation:\" + str(counter1))\n",
    "print(\"second implementation:\" + str(counter2))"
   ]
  },
  {
   "cell_type": "code",
   "execution_count": 36,
   "metadata": {},
   "outputs": [],
   "source": [
    "import random\n",
    "def QSort2(A, start, end):\n",
    "    global counter2\n",
    "    if start + 1 >= end:\n",
    "        return\n",
    "    \n",
    "    pivot = start\n",
    "    for i in range(start+1, end):\n",
    "        if A[i] <= A[pivot]:\n",
    "            A[pivot+1], A[i] = A[i], A[pivot+1]\n",
    "            A[pivot], A[pivot+1] = A[pivot+1], A[pivot]\n",
    "            counter2 += 2\n",
    "            pivot += 1\n",
    "    QSort2(A, start, pivot)\n",
    "    QSort2(A, pivot+1, end)"
   ]
  }
 ],
 "metadata": {
  "kernelspec": {
   "display_name": "Python 3",
   "language": "python",
   "name": "python3"
  },
  "language_info": {
   "codemirror_mode": {
    "name": "ipython",
    "version": 3
   },
   "file_extension": ".py",
   "mimetype": "text/x-python",
   "name": "python",
   "nbconvert_exporter": "python",
   "pygments_lexer": "ipython3",
   "version": "3.7.1"
  }
 },
 "nbformat": 4,
 "nbformat_minor": 2
}
