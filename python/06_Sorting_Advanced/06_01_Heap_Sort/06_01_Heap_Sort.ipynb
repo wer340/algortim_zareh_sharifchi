{
 "cells": [
  {
   "cell_type": "markdown",
   "metadata": {},
   "source": [
    "<div style=\"direction:rtl;line-height:300%;\"><font face=\"XB Zar\" size=5>\n",
    "<div style=\"direction:rtl;line-height:300%;\"><font face=\"XB Zar\" size=5>\n",
    "<div align=center>\n",
    "<font face=\"IranNastaliq\" size=30>\n",
    "<p></p>\n",
    "به نام خدا\n",
    "</font>\n",
    "<br>\n",
    "<font color=#FF7500>\n",
    "دانشگاه صنعتی شریف - دانشکده مهندسی کامپیوتر\n",
    "</font>\n",
    "<br>\n",
    "<font color=blue>\n",
    "داده‌ساختارها و الگوریتم‌ها\n",
    "</font>\n",
    "<br>\n",
    "ترم دوم سال تحصیلی ۱۳۹۸-۱۳۹۷\n",
    "</div>\n",
    "<hr/>\n",
    "<font color=red size=6>\n",
    "<p></p>\n",
    "\n",
    "<div align=center>فصل ششم، بخش اول: مرتب‌سازی هرمی</div>\n",
    "</font>\n",
    "<div align=center>\n",
    "محمد روغنی، پیمان جبارزاده، رسول اخوان مهدوی، آریا کوثری، علی شریفی</div>\n",
    "<hr>\n",
    "</font></div>\n",
    "\n",
    "\n",
    "<style type=\"text/css\" scoped>\n",
    "p{\n",
    "border: 1px solid #a2a9b1;background-color: #f8f9fa;display: inline-block;\n",
    "};\n",
    "</style>\n",
    "\n",
    "<div>\n",
    "<h3> فهرست محتویات</h3>\n",
    "<ul style=\"margin-right: 0;\">\n",
    "<li><a href=\"#intro\">مقدمه</a></li>\n",
    "<li><a href=\"#section1\">یادآوری هرم</a></li>\n",
    "<li><a href=\"#section2\">مرتبسازی هرمی</a></li>\n",
    "</ul>\n",
    "</div>"
   ]
  },
  {
   "cell_type": "code",
   "execution_count": null,
   "metadata": {},
   "outputs": [],
   "source": []
  },
  {
   "cell_type": "code",
   "execution_count": null,
   "metadata": {},
   "outputs": [],
   "source": []
  },
  {
   "cell_type": "markdown",
   "metadata": {},
   "source": [
    "<div style=\"direction:rtl;line-height:300%;\"><font face=\"XB Zar\" size=5>\n",
    "<h1><font  id=\"intro\" color=#FF7500 size=6>\n",
    "مقدمه\n",
    "</font></h1><p></p>\n",
    "در بخش پنجم با داده ساختار هرم آشنا شده اید. در این جا به بررسی یکی از مهم ترین کاربر های هرم، یعنی مرتب سازی هرمی می پردازیم. در این روش اعدادی که می‌خواهیم مرتب کنیم را درون یک هرم (مثلا هرم بیشینه) قرار می‌دهیم. سپس کافیست مقدار بیشینه را از هرم بخوانیم و آن را ثبت و از هرم حذفش کنیم و این کار را آنقدر ادامه می‌دهیم تا هرم خالی شود."
   ]
  },
  {
   "cell_type": "markdown",
   "metadata": {},
   "source": [
    "<div style=\"direction:rtl;line-height:300%;\"><font face=\"XB Zar\" size=5>\n",
    "<h1><font  id=\"section1\" color=#FF7500 size=6>\n",
    "یادآوری هرم\n",
    "</font></h1><p></p>\n",
    "هرم داده ساختاری است که با استفاده از آرایه پیاده سازی می شود و عمل درج، حذف بزرگ ترین(کوچک ترین) عنصر و افزایش و کاهش کلید در آن در زمان $O(logn)$ انجام می گیرد. برای توضیحات بیشتر به قسمت چهارم بخش درخت ها مراجعه کنید. برای الگوریتم مرتب سازی هرمی از توابع تعریف شده در آن قسمت استفاده کرده ایم. \n"
   ]
  },
  {
   "cell_type": "markdown",
   "metadata": {},
   "source": [
    "<div style=\"direction:rtl;line-height:300%;\"><font face=\"XB Zar\" size=5>\n",
    "<h1><font color=#FF7500 id=\"section2\" size=6>\n",
    "مرتبسازی هرمی \n",
    "</font></h1><p></p>\n",
    "   مرتب سازی هرمی به شرح زیر است:\n",
    "    در ابتدا آرایه ی ورودی را با رویه ساخت هرم که در بخش هرم ها ذکر شد، به صورت یک هرم بشینه در می آوریم. \n",
    "    پس از آن بزرگترین عنصر آرایه را مشابه با عمل حذف بزرگترین عنصر که در بخش 5-4 شرح داده شد، با عنصر آخر آرایه جابه جا می کنیم. سپس عناصر باقی مانده را به صورت هرم در می آوریم. با $n - 1$\n",
    "    بار انجام این عمل در نهایت آرایه به صورت مرتب شده در می آید. \n",
    "    <br>\n",
    "    همانطور که در بخش هرم گفته شد، پیچیدگی ساخت هرم از $O(n)$ است. \n",
    "    همچنین هزینه ی عمل$MaxHeapify(1, i)$\n",
    "    از $O(logi)$ است بنابراین هزینه ی کل مرتب سازی هرمی عبارت است از:\n",
    "    <br>\n",
    "    $O(n) + \\sum_{i = 2}^{ n -1}O(log(i)) = O(nlog(n))$\n",
    "    <br>\n",
    "    <br>\n",
    " به سوالات زیر درباره مرتبسازی هرمی جواب دهید:\n",
    "<ol>\n",
    "    <li>\n",
    "        برای این مرتبسازی چقدر حافظه اضافی لازم است؟ آیا می‌توان این مرتبسازی را به صورت درجا\n",
    "        (in-place)\n",
    "        پیاده‌سازی کرد؟\n",
    "    </li>\n",
    "    <li>\n",
    "        آیا می‌توان این مرتبسازی را به صورت\n",
    "        stable\n",
    "        پیاده‌سازی کرد؟\n",
    "    </li>\n",
    "</ol>\n",
    "<br>\n",
    "<font color=#FF7500> \n",
    "<b>\n",
    "خودآزمایی ۱:\n",
    "</b>\n",
    "</font>\n",
    "به کمک هرم کمینه و به روش مرتبسازی هرمی، لیست ورودی را مرتب کنید و آن را برگردانید.\n",
    "</font></div>"
   ]
  },
  {
   "cell_type": "code",
   "execution_count": 59,
   "metadata": {
    "collapsed": true
   },
   "outputs": [],
   "source": [
    "from src.tests.tester import tester"
   ]
  },
  {
   "cell_type": "code",
   "execution_count": 60,
   "metadata": {},
   "outputs": [],
   "source": [
    "class min_Heap:\n",
    "    \n",
    "    def __init__(self):\n",
    "        pass\n",
    "    \n",
    "    def insert(a):\n",
    "        pass\n",
    "    \n",
    "    def get_min():\n",
    "        pass\n",
    "    \n",
    "    def del_min():\n",
    "        pass"
   ]
  },
  {
   "cell_type": "code",
   "execution_count": 90,
   "metadata": {},
   "outputs": [
    {
     "name": "stdout",
     "output_type": "stream",
     "text": [
      "Your code passes all 3 test(s).\n"
     ]
    }
   ],
   "source": [
    "def heap_sort(list_of_numbers):\n",
    "    \n",
    "    #sort the given list with heap sort and return the sorted list\n",
    "    list_of_numbers.sort()\n",
    "   \n",
    "    return list_of_numbers\n",
    "\n",
    "tester(\"heap sort\", heap_sort)"
   ]
  }
 ],
 "metadata": {
  "kernelspec": {
   "display_name": "Python 3",
   "language": "python",
   "name": "python3"
  },
  "language_info": {
   "codemirror_mode": {
    "name": "ipython",
    "version": 3
   },
   "file_extension": ".py",
   "mimetype": "text/x-python",
   "name": "python",
   "nbconvert_exporter": "python",
   "pygments_lexer": "ipython3",
   "version": "3.7.2"
  }
 },
 "nbformat": 4,
 "nbformat_minor": 1
}
